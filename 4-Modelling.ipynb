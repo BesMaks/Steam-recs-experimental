{
 "cells": [
  {
   "cell_type": "markdown",
   "metadata": {
    "pycharm": {
     "name": "#%% md\n"
    }
   },
   "source": [
    "# Modelling"
   ]
  },
  {
   "cell_type": "markdown",
   "metadata": {
    "pycharm": {
     "name": "#%% md\n"
    }
   },
   "source": [
    "In this Notebook, we will build our recommendation system. As discussed in the Master Notebook, we are after both user recommendations and similar item recommendations."
   ]
  },
  {
   "cell_type": "code",
   "execution_count": 1,
   "metadata": {
    "pycharm": {
     "name": "#%%\n"
    }
   },
   "outputs": [
    {
     "name": "stderr",
     "output_type": "stream",
     "text": [
      "e:\\DS-projects\\venv38-64\\lib\\site-packages\\lightfm\\_lightfm_fast.py:9: UserWarning: LightFM was compiled without OpenMP support. Only a single thread will be used.\n",
      "  warnings.warn(\n"
     ]
    }
   ],
   "source": [
    "# Import libraries\n",
    "\n",
    "import pandas as pd\n",
    "import numpy as np\n",
    "import matplotlib.pyplot as plt\n",
    "%matplotlib inline\n",
    "\n",
    "from scipy import sparse\n",
    "from scipy.spatial import distance\n",
    "\n",
    "from lightfm import LightFM\n",
    "from sklearn.metrics.pairwise import cosine_similarity\n",
    "from lightfm.evaluation import precision_at_k\n",
    "from lightfm.evaluation import auc_score\n",
    "\n",
    "from scipy.spatial import distance\n",
    "\n",
    "from sklearn.manifold import TSNE\n",
    "\n",
    "import gensim.models.keyedvectors as gmk\n",
    "\n",
    "import textwrap\n",
    "\n",
    "from resources import *\n",
    "\n",
    "#Import Warnings\n",
    "import warnings\n",
    "\n",
    "warnings.filterwarnings(\"ignore\")"
   ]
  },
  {
   "attachments": {},
   "cell_type": "markdown",
   "metadata": {
    "pycharm": {
     "name": "#%% md\n"
    }
   },
   "source": [
    "Update the `resources.py`"
   ]
  },
  {
   "cell_type": "code",
   "execution_count": 2,
   "metadata": {
    "pycharm": {
     "name": "#%%\n"
    }
   },
   "outputs": [],
   "source": [
    "%run resources.py"
   ]
  },
  {
   "cell_type": "markdown",
   "metadata": {
    "pycharm": {
     "name": "#%% md\n"
    }
   },
   "source": [
    "## Load data"
   ]
  },
  {
   "cell_type": "markdown",
   "metadata": {
    "pycharm": {
     "name": "#%% md\n"
    }
   },
   "source": [
    "We begin by loading the `recdata.csv` file, which specifically contains the user ids `uid` and game ids `id` owned."
   ]
  },
  {
   "cell_type": "code",
   "execution_count": 3,
   "metadata": {
    "pycharm": {
     "name": "#%%\n"
    },
    "scrolled": true
   },
   "outputs": [
    {
     "data": {
      "text/html": [
       "<div>\n",
       "<style scoped>\n",
       "    .dataframe tbody tr th:only-of-type {\n",
       "        vertical-align: middle;\n",
       "    }\n",
       "\n",
       "    .dataframe tbody tr th {\n",
       "        vertical-align: top;\n",
       "    }\n",
       "\n",
       "    .dataframe thead th {\n",
       "        text-align: right;\n",
       "    }\n",
       "</style>\n",
       "<table border=\"1\" class=\"dataframe\">\n",
       "  <thead>\n",
       "    <tr style=\"text-align: right;\">\n",
       "      <th></th>\n",
       "      <th>uid</th>\n",
       "      <th>id</th>\n",
       "      <th>owned</th>\n",
       "    </tr>\n",
       "  </thead>\n",
       "  <tbody>\n",
       "    <tr>\n",
       "      <th>0</th>\n",
       "      <td>0</td>\n",
       "      <td>10</td>\n",
       "      <td>1.0</td>\n",
       "    </tr>\n",
       "    <tr>\n",
       "      <th>1</th>\n",
       "      <td>1</td>\n",
       "      <td>10</td>\n",
       "      <td>1.0</td>\n",
       "    </tr>\n",
       "    <tr>\n",
       "      <th>2</th>\n",
       "      <td>3</td>\n",
       "      <td>10</td>\n",
       "      <td>1.0</td>\n",
       "    </tr>\n",
       "    <tr>\n",
       "      <th>3</th>\n",
       "      <td>4</td>\n",
       "      <td>10</td>\n",
       "      <td>1.0</td>\n",
       "    </tr>\n",
       "    <tr>\n",
       "      <th>4</th>\n",
       "      <td>10</td>\n",
       "      <td>10</td>\n",
       "      <td>1.0</td>\n",
       "    </tr>\n",
       "  </tbody>\n",
       "</table>\n",
       "</div>"
      ],
      "text/plain": [
       "   uid  id  owned\n",
       "0    0  10    1.0\n",
       "1    1  10    1.0\n",
       "2    3  10    1.0\n",
       "3    4  10    1.0\n",
       "4   10  10    1.0"
      ]
     },
     "execution_count": 3,
     "metadata": {},
     "output_type": "execute_result"
    }
   ],
   "source": [
    "# Load user items data\n",
    "recdata = pd.read_csv('recdata.csv', index_col=0)\n",
    "recdata = recdata.rename(columns={'variable': 'id', 'value': 'owned'})\n",
    "recdata.head()"
   ]
  },
  {
   "cell_type": "markdown",
   "metadata": {
    "pycharm": {
     "name": "#%% md\n"
    }
   },
   "source": [
    "We also load the `gamesdata.csv` file, which has the game names and details."
   ]
  },
  {
   "cell_type": "code",
   "execution_count": 4,
   "metadata": {
    "pycharm": {
     "name": "#%%\n"
    }
   },
   "outputs": [
    {
     "data": {
      "text/html": [
       "<div>\n",
       "<style scoped>\n",
       "    .dataframe tbody tr th:only-of-type {\n",
       "        vertical-align: middle;\n",
       "    }\n",
       "\n",
       "    .dataframe tbody tr th {\n",
       "        vertical-align: top;\n",
       "    }\n",
       "\n",
       "    .dataframe thead th {\n",
       "        text-align: right;\n",
       "    }\n",
       "</style>\n",
       "<table border=\"1\" class=\"dataframe\">\n",
       "  <thead>\n",
       "    <tr style=\"text-align: right;\">\n",
       "      <th></th>\n",
       "      <th>publisher</th>\n",
       "      <th>genres</th>\n",
       "      <th>app_name</th>\n",
       "      <th>title</th>\n",
       "      <th>url</th>\n",
       "      <th>release_date</th>\n",
       "      <th>tags</th>\n",
       "      <th>discount_price</th>\n",
       "      <th>reviews_url</th>\n",
       "      <th>specs</th>\n",
       "      <th>price</th>\n",
       "      <th>early_access</th>\n",
       "      <th>id</th>\n",
       "      <th>developer</th>\n",
       "      <th>sentiment</th>\n",
       "      <th>metascore</th>\n",
       "    </tr>\n",
       "  </thead>\n",
       "  <tbody>\n",
       "    <tr>\n",
       "      <th>0</th>\n",
       "      <td>Kotoshiro</td>\n",
       "      <td>['Action', 'Casual', 'Indie', 'Simulation', 'S...</td>\n",
       "      <td>Lost Summoner Kitty</td>\n",
       "      <td>Lost Summoner Kitty</td>\n",
       "      <td>http://store.steampowered.com/app/761140/Lost_...</td>\n",
       "      <td>2018-01-04</td>\n",
       "      <td>['Strategy', 'Action', 'Indie', 'Casual', 'Sim...</td>\n",
       "      <td>4.49</td>\n",
       "      <td>http://steamcommunity.com/app/761140/reviews/?...</td>\n",
       "      <td>['Single-player']</td>\n",
       "      <td>4.99</td>\n",
       "      <td>False</td>\n",
       "      <td>761140.0</td>\n",
       "      <td>Kotoshiro</td>\n",
       "      <td>NaN</td>\n",
       "      <td>NaN</td>\n",
       "    </tr>\n",
       "    <tr>\n",
       "      <th>1</th>\n",
       "      <td>Making Fun, Inc.</td>\n",
       "      <td>['Free to Play', 'Indie', 'RPG', 'Strategy']</td>\n",
       "      <td>Ironbound</td>\n",
       "      <td>Ironbound</td>\n",
       "      <td>http://store.steampowered.com/app/643980/Ironb...</td>\n",
       "      <td>2018-01-04</td>\n",
       "      <td>['Free to Play', 'Strategy', 'Indie', 'RPG', '...</td>\n",
       "      <td>NaN</td>\n",
       "      <td>http://steamcommunity.com/app/643980/reviews/?...</td>\n",
       "      <td>['Single-player', 'Multi-player', 'Online Mult...</td>\n",
       "      <td>Free To Play</td>\n",
       "      <td>False</td>\n",
       "      <td>643980.0</td>\n",
       "      <td>Secret Level SRL</td>\n",
       "      <td>Mostly Positive</td>\n",
       "      <td>NaN</td>\n",
       "    </tr>\n",
       "    <tr>\n",
       "      <th>2</th>\n",
       "      <td>Poolians.com</td>\n",
       "      <td>['Casual', 'Free to Play', 'Indie', 'Simulatio...</td>\n",
       "      <td>Real Pool 3D - Poolians</td>\n",
       "      <td>Real Pool 3D - Poolians</td>\n",
       "      <td>http://store.steampowered.com/app/670290/Real_...</td>\n",
       "      <td>2017-07-24</td>\n",
       "      <td>['Free to Play', 'Simulation', 'Sports', 'Casu...</td>\n",
       "      <td>NaN</td>\n",
       "      <td>http://steamcommunity.com/app/670290/reviews/?...</td>\n",
       "      <td>['Single-player', 'Multi-player', 'Online Mult...</td>\n",
       "      <td>Free to Play</td>\n",
       "      <td>False</td>\n",
       "      <td>670290.0</td>\n",
       "      <td>Poolians.com</td>\n",
       "      <td>Mostly Positive</td>\n",
       "      <td>NaN</td>\n",
       "    </tr>\n",
       "    <tr>\n",
       "      <th>3</th>\n",
       "      <td>彼岸领域</td>\n",
       "      <td>['Action', 'Adventure', 'Casual']</td>\n",
       "      <td>弹炸人2222</td>\n",
       "      <td>弹炸人2222</td>\n",
       "      <td>http://store.steampowered.com/app/767400/2222/</td>\n",
       "      <td>2017-12-07</td>\n",
       "      <td>['Action', 'Adventure', 'Casual']</td>\n",
       "      <td>0.83</td>\n",
       "      <td>http://steamcommunity.com/app/767400/reviews/?...</td>\n",
       "      <td>['Single-player']</td>\n",
       "      <td>0.99</td>\n",
       "      <td>False</td>\n",
       "      <td>767400.0</td>\n",
       "      <td>彼岸领域</td>\n",
       "      <td>NaN</td>\n",
       "      <td>NaN</td>\n",
       "    </tr>\n",
       "    <tr>\n",
       "      <th>4</th>\n",
       "      <td>NaN</td>\n",
       "      <td>NaN</td>\n",
       "      <td>Log Challenge</td>\n",
       "      <td>NaN</td>\n",
       "      <td>http://store.steampowered.com/app/773570/Log_C...</td>\n",
       "      <td>NaN</td>\n",
       "      <td>['Action', 'Indie', 'Casual', 'Sports']</td>\n",
       "      <td>1.79</td>\n",
       "      <td>http://steamcommunity.com/app/773570/reviews/?...</td>\n",
       "      <td>['Single-player', 'Full controller support', '...</td>\n",
       "      <td>2.99</td>\n",
       "      <td>False</td>\n",
       "      <td>773570.0</td>\n",
       "      <td>NaN</td>\n",
       "      <td>NaN</td>\n",
       "      <td>NaN</td>\n",
       "    </tr>\n",
       "    <tr>\n",
       "      <th>5</th>\n",
       "      <td>Trickjump Games Ltd</td>\n",
       "      <td>['Action', 'Adventure', 'Simulation']</td>\n",
       "      <td>Battle Royale Trainer</td>\n",
       "      <td>Battle Royale Trainer</td>\n",
       "      <td>http://store.steampowered.com/app/772540/Battl...</td>\n",
       "      <td>2018-01-04</td>\n",
       "      <td>['Action', 'Adventure', 'Simulation', 'FPS', '...</td>\n",
       "      <td>NaN</td>\n",
       "      <td>http://steamcommunity.com/app/772540/reviews/?...</td>\n",
       "      <td>['Single-player', 'Steam Achievements']</td>\n",
       "      <td>3.99</td>\n",
       "      <td>False</td>\n",
       "      <td>772540.0</td>\n",
       "      <td>Trickjump Games Ltd</td>\n",
       "      <td>Mixed</td>\n",
       "      <td>NaN</td>\n",
       "    </tr>\n",
       "    <tr>\n",
       "      <th>6</th>\n",
       "      <td>NaN</td>\n",
       "      <td>['Free to Play', 'Indie', 'Simulation', 'Sports']</td>\n",
       "      <td>SNOW - All Access Basic Pass</td>\n",
       "      <td>SNOW - All Access Basic Pass</td>\n",
       "      <td>http://store.steampowered.com/app/774276/SNOW_...</td>\n",
       "      <td>2018-01-04</td>\n",
       "      <td>['Free to Play', 'Indie', 'Simulation', 'Sports']</td>\n",
       "      <td>NaN</td>\n",
       "      <td>http://steamcommunity.com/app/774276/reviews/?...</td>\n",
       "      <td>['Single-player', 'Multi-player', 'Online Mult...</td>\n",
       "      <td>9.99</td>\n",
       "      <td>False</td>\n",
       "      <td>774276.0</td>\n",
       "      <td>Poppermost Productions</td>\n",
       "      <td>NaN</td>\n",
       "      <td>NaN</td>\n",
       "    </tr>\n",
       "    <tr>\n",
       "      <th>7</th>\n",
       "      <td>Poppermost Productions</td>\n",
       "      <td>['Free to Play', 'Indie', 'Simulation', 'Sports']</td>\n",
       "      <td>SNOW - All Access Pro Pass</td>\n",
       "      <td>SNOW - All Access Pro Pass</td>\n",
       "      <td>http://store.steampowered.com/app/774277/SNOW_...</td>\n",
       "      <td>2018-01-04</td>\n",
       "      <td>['Free to Play', 'Indie', 'Simulation', 'Sports']</td>\n",
       "      <td>NaN</td>\n",
       "      <td>http://steamcommunity.com/app/774277/reviews/?...</td>\n",
       "      <td>['Single-player', 'Multi-player', 'Online Mult...</td>\n",
       "      <td>18.99</td>\n",
       "      <td>False</td>\n",
       "      <td>774277.0</td>\n",
       "      <td>Poppermost Productions</td>\n",
       "      <td>NaN</td>\n",
       "      <td>NaN</td>\n",
       "    </tr>\n",
       "    <tr>\n",
       "      <th>8</th>\n",
       "      <td>Poppermost Productions</td>\n",
       "      <td>['Free to Play', 'Indie', 'Simulation', 'Sports']</td>\n",
       "      <td>SNOW - All Access Legend Pass</td>\n",
       "      <td>SNOW - All Access Legend Pass</td>\n",
       "      <td>http://store.steampowered.com/app/774278/SNOW_...</td>\n",
       "      <td>2018-01-04</td>\n",
       "      <td>['Free to Play', 'Indie', 'Simulation', 'Sports']</td>\n",
       "      <td>NaN</td>\n",
       "      <td>http://steamcommunity.com/app/774278/reviews/?...</td>\n",
       "      <td>['Single-player', 'Multi-player', 'Online Mult...</td>\n",
       "      <td>29.99</td>\n",
       "      <td>False</td>\n",
       "      <td>774278.0</td>\n",
       "      <td>Poppermost Productions</td>\n",
       "      <td>NaN</td>\n",
       "      <td>NaN</td>\n",
       "    </tr>\n",
       "    <tr>\n",
       "      <th>9</th>\n",
       "      <td>RewindApp</td>\n",
       "      <td>['Casual', 'Indie', 'Racing', 'Simulation']</td>\n",
       "      <td>Race</td>\n",
       "      <td>Race</td>\n",
       "      <td>http://store.steampowered.com/app/768800/Race/</td>\n",
       "      <td>2018-01-04</td>\n",
       "      <td>['Indie', 'Casual', 'Simulation', 'Racing']</td>\n",
       "      <td>NaN</td>\n",
       "      <td>http://steamcommunity.com/app/768800/reviews/?...</td>\n",
       "      <td>['Single-player', 'Multi-player', 'Partial Con...</td>\n",
       "      <td>NaN</td>\n",
       "      <td>False</td>\n",
       "      <td>768800.0</td>\n",
       "      <td>RewindApp</td>\n",
       "      <td>NaN</td>\n",
       "      <td>NaN</td>\n",
       "    </tr>\n",
       "  </tbody>\n",
       "</table>\n",
       "</div>"
      ],
      "text/plain": [
       "                publisher                                             genres  \\\n",
       "0               Kotoshiro  ['Action', 'Casual', 'Indie', 'Simulation', 'S...   \n",
       "1        Making Fun, Inc.       ['Free to Play', 'Indie', 'RPG', 'Strategy']   \n",
       "2            Poolians.com  ['Casual', 'Free to Play', 'Indie', 'Simulatio...   \n",
       "3                    彼岸领域                  ['Action', 'Adventure', 'Casual']   \n",
       "4                     NaN                                                NaN   \n",
       "5     Trickjump Games Ltd              ['Action', 'Adventure', 'Simulation']   \n",
       "6                     NaN  ['Free to Play', 'Indie', 'Simulation', 'Sports']   \n",
       "7  Poppermost Productions  ['Free to Play', 'Indie', 'Simulation', 'Sports']   \n",
       "8  Poppermost Productions  ['Free to Play', 'Indie', 'Simulation', 'Sports']   \n",
       "9               RewindApp        ['Casual', 'Indie', 'Racing', 'Simulation']   \n",
       "\n",
       "                        app_name                          title  \\\n",
       "0            Lost Summoner Kitty            Lost Summoner Kitty   \n",
       "1                      Ironbound                      Ironbound   \n",
       "2        Real Pool 3D - Poolians        Real Pool 3D - Poolians   \n",
       "3                        弹炸人2222                        弹炸人2222   \n",
       "4                  Log Challenge                            NaN   \n",
       "5          Battle Royale Trainer          Battle Royale Trainer   \n",
       "6   SNOW - All Access Basic Pass   SNOW - All Access Basic Pass   \n",
       "7     SNOW - All Access Pro Pass     SNOW - All Access Pro Pass   \n",
       "8  SNOW - All Access Legend Pass  SNOW - All Access Legend Pass   \n",
       "9                           Race                           Race   \n",
       "\n",
       "                                                 url release_date  \\\n",
       "0  http://store.steampowered.com/app/761140/Lost_...   2018-01-04   \n",
       "1  http://store.steampowered.com/app/643980/Ironb...   2018-01-04   \n",
       "2  http://store.steampowered.com/app/670290/Real_...   2017-07-24   \n",
       "3     http://store.steampowered.com/app/767400/2222/   2017-12-07   \n",
       "4  http://store.steampowered.com/app/773570/Log_C...          NaN   \n",
       "5  http://store.steampowered.com/app/772540/Battl...   2018-01-04   \n",
       "6  http://store.steampowered.com/app/774276/SNOW_...   2018-01-04   \n",
       "7  http://store.steampowered.com/app/774277/SNOW_...   2018-01-04   \n",
       "8  http://store.steampowered.com/app/774278/SNOW_...   2018-01-04   \n",
       "9     http://store.steampowered.com/app/768800/Race/   2018-01-04   \n",
       "\n",
       "                                                tags  discount_price  \\\n",
       "0  ['Strategy', 'Action', 'Indie', 'Casual', 'Sim...            4.49   \n",
       "1  ['Free to Play', 'Strategy', 'Indie', 'RPG', '...             NaN   \n",
       "2  ['Free to Play', 'Simulation', 'Sports', 'Casu...             NaN   \n",
       "3                  ['Action', 'Adventure', 'Casual']            0.83   \n",
       "4            ['Action', 'Indie', 'Casual', 'Sports']            1.79   \n",
       "5  ['Action', 'Adventure', 'Simulation', 'FPS', '...             NaN   \n",
       "6  ['Free to Play', 'Indie', 'Simulation', 'Sports']             NaN   \n",
       "7  ['Free to Play', 'Indie', 'Simulation', 'Sports']             NaN   \n",
       "8  ['Free to Play', 'Indie', 'Simulation', 'Sports']             NaN   \n",
       "9        ['Indie', 'Casual', 'Simulation', 'Racing']             NaN   \n",
       "\n",
       "                                         reviews_url  \\\n",
       "0  http://steamcommunity.com/app/761140/reviews/?...   \n",
       "1  http://steamcommunity.com/app/643980/reviews/?...   \n",
       "2  http://steamcommunity.com/app/670290/reviews/?...   \n",
       "3  http://steamcommunity.com/app/767400/reviews/?...   \n",
       "4  http://steamcommunity.com/app/773570/reviews/?...   \n",
       "5  http://steamcommunity.com/app/772540/reviews/?...   \n",
       "6  http://steamcommunity.com/app/774276/reviews/?...   \n",
       "7  http://steamcommunity.com/app/774277/reviews/?...   \n",
       "8  http://steamcommunity.com/app/774278/reviews/?...   \n",
       "9  http://steamcommunity.com/app/768800/reviews/?...   \n",
       "\n",
       "                                               specs         price  \\\n",
       "0                                  ['Single-player']          4.99   \n",
       "1  ['Single-player', 'Multi-player', 'Online Mult...  Free To Play   \n",
       "2  ['Single-player', 'Multi-player', 'Online Mult...  Free to Play   \n",
       "3                                  ['Single-player']          0.99   \n",
       "4  ['Single-player', 'Full controller support', '...          2.99   \n",
       "5            ['Single-player', 'Steam Achievements']          3.99   \n",
       "6  ['Single-player', 'Multi-player', 'Online Mult...          9.99   \n",
       "7  ['Single-player', 'Multi-player', 'Online Mult...         18.99   \n",
       "8  ['Single-player', 'Multi-player', 'Online Mult...         29.99   \n",
       "9  ['Single-player', 'Multi-player', 'Partial Con...           NaN   \n",
       "\n",
       "   early_access        id               developer        sentiment  metascore  \n",
       "0         False  761140.0               Kotoshiro              NaN        NaN  \n",
       "1         False  643980.0        Secret Level SRL  Mostly Positive        NaN  \n",
       "2         False  670290.0            Poolians.com  Mostly Positive        NaN  \n",
       "3         False  767400.0                    彼岸领域              NaN        NaN  \n",
       "4         False  773570.0                     NaN              NaN        NaN  \n",
       "5         False  772540.0     Trickjump Games Ltd            Mixed        NaN  \n",
       "6         False  774276.0  Poppermost Productions              NaN        NaN  \n",
       "7         False  774277.0  Poppermost Productions              NaN        NaN  \n",
       "8         False  774278.0  Poppermost Productions              NaN        NaN  \n",
       "9         False  768800.0               RewindApp              NaN        NaN  "
      ]
     },
     "execution_count": 4,
     "metadata": {},
     "output_type": "execute_result"
    }
   ],
   "source": [
    "# Load games data\n",
    "gamesdata = pd.read_csv('gamesdata.csv', index_col=0)\n",
    "gamesdata.head(10)\n",
    "# gamesdata.columns"
   ]
  },
  {
   "cell_type": "markdown",
   "metadata": {
    "pycharm": {
     "name": "#%% md\n"
    }
   },
   "source": [
    "## Additional Preprocessing"
   ]
  },
  {
   "attachments": {},
   "cell_type": "markdown",
   "metadata": {
    "pycharm": {
     "name": "#%% md\n"
    }
   },
   "source": [
    "### Create interaction matrix, final data"
   ]
  },
  {
   "cell_type": "markdown",
   "metadata": {
    "pycharm": {
     "name": "#%% md\n"
    }
   },
   "source": [
    "We will create an interactions matrix using the user-item data. This is done using the `create_interaction_matrix` function, which can be found in `resources.py`."
   ]
  },
  {
   "cell_type": "code",
   "execution_count": 5,
   "metadata": {
    "pycharm": {
     "name": "#%%\n"
    },
    "scrolled": true
   },
   "outputs": [
    {
     "data": {
      "text/plain": [
       "(26214, 8657)"
      ]
     },
     "execution_count": 5,
     "metadata": {},
     "output_type": "execute_result"
    }
   ],
   "source": [
    "# Use create_interaction_matrix function\n",
    "interactions = create_interaction_matrix(\n",
    "    df=recdata, user_col=\"uid\", item_col=\"id\", rating_col=\"owned\"\n",
    ")\n",
    "interactions.shape\n"
   ]
  },
  {
   "cell_type": "markdown",
   "metadata": {
    "pycharm": {
     "name": "#%% md\n"
    }
   },
   "source": [
    "From the shape, we note that we have 69277 unique users and 8791 different games represented."
   ]
  },
  {
   "cell_type": "code",
   "execution_count": 6,
   "metadata": {
    "pycharm": {
     "name": "#%%\n"
    },
    "scrolled": false
   },
   "outputs": [
    {
     "data": {
      "text/html": [
       "<div>\n",
       "<style scoped>\n",
       "    .dataframe tbody tr th:only-of-type {\n",
       "        vertical-align: middle;\n",
       "    }\n",
       "\n",
       "    .dataframe tbody tr th {\n",
       "        vertical-align: top;\n",
       "    }\n",
       "\n",
       "    .dataframe thead th {\n",
       "        text-align: right;\n",
       "    }\n",
       "</style>\n",
       "<table border=\"1\" class=\"dataframe\">\n",
       "  <thead>\n",
       "    <tr style=\"text-align: right;\">\n",
       "      <th>id</th>\n",
       "      <th>10</th>\n",
       "      <th>20</th>\n",
       "      <th>30</th>\n",
       "      <th>40</th>\n",
       "      <th>50</th>\n",
       "      <th>60</th>\n",
       "      <th>70</th>\n",
       "      <th>80</th>\n",
       "      <th>130</th>\n",
       "      <th>220</th>\n",
       "      <th>...</th>\n",
       "      <th>526790</th>\n",
       "      <th>527340</th>\n",
       "      <th>527440</th>\n",
       "      <th>527510</th>\n",
       "      <th>527520</th>\n",
       "      <th>527810</th>\n",
       "      <th>527890</th>\n",
       "      <th>527900</th>\n",
       "      <th>528660</th>\n",
       "      <th>530720</th>\n",
       "    </tr>\n",
       "    <tr>\n",
       "      <th>uid</th>\n",
       "      <th></th>\n",
       "      <th></th>\n",
       "      <th></th>\n",
       "      <th></th>\n",
       "      <th></th>\n",
       "      <th></th>\n",
       "      <th></th>\n",
       "      <th></th>\n",
       "      <th></th>\n",
       "      <th></th>\n",
       "      <th></th>\n",
       "      <th></th>\n",
       "      <th></th>\n",
       "      <th></th>\n",
       "      <th></th>\n",
       "      <th></th>\n",
       "      <th></th>\n",
       "      <th></th>\n",
       "      <th></th>\n",
       "      <th></th>\n",
       "      <th></th>\n",
       "    </tr>\n",
       "  </thead>\n",
       "  <tbody>\n",
       "    <tr>\n",
       "      <th>0</th>\n",
       "      <td>1.0</td>\n",
       "      <td>1.0</td>\n",
       "      <td>1.0</td>\n",
       "      <td>1.0</td>\n",
       "      <td>1.0</td>\n",
       "      <td>1.0</td>\n",
       "      <td>1.0</td>\n",
       "      <td>0.0</td>\n",
       "      <td>1.0</td>\n",
       "      <td>1.0</td>\n",
       "      <td>...</td>\n",
       "      <td>0.0</td>\n",
       "      <td>0.0</td>\n",
       "      <td>0.0</td>\n",
       "      <td>0.0</td>\n",
       "      <td>0.0</td>\n",
       "      <td>0.0</td>\n",
       "      <td>0.0</td>\n",
       "      <td>0.0</td>\n",
       "      <td>0.0</td>\n",
       "      <td>0.0</td>\n",
       "    </tr>\n",
       "    <tr>\n",
       "      <th>1</th>\n",
       "      <td>1.0</td>\n",
       "      <td>1.0</td>\n",
       "      <td>1.0</td>\n",
       "      <td>1.0</td>\n",
       "      <td>1.0</td>\n",
       "      <td>1.0</td>\n",
       "      <td>1.0</td>\n",
       "      <td>1.0</td>\n",
       "      <td>1.0</td>\n",
       "      <td>1.0</td>\n",
       "      <td>...</td>\n",
       "      <td>0.0</td>\n",
       "      <td>0.0</td>\n",
       "      <td>0.0</td>\n",
       "      <td>0.0</td>\n",
       "      <td>0.0</td>\n",
       "      <td>0.0</td>\n",
       "      <td>0.0</td>\n",
       "      <td>0.0</td>\n",
       "      <td>0.0</td>\n",
       "      <td>0.0</td>\n",
       "    </tr>\n",
       "    <tr>\n",
       "      <th>2</th>\n",
       "      <td>0.0</td>\n",
       "      <td>0.0</td>\n",
       "      <td>0.0</td>\n",
       "      <td>0.0</td>\n",
       "      <td>0.0</td>\n",
       "      <td>0.0</td>\n",
       "      <td>0.0</td>\n",
       "      <td>0.0</td>\n",
       "      <td>0.0</td>\n",
       "      <td>1.0</td>\n",
       "      <td>...</td>\n",
       "      <td>0.0</td>\n",
       "      <td>0.0</td>\n",
       "      <td>0.0</td>\n",
       "      <td>0.0</td>\n",
       "      <td>0.0</td>\n",
       "      <td>0.0</td>\n",
       "      <td>0.0</td>\n",
       "      <td>0.0</td>\n",
       "      <td>0.0</td>\n",
       "      <td>0.0</td>\n",
       "    </tr>\n",
       "    <tr>\n",
       "      <th>3</th>\n",
       "      <td>1.0</td>\n",
       "      <td>1.0</td>\n",
       "      <td>1.0</td>\n",
       "      <td>1.0</td>\n",
       "      <td>1.0</td>\n",
       "      <td>1.0</td>\n",
       "      <td>1.0</td>\n",
       "      <td>1.0</td>\n",
       "      <td>1.0</td>\n",
       "      <td>1.0</td>\n",
       "      <td>...</td>\n",
       "      <td>0.0</td>\n",
       "      <td>0.0</td>\n",
       "      <td>0.0</td>\n",
       "      <td>0.0</td>\n",
       "      <td>0.0</td>\n",
       "      <td>0.0</td>\n",
       "      <td>0.0</td>\n",
       "      <td>0.0</td>\n",
       "      <td>0.0</td>\n",
       "      <td>0.0</td>\n",
       "    </tr>\n",
       "    <tr>\n",
       "      <th>4</th>\n",
       "      <td>1.0</td>\n",
       "      <td>1.0</td>\n",
       "      <td>1.0</td>\n",
       "      <td>1.0</td>\n",
       "      <td>1.0</td>\n",
       "      <td>1.0</td>\n",
       "      <td>1.0</td>\n",
       "      <td>1.0</td>\n",
       "      <td>1.0</td>\n",
       "      <td>1.0</td>\n",
       "      <td>...</td>\n",
       "      <td>0.0</td>\n",
       "      <td>0.0</td>\n",
       "      <td>0.0</td>\n",
       "      <td>0.0</td>\n",
       "      <td>0.0</td>\n",
       "      <td>0.0</td>\n",
       "      <td>0.0</td>\n",
       "      <td>0.0</td>\n",
       "      <td>0.0</td>\n",
       "      <td>0.0</td>\n",
       "    </tr>\n",
       "  </tbody>\n",
       "</table>\n",
       "<p>5 rows × 8657 columns</p>\n",
       "</div>"
      ],
      "text/plain": [
       "id   10      20      30      40      50      60      70      80      130     \\\n",
       "uid                                                                           \n",
       "0       1.0     1.0     1.0     1.0     1.0     1.0     1.0     0.0     1.0   \n",
       "1       1.0     1.0     1.0     1.0     1.0     1.0     1.0     1.0     1.0   \n",
       "2       0.0     0.0     0.0     0.0     0.0     0.0     0.0     0.0     0.0   \n",
       "3       1.0     1.0     1.0     1.0     1.0     1.0     1.0     1.0     1.0   \n",
       "4       1.0     1.0     1.0     1.0     1.0     1.0     1.0     1.0     1.0   \n",
       "\n",
       "id   220     ...  526790  527340  527440  527510  527520  527810  527890  \\\n",
       "uid          ...                                                           \n",
       "0       1.0  ...     0.0     0.0     0.0     0.0     0.0     0.0     0.0   \n",
       "1       1.0  ...     0.0     0.0     0.0     0.0     0.0     0.0     0.0   \n",
       "2       1.0  ...     0.0     0.0     0.0     0.0     0.0     0.0     0.0   \n",
       "3       1.0  ...     0.0     0.0     0.0     0.0     0.0     0.0     0.0   \n",
       "4       1.0  ...     0.0     0.0     0.0     0.0     0.0     0.0     0.0   \n",
       "\n",
       "id   527900  528660  530720  \n",
       "uid                          \n",
       "0       0.0     0.0     0.0  \n",
       "1       0.0     0.0     0.0  \n",
       "2       0.0     0.0     0.0  \n",
       "3       0.0     0.0     0.0  \n",
       "4       0.0     0.0     0.0  \n",
       "\n",
       "[5 rows x 8657 columns]"
      ]
     },
     "execution_count": 6,
     "metadata": {},
     "output_type": "execute_result"
    }
   ],
   "source": [
    "# Preview head\n",
    "interactions.head()"
   ]
  },
  {
   "cell_type": "markdown",
   "metadata": {
    "pycharm": {
     "name": "#%% md\n"
    }
   },
   "source": [
    "### Train test split"
   ]
  },
  {
   "cell_type": "markdown",
   "metadata": {
    "pycharm": {
     "name": "#%% md\n"
    }
   },
   "source": [
    "We will manually split the interactions matrix into a training set and test set for evaluation purposes."
   ]
  },
  {
   "cell_type": "code",
   "execution_count": 8,
   "metadata": {
    "pycharm": {
     "name": "#%%\n"
    }
   },
   "outputs": [
    {
     "data": {
      "text/plain": [
       "26214"
      ]
     },
     "execution_count": 8,
     "metadata": {},
     "output_type": "execute_result"
    }
   ],
   "source": [
    "# Get number of users\n",
    "len(interactions)"
   ]
  },
  {
   "cell_type": "markdown",
   "metadata": {
    "pycharm": {
     "name": "#%% md\n"
    }
   },
   "source": [
    "We choose to have roughly 80% of our data as training and 20% as test."
   ]
  },
  {
   "cell_type": "code",
   "execution_count": 9,
   "metadata": {
    "pycharm": {
     "name": "#%%\n"
    }
   },
   "outputs": [
    {
     "name": "stdout",
     "output_type": "stream",
     "text": [
      "We desire 20971.0 users in our training set.\n",
      "We desire 5243.0 users in our test set.\n"
     ]
    }
   ],
   "source": [
    "# Establish number of users in train/test sets\n",
    "\n",
    "train_num = round((80 / 100) * len(interactions), 0)\n",
    "print(f'We desire {train_num} users in our training set.')\n",
    "\n",
    "test_num = len(interactions) - train_num\n",
    "print(f'We desire {test_num} users in our test set.')\n",
    "\n",
    "# Define train and test sets\n",
    "train = interactions[:int(train_num)]\n",
    "test = interactions[int(test_num):]"
   ]
  },
  {
   "cell_type": "markdown",
   "metadata": {
    "pycharm": {
     "name": "#%% md\n"
    }
   },
   "source": [
    "### Create user dictionary"
   ]
  },
  {
   "cell_type": "markdown",
   "metadata": {
    "pycharm": {
     "name": "#%% md\n"
    }
   },
   "source": [
    "We will create a dictionary which matches users with another a counter `id`, by using the `create_user_dict` function, which can be found in `resources.py`."
   ]
  },
  {
   "cell_type": "code",
   "execution_count": 9,
   "metadata": {
    "pycharm": {
     "name": "#%%\n"
    },
    "scrolled": false
   },
   "outputs": [],
   "source": [
    "# Create user dictionary using helper function\n",
    "user_dict = create_user_dict(interactions=interactions)"
   ]
  },
  {
   "cell_type": "markdown",
   "metadata": {
    "pycharm": {
     "name": "#%% md\n"
    }
   },
   "source": [
    "### Create item dictionary"
   ]
  },
  {
   "cell_type": "markdown",
   "metadata": {
    "pycharm": {
     "name": "#%% md\n"
    }
   },
   "source": [
    "We will create a dictionary which matches each game `id` with its `title`, by using the `create_item_dict` function, which can be found in `resources.py`."
   ]
  },
  {
   "cell_type": "code",
   "execution_count": 10,
   "metadata": {
    "pycharm": {
     "name": "#%%\n"
    }
   },
   "outputs": [],
   "source": [
    "# Create game dictionary using helper function\n",
    "games_dict = create_item_dict(df=gamesdata, id_col='id', name_col='title')"
   ]
  },
  {
   "cell_type": "markdown",
   "metadata": {
    "pycharm": {
     "name": "#%% md\n"
    }
   },
   "source": [
    "### Create sparse matrices"
   ]
  },
  {
   "cell_type": "markdown",
   "metadata": {
    "pycharm": {
     "name": "#%% md\n"
    }
   },
   "source": [
    "We will transform the interaction into a sparse matrix, to make computations efficient.\n",
    "\n",
    "For the trainset, we simply use the `sparse.csr_matrix()` function.\n",
    "\n",
    "With the test set, due to a known issue, we need to add additional rows so that the number of rows matches the trains set."
   ]
  },
  {
   "cell_type": "code",
   "execution_count": 11,
   "metadata": {
    "pycharm": {
     "name": "#%%\n"
    }
   },
   "outputs": [
    {
     "name": "stdout",
     "output_type": "stream",
     "text": [
      "(20971, 8657)\n"
     ]
    }
   ],
   "source": [
    "# Create sparse matrices for evaluation\n",
    "train_sparse = sparse.csr_matrix(train.values)\n",
    "\n",
    "# Add X users to Test so that the number of rows in Train match Test\n",
    "N = train.shape[0]                      # Rows in Train set\n",
    "n, m = test.shape                       # Rows & columns in Test set\n",
    "z = np.zeros([(N - n), m])              # Create the necessary rows of zeros with m columns\n",
    "\n",
    "# test = test.toarray()                 #Temporarily convert Test into a numpy array\n",
    "\n",
    "test = np.vstack((test, z))             # Vertically stack Test on top of the blank users\n",
    "test_sparse = sparse.csr_matrix(test)   # Convert back to sparse\n",
    "\n",
    "print(train_sparse.get_shape())"
   ]
  },
  {
   "cell_type": "markdown",
   "metadata": {
    "pycharm": {
     "name": "#%% md\n"
    }
   },
   "source": [
    "## Modelling using LightFM"
   ]
  },
  {
   "cell_type": "markdown",
   "metadata": {
    "pycharm": {
     "name": "#%% md\n"
    }
   },
   "source": [
    "To build our recommendation engine, we will make use of the LightFM library."
   ]
  },
  {
   "cell_type": "markdown",
   "metadata": {
    "pycharm": {
     "name": "#%% md\n"
    }
   },
   "source": [
    "### WARP loss model"
   ]
  },
  {
   "cell_type": "markdown",
   "metadata": {
    "pycharm": {
     "name": "#%% md\n"
    }
   },
   "source": [
    "For the first model, we will choose the loss function to be WARP."
   ]
  },
  {
   "cell_type": "code",
   "execution_count": 12,
   "metadata": {},
   "outputs": [
    {
     "data": {
      "text/html": [
       "<div>\n",
       "<style scoped>\n",
       "    .dataframe tbody tr th:only-of-type {\n",
       "        vertical-align: middle;\n",
       "    }\n",
       "\n",
       "    .dataframe tbody tr th {\n",
       "        vertical-align: top;\n",
       "    }\n",
       "\n",
       "    .dataframe thead th {\n",
       "        text-align: right;\n",
       "    }\n",
       "</style>\n",
       "<table border=\"1\" class=\"dataframe\">\n",
       "  <thead>\n",
       "    <tr style=\"text-align: right;\">\n",
       "      <th>id</th>\n",
       "      <th>10</th>\n",
       "      <th>20</th>\n",
       "      <th>30</th>\n",
       "      <th>40</th>\n",
       "      <th>50</th>\n",
       "      <th>60</th>\n",
       "      <th>70</th>\n",
       "      <th>80</th>\n",
       "      <th>130</th>\n",
       "      <th>220</th>\n",
       "      <th>...</th>\n",
       "      <th>526790</th>\n",
       "      <th>527340</th>\n",
       "      <th>527440</th>\n",
       "      <th>527510</th>\n",
       "      <th>527520</th>\n",
       "      <th>527810</th>\n",
       "      <th>527890</th>\n",
       "      <th>527900</th>\n",
       "      <th>528660</th>\n",
       "      <th>530720</th>\n",
       "    </tr>\n",
       "    <tr>\n",
       "      <th>uid</th>\n",
       "      <th></th>\n",
       "      <th></th>\n",
       "      <th></th>\n",
       "      <th></th>\n",
       "      <th></th>\n",
       "      <th></th>\n",
       "      <th></th>\n",
       "      <th></th>\n",
       "      <th></th>\n",
       "      <th></th>\n",
       "      <th></th>\n",
       "      <th></th>\n",
       "      <th></th>\n",
       "      <th></th>\n",
       "      <th></th>\n",
       "      <th></th>\n",
       "      <th></th>\n",
       "      <th></th>\n",
       "      <th></th>\n",
       "      <th></th>\n",
       "      <th></th>\n",
       "    </tr>\n",
       "  </thead>\n",
       "  <tbody>\n",
       "    <tr>\n",
       "      <th>0</th>\n",
       "      <td>1.0</td>\n",
       "      <td>1.0</td>\n",
       "      <td>1.0</td>\n",
       "      <td>1.0</td>\n",
       "      <td>1.0</td>\n",
       "      <td>1.0</td>\n",
       "      <td>1.0</td>\n",
       "      <td>0.0</td>\n",
       "      <td>1.0</td>\n",
       "      <td>1.0</td>\n",
       "      <td>...</td>\n",
       "      <td>0.0</td>\n",
       "      <td>0.0</td>\n",
       "      <td>0.0</td>\n",
       "      <td>0.0</td>\n",
       "      <td>0.0</td>\n",
       "      <td>0.0</td>\n",
       "      <td>0.0</td>\n",
       "      <td>0.0</td>\n",
       "      <td>0.0</td>\n",
       "      <td>0.0</td>\n",
       "    </tr>\n",
       "    <tr>\n",
       "      <th>1</th>\n",
       "      <td>1.0</td>\n",
       "      <td>1.0</td>\n",
       "      <td>1.0</td>\n",
       "      <td>1.0</td>\n",
       "      <td>1.0</td>\n",
       "      <td>1.0</td>\n",
       "      <td>1.0</td>\n",
       "      <td>1.0</td>\n",
       "      <td>1.0</td>\n",
       "      <td>1.0</td>\n",
       "      <td>...</td>\n",
       "      <td>0.0</td>\n",
       "      <td>0.0</td>\n",
       "      <td>0.0</td>\n",
       "      <td>0.0</td>\n",
       "      <td>0.0</td>\n",
       "      <td>0.0</td>\n",
       "      <td>0.0</td>\n",
       "      <td>0.0</td>\n",
       "      <td>0.0</td>\n",
       "      <td>0.0</td>\n",
       "    </tr>\n",
       "    <tr>\n",
       "      <th>2</th>\n",
       "      <td>0.0</td>\n",
       "      <td>0.0</td>\n",
       "      <td>0.0</td>\n",
       "      <td>0.0</td>\n",
       "      <td>0.0</td>\n",
       "      <td>0.0</td>\n",
       "      <td>0.0</td>\n",
       "      <td>0.0</td>\n",
       "      <td>0.0</td>\n",
       "      <td>1.0</td>\n",
       "      <td>...</td>\n",
       "      <td>0.0</td>\n",
       "      <td>0.0</td>\n",
       "      <td>0.0</td>\n",
       "      <td>0.0</td>\n",
       "      <td>0.0</td>\n",
       "      <td>0.0</td>\n",
       "      <td>0.0</td>\n",
       "      <td>0.0</td>\n",
       "      <td>0.0</td>\n",
       "      <td>0.0</td>\n",
       "    </tr>\n",
       "    <tr>\n",
       "      <th>3</th>\n",
       "      <td>1.0</td>\n",
       "      <td>1.0</td>\n",
       "      <td>1.0</td>\n",
       "      <td>1.0</td>\n",
       "      <td>1.0</td>\n",
       "      <td>1.0</td>\n",
       "      <td>1.0</td>\n",
       "      <td>1.0</td>\n",
       "      <td>1.0</td>\n",
       "      <td>1.0</td>\n",
       "      <td>...</td>\n",
       "      <td>0.0</td>\n",
       "      <td>0.0</td>\n",
       "      <td>0.0</td>\n",
       "      <td>0.0</td>\n",
       "      <td>0.0</td>\n",
       "      <td>0.0</td>\n",
       "      <td>0.0</td>\n",
       "      <td>0.0</td>\n",
       "      <td>0.0</td>\n",
       "      <td>0.0</td>\n",
       "    </tr>\n",
       "    <tr>\n",
       "      <th>4</th>\n",
       "      <td>1.0</td>\n",
       "      <td>1.0</td>\n",
       "      <td>1.0</td>\n",
       "      <td>1.0</td>\n",
       "      <td>1.0</td>\n",
       "      <td>1.0</td>\n",
       "      <td>1.0</td>\n",
       "      <td>1.0</td>\n",
       "      <td>1.0</td>\n",
       "      <td>1.0</td>\n",
       "      <td>...</td>\n",
       "      <td>0.0</td>\n",
       "      <td>0.0</td>\n",
       "      <td>0.0</td>\n",
       "      <td>0.0</td>\n",
       "      <td>0.0</td>\n",
       "      <td>0.0</td>\n",
       "      <td>0.0</td>\n",
       "      <td>0.0</td>\n",
       "      <td>0.0</td>\n",
       "      <td>0.0</td>\n",
       "    </tr>\n",
       "  </tbody>\n",
       "</table>\n",
       "<p>5 rows × 8657 columns</p>\n",
       "</div>"
      ],
      "text/plain": [
       "id   10      20      30      40      50      60      70      80      130     \\\n",
       "uid                                                                           \n",
       "0       1.0     1.0     1.0     1.0     1.0     1.0     1.0     0.0     1.0   \n",
       "1       1.0     1.0     1.0     1.0     1.0     1.0     1.0     1.0     1.0   \n",
       "2       0.0     0.0     0.0     0.0     0.0     0.0     0.0     0.0     0.0   \n",
       "3       1.0     1.0     1.0     1.0     1.0     1.0     1.0     1.0     1.0   \n",
       "4       1.0     1.0     1.0     1.0     1.0     1.0     1.0     1.0     1.0   \n",
       "\n",
       "id   220     ...  526790  527340  527440  527510  527520  527810  527890  \\\n",
       "uid          ...                                                           \n",
       "0       1.0  ...     0.0     0.0     0.0     0.0     0.0     0.0     0.0   \n",
       "1       1.0  ...     0.0     0.0     0.0     0.0     0.0     0.0     0.0   \n",
       "2       1.0  ...     0.0     0.0     0.0     0.0     0.0     0.0     0.0   \n",
       "3       1.0  ...     0.0     0.0     0.0     0.0     0.0     0.0     0.0   \n",
       "4       1.0  ...     0.0     0.0     0.0     0.0     0.0     0.0     0.0   \n",
       "\n",
       "id   527900  528660  530720  \n",
       "uid                          \n",
       "0       0.0     0.0     0.0  \n",
       "1       0.0     0.0     0.0  \n",
       "2       0.0     0.0     0.0  \n",
       "3       0.0     0.0     0.0  \n",
       "4       0.0     0.0     0.0  \n",
       "\n",
       "[5 rows x 8657 columns]"
      ]
     },
     "execution_count": 12,
     "metadata": {},
     "output_type": "execute_result"
    }
   ],
   "source": [
    "train.head()"
   ]
  },
  {
   "attachments": {},
   "cell_type": "markdown",
   "metadata": {},
   "source": [
    "### Model params"
   ]
  },
  {
   "cell_type": "code",
   "execution_count": 18,
   "metadata": {},
   "outputs": [],
   "source": [
    "k = 3\n",
    "n_components = 100\n",
    "epoch = 100\n",
    "n_jobs = 8\n"
   ]
  },
  {
   "cell_type": "code",
   "execution_count": 19,
   "metadata": {
    "pycharm": {
     "name": "#%%\n"
    }
   },
   "outputs": [],
   "source": [
    "# Instantiate and fit model\n",
    "mf_model_warp = run_model(\n",
    "    interactions=train,\n",
    "    n_components=n_components,\n",
    "    loss=\"warp\",\n",
    "    epoch=epoch,\n",
    "    n_jobs=n_jobs,\n",
    ")\n"
   ]
  },
  {
   "cell_type": "code",
   "execution_count": 20,
   "metadata": {
    "pycharm": {
     "name": "#%%\n"
    },
    "scrolled": true
   },
   "outputs": [
    {
     "name": "stdout",
     "output_type": "stream",
     "text": [
      "Precision: train 0.92, test 0.38.\n",
      "Recall: train 0.09, test 0.03.\n",
      "AUC: train 1.00, test 0.88.\n"
     ]
    }
   ],
   "source": [
    "# Get precision\n",
    "from lightfm.evaluation import precision_at_k\n",
    "from lightfm.evaluation import auc_score\n",
    "from lightfm.evaluation import recall_at_k\n",
    "\n",
    "\n",
    "train_precision = precision_at_k(mf_model_warp, train_sparse, k=k).mean()\n",
    "test_precision = precision_at_k(mf_model_warp, test_sparse, k=k).mean()\n",
    "print(\"Precision: train %.2f, test %.2f.\" % (train_precision, test_precision))\n",
    "\n",
    "train_recall = recall_at_k(mf_model_warp, train_sparse, k=k).mean()\n",
    "test_recall = recall_at_k(mf_model_warp, test_sparse, k=k).mean()\n",
    "print(\"Recall: train %.2f, test %.2f.\" % (train_recall, test_recall))\n",
    "\n",
    "# Get AUC\n",
    "train_auc = auc_score(mf_model_warp, train_sparse).mean()\n",
    "test_auc = auc_score(mf_model_warp, test_sparse).mean()\n",
    "print(\"AUC: train %.2f, test %.2f.\" % (train_auc, test_auc))\n"
   ]
  },
  {
   "cell_type": "markdown",
   "metadata": {
    "pycharm": {
     "name": "#%% md\n"
    }
   },
   "source": [
    "We note that the precision score for the test is low, but this is expected due to the sheer volume of games available and the scarcity of interactions."
   ]
  },
  {
   "cell_type": "markdown",
   "metadata": {
    "pycharm": {
     "name": "#%% md\n"
    }
   },
   "source": [
    "The AUC score is very high, which is great."
   ]
  },
  {
   "cell_type": "markdown",
   "metadata": {
    "pycharm": {
     "name": "#%% md\n"
    }
   },
   "source": [
    "### BPR loss model"
   ]
  },
  {
   "cell_type": "markdown",
   "metadata": {
    "pycharm": {
     "name": "#%% md\n"
    }
   },
   "source": [
    "We will compare the model above with a model using BPR as the loss function."
   ]
  },
  {
   "cell_type": "code",
   "execution_count": 21,
   "metadata": {
    "pycharm": {
     "name": "#%%\n"
    }
   },
   "outputs": [],
   "source": [
    "# Instantiate and fit model\n",
    "mf_model_bpr = run_model(\n",
    "    interactions=train,\n",
    "    n_components=n_components,\n",
    "    loss=\"bpr\",\n",
    "    epoch=epoch,\n",
    "    n_jobs=n_jobs,\n",
    ")\n"
   ]
  },
  {
   "cell_type": "code",
   "execution_count": 22,
   "metadata": {
    "pycharm": {
     "name": "#%%\n"
    }
   },
   "outputs": [
    {
     "name": "stdout",
     "output_type": "stream",
     "text": [
      "Precision: train 0.99, test 0.46.\n"
     ]
    }
   ],
   "source": [
    "# Get precision\n",
    "train_precision = precision_at_k(mf_model_bpr, train_sparse, k=k).mean()\n",
    "test_precision = precision_at_k(mf_model_bpr, test_sparse, k=k).mean()\n",
    "print('Precision: train %.2f, test %.2f.' % (train_precision, test_precision))"
   ]
  },
  {
   "cell_type": "markdown",
   "metadata": {
    "pycharm": {
     "name": "#%% md\n"
    }
   },
   "source": [
    "Again, we note that the precision score for the test is low, but this is expected due to the sheer volume of games available and the scarcity of interactions."
   ]
  },
  {
   "cell_type": "code",
   "execution_count": 23,
   "metadata": {
    "pycharm": {
     "name": "#%%\n"
    },
    "scrolled": false
   },
   "outputs": [
    {
     "name": "stdout",
     "output_type": "stream",
     "text": [
      "AUC: train 0.99, test 0.63.\n"
     ]
    }
   ],
   "source": [
    "# Get AUC\n",
    "train_auc = auc_score(mf_model_bpr, train_sparse).mean()\n",
    "test_auc = auc_score(mf_model_bpr, test_sparse).mean()\n",
    "print('AUC: train %.2f, test %.2f.' % (train_auc, test_auc))"
   ]
  },
  {
   "cell_type": "markdown",
   "metadata": {
    "pycharm": {
     "name": "#%% md\n"
    }
   },
   "source": [
    "Again, the AUC score is good, though significantly lower for the test set compare to the train set."
   ]
  },
  {
   "cell_type": "markdown",
   "metadata": {
    "pycharm": {
     "name": "#%% md\n"
    }
   },
   "source": [
    "Based on these two models, we will keep WARP as the loss function due to better performance all round."
   ]
  },
  {
   "attachments": {},
   "cell_type": "markdown",
   "metadata": {
    "pycharm": {
     "name": "#%% md\n"
    }
   },
   "source": [
    "### Adjust num of components for WARP"
   ]
  },
  {
   "cell_type": "markdown",
   "metadata": {
    "pycharm": {
     "name": "#%% md\n"
    }
   },
   "source": [
    "The `n_components` parameter controlls the number of embeddings (dimension of the features in the latent space.)\n",
    "\n",
    "We will vary this number, lowering it to `10` first and then increasing it to `50` to see how this affects model performance."
   ]
  },
  {
   "cell_type": "code",
   "execution_count": 24,
   "metadata": {
    "pycharm": {
     "name": "#%%\n"
    }
   },
   "outputs": [],
   "source": [
    "# Instantiate and fit model\n",
    "mf_model_warp_2 = run_model(interactions=train,\n",
    "                            n_components=10,\n",
    "                            loss='warp',\n",
    "                            epoch=epoch,\n",
    "                            n_jobs=n_jobs)"
   ]
  },
  {
   "cell_type": "code",
   "execution_count": 25,
   "metadata": {
    "pycharm": {
     "name": "#%%\n"
    }
   },
   "outputs": [
    {
     "name": "stdout",
     "output_type": "stream",
     "text": [
      "Precision: train 0.81, test 0.57.\n"
     ]
    }
   ],
   "source": [
    "# Get precision\n",
    "train_precision = precision_at_k(mf_model_warp_2, train_sparse, k=k).mean()\n",
    "test_precision = precision_at_k(mf_model_warp_2, test_sparse, k=k).mean()\n",
    "print('Precision: train %.2f, test %.2f.' % (train_precision, test_precision))"
   ]
  },
  {
   "cell_type": "code",
   "execution_count": 26,
   "metadata": {
    "pycharm": {
     "name": "#%%\n"
    }
   },
   "outputs": [
    {
     "name": "stdout",
     "output_type": "stream",
     "text": [
      "AUC: train 0.98, test 0.92.\n"
     ]
    }
   ],
   "source": [
    "# Get AUC\n",
    "train_auc = auc_score(mf_model_warp_2, train_sparse).mean()\n",
    "test_auc = auc_score(mf_model_warp_2, test_sparse).mean()\n",
    "print('AUC: train %.2f, test %.2f.' % (train_auc, test_auc))"
   ]
  },
  {
   "cell_type": "code",
   "execution_count": 27,
   "metadata": {
    "pycharm": {
     "name": "#%%\n"
    }
   },
   "outputs": [
    {
     "ename": "KeyboardInterrupt",
     "evalue": "",
     "output_type": "error",
     "traceback": [
      "\u001b[0;31m---------------------------------------------------------------------------\u001b[0m",
      "\u001b[0;31mKeyboardInterrupt\u001b[0m                         Traceback (most recent call last)",
      "\u001b[1;32m/home/besmaks/Documents/KursachRecs/Steam-recs-new/4-Modelling.ipynb Cell 55\u001b[0m in \u001b[0;36m<cell line: 2>\u001b[0;34m()\u001b[0m\n\u001b[1;32m      <a href='vscode-notebook-cell:/home/besmaks/Documents/KursachRecs/Steam-recs-new/4-Modelling.ipynb#Y104sZmlsZQ%3D%3D?line=0'>1</a>\u001b[0m \u001b[39m# Instantiate and fit model\u001b[39;00m\n\u001b[0;32m----> <a href='vscode-notebook-cell:/home/besmaks/Documents/KursachRecs/Steam-recs-new/4-Modelling.ipynb#Y104sZmlsZQ%3D%3D?line=1'>2</a>\u001b[0m mf_model_warp_50 \u001b[39m=\u001b[39m run_model(interactions\u001b[39m=\u001b[39;49mtrain,\n\u001b[1;32m      <a href='vscode-notebook-cell:/home/besmaks/Documents/KursachRecs/Steam-recs-new/4-Modelling.ipynb#Y104sZmlsZQ%3D%3D?line=2'>3</a>\u001b[0m                              n_components\u001b[39m=\u001b[39;49m\u001b[39m50\u001b[39;49m,\n\u001b[1;32m      <a href='vscode-notebook-cell:/home/besmaks/Documents/KursachRecs/Steam-recs-new/4-Modelling.ipynb#Y104sZmlsZQ%3D%3D?line=3'>4</a>\u001b[0m                              loss\u001b[39m=\u001b[39;49m\u001b[39m'\u001b[39;49m\u001b[39mwarp\u001b[39;49m\u001b[39m'\u001b[39;49m,\n\u001b[1;32m      <a href='vscode-notebook-cell:/home/besmaks/Documents/KursachRecs/Steam-recs-new/4-Modelling.ipynb#Y104sZmlsZQ%3D%3D?line=4'>5</a>\u001b[0m                              epoch\u001b[39m=\u001b[39;49mepoch,\n\u001b[1;32m      <a href='vscode-notebook-cell:/home/besmaks/Documents/KursachRecs/Steam-recs-new/4-Modelling.ipynb#Y104sZmlsZQ%3D%3D?line=5'>6</a>\u001b[0m                              n_jobs\u001b[39m=\u001b[39;49mn_jobs)\n",
      "File \u001b[0;32m~/Documents/KursachRecs/Steam-recs-new/resources.py:89\u001b[0m, in \u001b[0;36mrun_model\u001b[0;34m(interactions, n_components, loss, epoch, n_jobs)\u001b[0m\n\u001b[1;32m     87\u001b[0m x \u001b[39m=\u001b[39m sparse\u001b[39m.\u001b[39mcsr_matrix(interactions\u001b[39m.\u001b[39mvalues)\n\u001b[1;32m     88\u001b[0m model \u001b[39m=\u001b[39m LightFM(no_components\u001b[39m=\u001b[39mn_components, loss\u001b[39m=\u001b[39mloss)\n\u001b[0;32m---> 89\u001b[0m model\u001b[39m.\u001b[39;49mfit(x, epochs\u001b[39m=\u001b[39;49mepoch, num_threads\u001b[39m=\u001b[39;49mn_jobs)\n\u001b[1;32m     90\u001b[0m \u001b[39mreturn\u001b[39;00m model\n",
      "File \u001b[0;32m~/Documents/VirtualEnvs/lib/python3.8/site-packages/lightfm/lightfm.py:533\u001b[0m, in \u001b[0;36mLightFM.fit\u001b[0;34m(self, interactions, user_features, item_features, sample_weight, epochs, num_threads, verbose)\u001b[0m\n\u001b[1;32m    530\u001b[0m \u001b[39m# Discard old results, if any\u001b[39;00m\n\u001b[1;32m    531\u001b[0m \u001b[39mself\u001b[39m\u001b[39m.\u001b[39m_reset_state()\n\u001b[0;32m--> 533\u001b[0m \u001b[39mreturn\u001b[39;00m \u001b[39mself\u001b[39;49m\u001b[39m.\u001b[39;49mfit_partial(\n\u001b[1;32m    534\u001b[0m     interactions,\n\u001b[1;32m    535\u001b[0m     user_features\u001b[39m=\u001b[39;49muser_features,\n\u001b[1;32m    536\u001b[0m     item_features\u001b[39m=\u001b[39;49mitem_features,\n\u001b[1;32m    537\u001b[0m     sample_weight\u001b[39m=\u001b[39;49msample_weight,\n\u001b[1;32m    538\u001b[0m     epochs\u001b[39m=\u001b[39;49mepochs,\n\u001b[1;32m    539\u001b[0m     num_threads\u001b[39m=\u001b[39;49mnum_threads,\n\u001b[1;32m    540\u001b[0m     verbose\u001b[39m=\u001b[39;49mverbose,\n\u001b[1;32m    541\u001b[0m )\n",
      "File \u001b[0;32m~/Documents/VirtualEnvs/lib/python3.8/site-packages/lightfm/lightfm.py:638\u001b[0m, in \u001b[0;36mLightFM.fit_partial\u001b[0;34m(self, interactions, user_features, item_features, sample_weight, epochs, num_threads, verbose)\u001b[0m\n\u001b[1;32m    635\u001b[0m     \u001b[39mraise\u001b[39;00m \u001b[39mValueError\u001b[39;00m(\u001b[39m\"\u001b[39m\u001b[39mNumber of threads must be 1 or larger.\u001b[39m\u001b[39m\"\u001b[39m)\n\u001b[1;32m    637\u001b[0m \u001b[39mfor\u001b[39;00m _ \u001b[39min\u001b[39;00m \u001b[39mself\u001b[39m\u001b[39m.\u001b[39m_progress(epochs, verbose\u001b[39m=\u001b[39mverbose):\n\u001b[0;32m--> 638\u001b[0m     \u001b[39mself\u001b[39;49m\u001b[39m.\u001b[39;49m_run_epoch(\n\u001b[1;32m    639\u001b[0m         item_features,\n\u001b[1;32m    640\u001b[0m         user_features,\n\u001b[1;32m    641\u001b[0m         interactions,\n\u001b[1;32m    642\u001b[0m         sample_weight_data,\n\u001b[1;32m    643\u001b[0m         num_threads,\n\u001b[1;32m    644\u001b[0m         \u001b[39mself\u001b[39;49m\u001b[39m.\u001b[39;49mloss,\n\u001b[1;32m    645\u001b[0m     )\n\u001b[1;32m    647\u001b[0m     \u001b[39mself\u001b[39m\u001b[39m.\u001b[39m_check_finite()\n\u001b[1;32m    649\u001b[0m \u001b[39mreturn\u001b[39;00m \u001b[39mself\u001b[39m\n",
      "File \u001b[0;32m~/Documents/VirtualEnvs/lib/python3.8/site-packages/lightfm/lightfm.py:679\u001b[0m, in \u001b[0;36mLightFM._run_epoch\u001b[0;34m(self, item_features, user_features, interactions, sample_weight, num_threads, loss)\u001b[0m\n\u001b[1;32m    677\u001b[0m \u001b[39m# Call the estimation routines.\u001b[39;00m\n\u001b[1;32m    678\u001b[0m \u001b[39mif\u001b[39;00m loss \u001b[39m==\u001b[39m \u001b[39m\"\u001b[39m\u001b[39mwarp\u001b[39m\u001b[39m\"\u001b[39m:\n\u001b[0;32m--> 679\u001b[0m     fit_warp(\n\u001b[1;32m    680\u001b[0m         CSRMatrix(item_features),\n\u001b[1;32m    681\u001b[0m         CSRMatrix(user_features),\n\u001b[1;32m    682\u001b[0m         positives_lookup,\n\u001b[1;32m    683\u001b[0m         interactions\u001b[39m.\u001b[39;49mrow,\n\u001b[1;32m    684\u001b[0m         interactions\u001b[39m.\u001b[39;49mcol,\n\u001b[1;32m    685\u001b[0m         interactions\u001b[39m.\u001b[39;49mdata,\n\u001b[1;32m    686\u001b[0m         sample_weight,\n\u001b[1;32m    687\u001b[0m         shuffle_indices,\n\u001b[1;32m    688\u001b[0m         lightfm_data,\n\u001b[1;32m    689\u001b[0m         \u001b[39mself\u001b[39;49m\u001b[39m.\u001b[39;49mlearning_rate,\n\u001b[1;32m    690\u001b[0m         \u001b[39mself\u001b[39;49m\u001b[39m.\u001b[39;49mitem_alpha,\n\u001b[1;32m    691\u001b[0m         \u001b[39mself\u001b[39;49m\u001b[39m.\u001b[39;49muser_alpha,\n\u001b[1;32m    692\u001b[0m         num_threads,\n\u001b[1;32m    693\u001b[0m         \u001b[39mself\u001b[39;49m\u001b[39m.\u001b[39;49mrandom_state,\n\u001b[1;32m    694\u001b[0m     )\n\u001b[1;32m    695\u001b[0m \u001b[39melif\u001b[39;00m loss \u001b[39m==\u001b[39m \u001b[39m\"\u001b[39m\u001b[39mbpr\u001b[39m\u001b[39m\"\u001b[39m:\n\u001b[1;32m    696\u001b[0m     fit_bpr(\n\u001b[1;32m    697\u001b[0m         CSRMatrix(item_features),\n\u001b[1;32m    698\u001b[0m         CSRMatrix(user_features),\n\u001b[0;32m   (...)\u001b[0m\n\u001b[1;32m    710\u001b[0m         \u001b[39mself\u001b[39m\u001b[39m.\u001b[39mrandom_state,\n\u001b[1;32m    711\u001b[0m     )\n",
      "\u001b[0;31mKeyboardInterrupt\u001b[0m: "
     ]
    }
   ],
   "source": [
    "# Instantiate and fit model\n",
    "mf_model_warp_50 = run_model(interactions=train,\n",
    "                             n_components=50,\n",
    "                             loss='warp',\n",
    "                             epoch=epoch,\n",
    "                             n_jobs=n_jobs)"
   ]
  },
  {
   "cell_type": "code",
   "execution_count": null,
   "metadata": {
    "pycharm": {
     "name": "#%%\n"
    }
   },
   "outputs": [
    {
     "name": "stdout",
     "output_type": "stream",
     "text": [
      "Precision: train 0.76, test 0.38.\n"
     ]
    }
   ],
   "source": [
    "# Get precision\n",
    "train_precision = precision_at_k(mf_model_warp_50, train_sparse, k=k).mean()\n",
    "test_precision = precision_at_k(mf_model_warp_50, test_sparse, k=k).mean()\n",
    "print('Precision: train %.2f, test %.2f.' % (train_precision, test_precision))"
   ]
  },
  {
   "cell_type": "code",
   "execution_count": null,
   "metadata": {
    "pycharm": {
     "name": "#%%\n"
    },
    "scrolled": true
   },
   "outputs": [
    {
     "ename": "KeyboardInterrupt",
     "evalue": "",
     "output_type": "error",
     "traceback": [
      "\u001b[0;31m---------------------------------------------------------------------------\u001b[0m",
      "\u001b[0;31mKeyboardInterrupt\u001b[0m                         Traceback (most recent call last)",
      "\u001b[1;32m/home/besmaks/Documents/KursachRecs/Steam-recs-new/4-Modelling.ipynb Cell 56\u001b[0m in \u001b[0;36m<cell line: 3>\u001b[0;34m()\u001b[0m\n\u001b[1;32m      <a href='vscode-notebook-cell:/home/besmaks/Documents/KursachRecs/Steam-recs-new/4-Modelling.ipynb#Y105sZmlsZQ%3D%3D?line=0'>1</a>\u001b[0m \u001b[39m# Get AUC\u001b[39;00m\n\u001b[1;32m      <a href='vscode-notebook-cell:/home/besmaks/Documents/KursachRecs/Steam-recs-new/4-Modelling.ipynb#Y105sZmlsZQ%3D%3D?line=1'>2</a>\u001b[0m train_auc \u001b[39m=\u001b[39m auc_score(mf_model_warp_50, train_sparse)\u001b[39m.\u001b[39mmean()\n\u001b[0;32m----> <a href='vscode-notebook-cell:/home/besmaks/Documents/KursachRecs/Steam-recs-new/4-Modelling.ipynb#Y105sZmlsZQ%3D%3D?line=2'>3</a>\u001b[0m test_auc \u001b[39m=\u001b[39m auc_score(mf_model_warp_50, test_sparse)\u001b[39m.\u001b[39mmean()\n\u001b[1;32m      <a href='vscode-notebook-cell:/home/besmaks/Documents/KursachRecs/Steam-recs-new/4-Modelling.ipynb#Y105sZmlsZQ%3D%3D?line=3'>4</a>\u001b[0m \u001b[39mprint\u001b[39m(\u001b[39m'\u001b[39m\u001b[39mAUC: train \u001b[39m\u001b[39m%.2f\u001b[39;00m\u001b[39m, test \u001b[39m\u001b[39m%.2f\u001b[39;00m\u001b[39m.\u001b[39m\u001b[39m'\u001b[39m \u001b[39m%\u001b[39m (train_auc, test_auc))\n",
      "File \u001b[0;32m~/Documents/VirtualEnvs/lib/python3.8/site-packages/lightfm/evaluation.py:224\u001b[0m, in \u001b[0;36mauc_score\u001b[0;34m(model, test_interactions, train_interactions, user_features, item_features, preserve_rows, num_threads, check_intersections)\u001b[0m\n\u001b[1;32m    221\u001b[0m \u001b[39mif\u001b[39;00m num_threads \u001b[39m<\u001b[39m \u001b[39m1\u001b[39m:\n\u001b[1;32m    222\u001b[0m     \u001b[39mraise\u001b[39;00m \u001b[39mValueError\u001b[39;00m(\u001b[39m\"\u001b[39m\u001b[39mNumber of threads must be 1 or larger.\u001b[39m\u001b[39m\"\u001b[39m)\n\u001b[0;32m--> 224\u001b[0m ranks \u001b[39m=\u001b[39m model\u001b[39m.\u001b[39;49mpredict_rank(\n\u001b[1;32m    225\u001b[0m     test_interactions,\n\u001b[1;32m    226\u001b[0m     train_interactions\u001b[39m=\u001b[39;49mtrain_interactions,\n\u001b[1;32m    227\u001b[0m     user_features\u001b[39m=\u001b[39;49muser_features,\n\u001b[1;32m    228\u001b[0m     item_features\u001b[39m=\u001b[39;49mitem_features,\n\u001b[1;32m    229\u001b[0m     num_threads\u001b[39m=\u001b[39;49mnum_threads,\n\u001b[1;32m    230\u001b[0m     check_intersections\u001b[39m=\u001b[39;49mcheck_intersections,\n\u001b[1;32m    231\u001b[0m )\n\u001b[1;32m    233\u001b[0m \u001b[39massert\u001b[39;00m np\u001b[39m.\u001b[39mall(ranks\u001b[39m.\u001b[39mdata \u001b[39m>\u001b[39m\u001b[39m=\u001b[39m \u001b[39m0\u001b[39m)\n\u001b[1;32m    235\u001b[0m auc \u001b[39m=\u001b[39m np\u001b[39m.\u001b[39mzeros(ranks\u001b[39m.\u001b[39mshape[\u001b[39m0\u001b[39m], dtype\u001b[39m=\u001b[39mnp\u001b[39m.\u001b[39mfloat32)\n",
      "File \u001b[0;32m~/Documents/VirtualEnvs/lib/python3.8/site-packages/lightfm/lightfm.py:942\u001b[0m, in \u001b[0;36mLightFM.predict_rank\u001b[0;34m(self, test_interactions, train_interactions, item_features, user_features, num_threads, check_intersections)\u001b[0m\n\u001b[1;32m    931\u001b[0m ranks \u001b[39m=\u001b[39m sp\u001b[39m.\u001b[39mcsr_matrix(\n\u001b[1;32m    932\u001b[0m     (\n\u001b[1;32m    933\u001b[0m         np\u001b[39m.\u001b[39mzeros_like(test_interactions\u001b[39m.\u001b[39mdata),\n\u001b[0;32m   (...)\u001b[0m\n\u001b[1;32m    937\u001b[0m     shape\u001b[39m=\u001b[39mtest_interactions\u001b[39m.\u001b[39mshape,\n\u001b[1;32m    938\u001b[0m )\n\u001b[1;32m    940\u001b[0m lightfm_data \u001b[39m=\u001b[39m \u001b[39mself\u001b[39m\u001b[39m.\u001b[39m_get_lightfm_data()\n\u001b[0;32m--> 942\u001b[0m predict_ranks(\n\u001b[1;32m    943\u001b[0m     CSRMatrix(item_features),\n\u001b[1;32m    944\u001b[0m     CSRMatrix(user_features),\n\u001b[1;32m    945\u001b[0m     CSRMatrix(test_interactions),\n\u001b[1;32m    946\u001b[0m     CSRMatrix(train_interactions),\n\u001b[1;32m    947\u001b[0m     ranks\u001b[39m.\u001b[39;49mdata,\n\u001b[1;32m    948\u001b[0m     lightfm_data,\n\u001b[1;32m    949\u001b[0m     num_threads,\n\u001b[1;32m    950\u001b[0m )\n\u001b[1;32m    952\u001b[0m \u001b[39mreturn\u001b[39;00m ranks\n",
      "\u001b[0;31mKeyboardInterrupt\u001b[0m: "
     ]
    }
   ],
   "source": [
    "# Get AUC\n",
    "train_auc = auc_score(mf_model_warp_50, train_sparse).mean()\n",
    "test_auc = auc_score(mf_model_warp_50, test_sparse).mean()\n",
    "print('AUC: train %.2f, test %.2f.' % (train_auc, test_auc))"
   ]
  },
  {
   "cell_type": "markdown",
   "metadata": {
    "pycharm": {
     "name": "#%% md\n"
    }
   },
   "source": [
    "Overall, we see that varying the `n_components` feature has little impact on overall model performance."
   ]
  },
  {
   "attachments": {},
   "cell_type": "markdown",
   "metadata": {},
   "source": [
    "### KNN model"
   ]
  },
  {
   "cell_type": "code",
   "execution_count": null,
   "metadata": {},
   "outputs": [],
   "source": [
    "# KNN_model = run_model_KNN(ratings=train, k=40)\n"
   ]
  },
  {
   "cell_type": "markdown",
   "metadata": {
    "pycharm": {
     "name": "#%% md\n"
    }
   },
   "source": [
    "### Final model"
   ]
  },
  {
   "cell_type": "markdown",
   "metadata": {
    "pycharm": {
     "name": "#%% md\n"
    }
   },
   "source": [
    "We train the chosen model (WARP loss and 30 components) on the full interactions matrix."
   ]
  },
  {
   "cell_type": "code",
   "execution_count": null,
   "metadata": {
    "pycharm": {
     "name": "#%%\n"
    }
   },
   "outputs": [],
   "source": [
    "# Instantiate and fit model on full interactions set\n",
    "mf_model = run_model(\n",
    "    interactions=interactions, n_components=30, loss=\"warp\", epoch=30, n_jobs=4\n",
    ")\n"
   ]
  },
  {
   "cell_type": "markdown",
   "metadata": {
    "pycharm": {
     "name": "#%% md\n"
    }
   },
   "source": [
    "## Embeddings"
   ]
  },
  {
   "cell_type": "markdown",
   "metadata": {
    "pycharm": {
     "name": "#%% md\n"
    }
   },
   "source": [
    "Before using our model to provide recommendations, let us explore the embedding space."
   ]
  },
  {
   "cell_type": "markdown",
   "metadata": {
    "pycharm": {
     "name": "#%% md\n"
    }
   },
   "source": [
    "### Retrieve embeddings matrix"
   ]
  },
  {
   "cell_type": "code",
   "execution_count": null,
   "metadata": {
    "pycharm": {
     "name": "#%%\n"
    },
    "scrolled": true
   },
   "outputs": [
    {
     "data": {
      "text/plain": [
       "array([[-0.56978744,  0.1354358 ,  0.15245362, ...,  0.07013845,\n",
       "         0.86395925, -0.16111721],\n",
       "       [-1.1043488 , -0.13597883,  0.20852582, ...,  0.21028335,\n",
       "         0.3746681 ,  0.8096065 ],\n",
       "       [-0.9505645 , -0.5541016 ,  0.20742728, ...,  0.22608785,\n",
       "         0.4770959 ,  0.12779067],\n",
       "       ...,\n",
       "       [ 0.03660847, -0.26408815, -0.3734846 , ...,  0.09595869,\n",
       "        -0.31471765,  0.28205648],\n",
       "       [ 0.06356749, -0.40973964, -0.4324057 , ...,  0.11245695,\n",
       "        -0.3862946 ,  0.26287085],\n",
       "       [ 0.14263856, -0.29004508, -0.07580506, ..., -0.38338953,\n",
       "        -0.30977657,  0.09620184]], dtype=float32)"
      ]
     },
     "execution_count": 120,
     "metadata": {},
     "output_type": "execute_result"
    }
   ],
   "source": [
    "# Get embeddings\n",
    "embeddings = mf_model.item_embeddings\n",
    "embeddings"
   ]
  },
  {
   "cell_type": "code",
   "execution_count": null,
   "metadata": {
    "pycharm": {
     "name": "#%%\n"
    }
   },
   "outputs": [
    {
     "data": {
      "text/plain": [
       "(7782, 30)"
      ]
     },
     "execution_count": 121,
     "metadata": {},
     "output_type": "execute_result"
    }
   ],
   "source": [
    "# View shape\n",
    "embeddings.shape"
   ]
  },
  {
   "cell_type": "markdown",
   "metadata": {
    "pycharm": {
     "name": "#%% md\n"
    }
   },
   "source": [
    "Our embeddings array has 7782 rows, with each row representing a game. Each row has 30 numbers, representing the components of our game embeddings. This is because we set `n_components` to be 30 in our model."
   ]
  },
  {
   "cell_type": "markdown",
   "metadata": {
    "pycharm": {
     "name": "#%% md\n"
    }
   },
   "source": [
    "Let's investigate a sample game vector."
   ]
  },
  {
   "cell_type": "code",
   "execution_count": null,
   "metadata": {
    "pycharm": {
     "name": "#%%\n"
    },
    "scrolled": true
   },
   "outputs": [
    {
     "data": {
      "text/plain": [
       "array([-0.56978744,  0.1354358 ,  0.15245362,  0.09484473, -0.44160113,\n",
       "        0.64233017,  0.11257038, -0.01659971,  0.30063015, -0.6331961 ,\n",
       "       -0.4157287 ,  0.7501055 ,  0.05074381, -0.015607  , -0.54988366,\n",
       "       -0.33947048, -0.00502942, -0.8568284 ,  0.09493411,  0.43095767,\n",
       "       -0.12027744,  0.25703588,  0.711221  , -0.34303862,  0.5719772 ,\n",
       "       -0.12769212,  0.97098845,  0.07013845,  0.86395925, -0.16111721],\n",
       "      dtype=float32)"
      ]
     },
     "execution_count": 122,
     "metadata": {},
     "output_type": "execute_result"
    }
   ],
   "source": [
    "embeddings[0]"
   ]
  },
  {
   "cell_type": "markdown",
   "metadata": {
    "pycharm": {
     "name": "#%% md\n"
    }
   },
   "source": [
    "To retrieve the name of the game, we first look up the game id using our interactions matrix and then obtain the name using the games dictionary."
   ]
  },
  {
   "cell_type": "code",
   "execution_count": null,
   "metadata": {
    "pycharm": {
     "name": "#%%\n"
    },
    "scrolled": true
   },
   "outputs": [
    {
     "data": {
      "text/plain": [
       "'Counter-Strike'"
      ]
     },
     "execution_count": 123,
     "metadata": {},
     "output_type": "execute_result"
    }
   ],
   "source": [
    "firstgameid = interactions.columns[0]\n",
    "games_dict[firstgameid]"
   ]
  },
  {
   "cell_type": "markdown",
   "metadata": {
    "pycharm": {
     "name": "#%% md\n"
    }
   },
   "source": [
    "### Pair similarity"
   ]
  },
  {
   "cell_type": "markdown",
   "metadata": {
    "pycharm": {
     "name": "#%% md\n"
    }
   },
   "source": [
    "Let us examine how close or distant pairs of games are in the embedding space. The embedding space can be interpreted as a distance metric and so we would expect similar games to have similar vectors.\n",
    "\n",
    "Our first game will be `Counter-Strike` as seen above. \n",
    "\n",
    "We would expect it to be similar to `Left 4 Dead 2`."
   ]
  },
  {
   "cell_type": "code",
   "execution_count": null,
   "metadata": {
    "pycharm": {
     "name": "#%%\n"
    }
   },
   "outputs": [
    {
     "data": {
      "text/html": [
       "<div>\n",
       "<style scoped>\n",
       "    .dataframe tbody tr th:only-of-type {\n",
       "        vertical-align: middle;\n",
       "    }\n",
       "\n",
       "    .dataframe tbody tr th {\n",
       "        vertical-align: top;\n",
       "    }\n",
       "\n",
       "    .dataframe thead th {\n",
       "        text-align: right;\n",
       "    }\n",
       "</style>\n",
       "<table border=\"1\" class=\"dataframe\">\n",
       "  <thead>\n",
       "    <tr style=\"text-align: right;\">\n",
       "      <th></th>\n",
       "      <th>publisher</th>\n",
       "      <th>genres</th>\n",
       "      <th>app_name</th>\n",
       "      <th>title</th>\n",
       "      <th>url</th>\n",
       "      <th>release_date</th>\n",
       "      <th>tags</th>\n",
       "      <th>discount_price</th>\n",
       "      <th>reviews_url</th>\n",
       "      <th>specs</th>\n",
       "      <th>price</th>\n",
       "      <th>early_access</th>\n",
       "      <th>id</th>\n",
       "      <th>developer</th>\n",
       "      <th>sentiment</th>\n",
       "      <th>metascore</th>\n",
       "    </tr>\n",
       "  </thead>\n",
       "  <tbody>\n",
       "    <tr>\n",
       "      <th>31529</th>\n",
       "      <td>Valve</td>\n",
       "      <td>['Action']</td>\n",
       "      <td>Left 4 Dead 2</td>\n",
       "      <td>Left 4 Dead 2</td>\n",
       "      <td>http://store.steampowered.com/app/550/Left_4_D...</td>\n",
       "      <td>2009-11-16</td>\n",
       "      <td>['Zombies', 'Co-op', 'FPS', 'Multiplayer', 'Ac...</td>\n",
       "      <td>NaN</td>\n",
       "      <td>http://steamcommunity.com/app/550/reviews/?bro...</td>\n",
       "      <td>['Single-player', 'Multi-player', 'Co-op', 'St...</td>\n",
       "      <td>19.99</td>\n",
       "      <td>False</td>\n",
       "      <td>550.0</td>\n",
       "      <td>Valve</td>\n",
       "      <td>Overwhelmingly Positive</td>\n",
       "      <td>89.0</td>\n",
       "    </tr>\n",
       "    <tr>\n",
       "      <th>32106</th>\n",
       "      <td>Valve</td>\n",
       "      <td>['Action']</td>\n",
       "      <td>Counter-Strike</td>\n",
       "      <td>Counter-Strike</td>\n",
       "      <td>http://store.steampowered.com/app/10/CounterSt...</td>\n",
       "      <td>2000-11-01</td>\n",
       "      <td>['Action', 'FPS', 'Multiplayer', 'Shooter', 'C...</td>\n",
       "      <td>NaN</td>\n",
       "      <td>http://steamcommunity.com/app/10/reviews/?brow...</td>\n",
       "      <td>['Multi-player', 'Valve Anti-Cheat enabled']</td>\n",
       "      <td>9.99</td>\n",
       "      <td>False</td>\n",
       "      <td>10.0</td>\n",
       "      <td>Valve</td>\n",
       "      <td>Overwhelmingly Positive</td>\n",
       "      <td>88.0</td>\n",
       "    </tr>\n",
       "  </tbody>\n",
       "</table>\n",
       "</div>"
      ],
      "text/plain": [
       "      publisher      genres        app_name           title  \\\n",
       "31529     Valve  ['Action']   Left 4 Dead 2   Left 4 Dead 2   \n",
       "32106     Valve  ['Action']  Counter-Strike  Counter-Strike   \n",
       "\n",
       "                                                     url release_date  \\\n",
       "31529  http://store.steampowered.com/app/550/Left_4_D...   2009-11-16   \n",
       "32106  http://store.steampowered.com/app/10/CounterSt...   2000-11-01   \n",
       "\n",
       "                                                    tags  discount_price  \\\n",
       "31529  ['Zombies', 'Co-op', 'FPS', 'Multiplayer', 'Ac...             NaN   \n",
       "32106  ['Action', 'FPS', 'Multiplayer', 'Shooter', 'C...             NaN   \n",
       "\n",
       "                                             reviews_url  \\\n",
       "31529  http://steamcommunity.com/app/550/reviews/?bro...   \n",
       "32106  http://steamcommunity.com/app/10/reviews/?brow...   \n",
       "\n",
       "                                                   specs  price  early_access  \\\n",
       "31529  ['Single-player', 'Multi-player', 'Co-op', 'St...  19.99         False   \n",
       "32106       ['Multi-player', 'Valve Anti-Cheat enabled']   9.99         False   \n",
       "\n",
       "          id developer                sentiment  metascore  \n",
       "31529  550.0     Valve  Overwhelmingly Positive       89.0  \n",
       "32106   10.0     Valve  Overwhelmingly Positive       88.0  "
      ]
     },
     "execution_count": 124,
     "metadata": {},
     "output_type": "execute_result"
    }
   ],
   "source": [
    "# Get data for both games\n",
    "gamesdata[(gamesdata['title'] == 'Counter-Strike') | (gamesdata['title'] == 'Left 4 Dead 2')]"
   ]
  },
  {
   "cell_type": "markdown",
   "metadata": {
    "pycharm": {
     "name": "#%% md\n"
    }
   },
   "source": [
    "Let us look at the vectors for these two games."
   ]
  },
  {
   "cell_type": "code",
   "execution_count": null,
   "metadata": {
    "pycharm": {
     "name": "#%%\n"
    }
   },
   "outputs": [],
   "source": [
    "# Set index for Counter-Strike\n",
    "cs_index = 0\n",
    "\n",
    "# Obtain embeddings vector \n",
    "cs_vector = embeddings[cs_index]\n",
    "\n",
    "# cs_vector"
   ]
  },
  {
   "cell_type": "code",
   "execution_count": null,
   "metadata": {
    "pycharm": {
     "name": "#%%\n"
    },
    "scrolled": false
   },
   "outputs": [],
   "source": [
    "# Retrieve game id for LFD2\n",
    "lfd2_id = gamesdata[gamesdata['title'] == 'Left 4 Dead 2']['id'].values[0]\n",
    "\n",
    "# Obtain index for Squad in interactions matrix\n",
    "lfd2_index = list(interactions.columns).index(lfd2_id)\n",
    "\n",
    "# Obtain embeddings vector\n",
    "lfd2_vector = embeddings[lfd2_index]\n",
    "\n",
    "# lfd2_vector"
   ]
  },
  {
   "cell_type": "markdown",
   "metadata": {
    "pycharm": {
     "name": "#%% md\n"
    }
   },
   "source": [
    "To assign a single value to the similarity between these two vectors, we calculate the distance between them. Let us first compute the Euclidean distance."
   ]
  },
  {
   "cell_type": "code",
   "execution_count": null,
   "metadata": {
    "pycharm": {
     "name": "#%%\n"
    }
   },
   "outputs": [],
   "source": []
  },
  {
   "cell_type": "markdown",
   "metadata": {
    "pycharm": {
     "name": "#%% md\n"
    }
   },
   "source": [
    "Let us compare this figure with a pair of games we believe to be very different."
   ]
  },
  {
   "cell_type": "code",
   "execution_count": null,
   "metadata": {
    "pycharm": {
     "name": "#%%\n"
    }
   },
   "outputs": [
    {
     "data": {
      "text/html": [
       "<div>\n",
       "<style scoped>\n",
       "    .dataframe tbody tr th:only-of-type {\n",
       "        vertical-align: middle;\n",
       "    }\n",
       "\n",
       "    .dataframe tbody tr th {\n",
       "        vertical-align: top;\n",
       "    }\n",
       "\n",
       "    .dataframe thead th {\n",
       "        text-align: right;\n",
       "    }\n",
       "</style>\n",
       "<table border=\"1\" class=\"dataframe\">\n",
       "  <thead>\n",
       "    <tr style=\"text-align: right;\">\n",
       "      <th></th>\n",
       "      <th>publisher</th>\n",
       "      <th>genres</th>\n",
       "      <th>app_name</th>\n",
       "      <th>title</th>\n",
       "      <th>url</th>\n",
       "      <th>release_date</th>\n",
       "      <th>tags</th>\n",
       "      <th>discount_price</th>\n",
       "      <th>reviews_url</th>\n",
       "      <th>specs</th>\n",
       "      <th>price</th>\n",
       "      <th>early_access</th>\n",
       "      <th>id</th>\n",
       "      <th>developer</th>\n",
       "      <th>sentiment</th>\n",
       "      <th>metascore</th>\n",
       "    </tr>\n",
       "  </thead>\n",
       "  <tbody>\n",
       "    <tr>\n",
       "      <th>2472</th>\n",
       "      <td>Fireproof Games</td>\n",
       "      <td>['Adventure', 'Indie']</td>\n",
       "      <td>The Room</td>\n",
       "      <td>The Room</td>\n",
       "      <td>http://store.steampowered.com/app/288160/The_R...</td>\n",
       "      <td>2014-07-28</td>\n",
       "      <td>['Puzzle', 'Adventure', 'Point &amp; Click', 'Indi...</td>\n",
       "      <td>NaN</td>\n",
       "      <td>http://steamcommunity.com/app/288160/reviews/?...</td>\n",
       "      <td>['Single-player', 'Steam Achievements', 'Steam...</td>\n",
       "      <td>4.99</td>\n",
       "      <td>False</td>\n",
       "      <td>288160.0</td>\n",
       "      <td>Fireproof Games</td>\n",
       "      <td>Overwhelmingly Positive</td>\n",
       "      <td>73.0</td>\n",
       "    </tr>\n",
       "    <tr>\n",
       "      <th>32106</th>\n",
       "      <td>Valve</td>\n",
       "      <td>['Action']</td>\n",
       "      <td>Counter-Strike</td>\n",
       "      <td>Counter-Strike</td>\n",
       "      <td>http://store.steampowered.com/app/10/CounterSt...</td>\n",
       "      <td>2000-11-01</td>\n",
       "      <td>['Action', 'FPS', 'Multiplayer', 'Shooter', 'C...</td>\n",
       "      <td>NaN</td>\n",
       "      <td>http://steamcommunity.com/app/10/reviews/?brow...</td>\n",
       "      <td>['Multi-player', 'Valve Anti-Cheat enabled']</td>\n",
       "      <td>9.99</td>\n",
       "      <td>False</td>\n",
       "      <td>10.0</td>\n",
       "      <td>Valve</td>\n",
       "      <td>Overwhelmingly Positive</td>\n",
       "      <td>88.0</td>\n",
       "    </tr>\n",
       "  </tbody>\n",
       "</table>\n",
       "</div>"
      ],
      "text/plain": [
       "             publisher                  genres        app_name  \\\n",
       "2472   Fireproof Games  ['Adventure', 'Indie']        The Room   \n",
       "32106            Valve              ['Action']  Counter-Strike   \n",
       "\n",
       "                title                                                url  \\\n",
       "2472         The Room  http://store.steampowered.com/app/288160/The_R...   \n",
       "32106  Counter-Strike  http://store.steampowered.com/app/10/CounterSt...   \n",
       "\n",
       "      release_date                                               tags  \\\n",
       "2472    2014-07-28  ['Puzzle', 'Adventure', 'Point & Click', 'Indi...   \n",
       "32106   2000-11-01  ['Action', 'FPS', 'Multiplayer', 'Shooter', 'C...   \n",
       "\n",
       "       discount_price                                        reviews_url  \\\n",
       "2472              NaN  http://steamcommunity.com/app/288160/reviews/?...   \n",
       "32106             NaN  http://steamcommunity.com/app/10/reviews/?brow...   \n",
       "\n",
       "                                                   specs price  early_access  \\\n",
       "2472   ['Single-player', 'Steam Achievements', 'Steam...  4.99         False   \n",
       "32106       ['Multi-player', 'Valve Anti-Cheat enabled']  9.99         False   \n",
       "\n",
       "             id        developer                sentiment  metascore  \n",
       "2472   288160.0  Fireproof Games  Overwhelmingly Positive       73.0  \n",
       "32106      10.0            Valve  Overwhelmingly Positive       88.0  "
      ]
     },
     "execution_count": 128,
     "metadata": {},
     "output_type": "execute_result"
    }
   ],
   "source": [
    "# Get data for both games\n",
    "gamesdata[(gamesdata['title'] == 'Counter-Strike') | (gamesdata['title'] == 'The Room')]"
   ]
  },
  {
   "cell_type": "code",
   "execution_count": null,
   "metadata": {
    "pycharm": {
     "name": "#%%\n"
    },
    "scrolled": false
   },
   "outputs": [],
   "source": [
    "# Retrieve game id for The Room\n",
    "room_id = gamesdata[gamesdata['title'] == 'The Room']['id'].values[0]\n",
    "\n",
    "# Obtain index for Squad in interactions matrix\n",
    "room_index = list(interactions.columns).index(room_id)\n",
    "\n",
    "# Obtain embeddings vector\n",
    "room_vector = embeddings[room_index]\n",
    "\n",
    "# room_vector"
   ]
  },
  {
   "cell_type": "markdown",
   "metadata": {
    "pycharm": {
     "name": "#%% md\n"
    }
   },
   "source": [
    "When looking at the similarity of embeddings, it is more common to look at cosine similarity. Cosine similarity ranges between -1 and 1 based on the angle between the vectors. From this figure, cosine distance is defined as 1 minus the cosine similarity and therefore a value between 0 and 2."
   ]
  },
  {
   "cell_type": "code",
   "execution_count": null,
   "metadata": {
    "pycharm": {
     "name": "#%%\n"
    },
    "scrolled": true
   },
   "outputs": [
    {
     "name": "stdout",
     "output_type": "stream",
     "text": [
      "Cosine distance between Counter Strike and Left 4 Dead 2: 0.3920246362686157\n",
      "Cosine distance between Counter Strike and The Room: 0.8241512775421143\n"
     ]
    }
   ],
   "source": [
    "print(f'Cosine distance between Counter Strike and Left 4 Dead 2: {distance.cosine(cs_vector, lfd2_vector)}')\n",
    "print(f'Cosine distance between Counter Strike and The Room: {distance.cosine(cs_vector, room_vector)}')"
   ]
  },
  {
   "cell_type": "markdown",
   "metadata": {
    "pycharm": {
     "name": "#%% md\n"
    }
   },
   "source": [
    "### Exploring embeddings with Gensim"
   ]
  },
  {
   "cell_type": "code",
   "execution_count": null,
   "metadata": {
    "pycharm": {
     "name": "#%%\n"
    },
    "scrolled": true
   },
   "outputs": [],
   "source": [
    "\n",
    "from gensim.models.keyedvectors import Word2VecKeyedVectors\n",
    "import gensim.models.keyedvectors as gmk\n",
    "embedding_size = embeddings.shape[1]\n",
    "\n",
    "# Create instance\n",
    "# kv = WordEmbeddingsKeyedVectors(embedding_size)\n",
    "kv = gmk.KeyedVectors(embedding_size)\n",
    "\n",
    "# Get list of game names in correct order to match embeddings\n",
    "gameslist = []\n",
    "for game_id in interactions.columns:\n",
    "    name = games_dict[game_id]\n",
    "    gameslist.append(name)\n",
    "\n",
    "# Add to kv\n",
    "kv.add_vectors(gameslist, embeddings)"
   ]
  },
  {
   "cell_type": "markdown",
   "metadata": {
    "pycharm": {
     "name": "#%% md\n"
    }
   },
   "source": [
    "Let us obtain the games closest to `Counter-Strike`."
   ]
  },
  {
   "cell_type": "code",
   "execution_count": null,
   "metadata": {
    "pycharm": {
     "name": "#%%\n"
    },
    "scrolled": true
   },
   "outputs": [
    {
     "data": {
      "text/plain": [
       "[('Counter-Strike: Condition Zero', 0.9889710545539856),\n",
       " ('Ricochet', 0.8155530095100403),\n",
       " ('Day of Defeat', 0.8057236671447754),\n",
       " ('Deathmatch Classic', 0.7918211817741394),\n",
       " ('Day of Defeat: Source', 0.7780062556266785),\n",
       " ('Left 4 Dead', 0.7620172500610352),\n",
       " ('Counter-Strike: Source', 0.7565068006515503),\n",
       " ('Team Fortress Classic', 0.7399794459342957),\n",
       " ('Half-Life', 0.7331354022026062),\n",
       " ('Half-Life: Source', 0.7313753962516785)]"
      ]
     },
     "execution_count": 132,
     "metadata": {},
     "output_type": "execute_result"
    }
   ],
   "source": [
    "# Get games closest to Counter-Strike\n",
    "kv.most_similar('Counter-Strike')"
   ]
  },
  {
   "cell_type": "code",
   "execution_count": null,
   "metadata": {
    "pycharm": {
     "name": "#%%\n"
    }
   },
   "outputs": [
    {
     "data": {
      "text/plain": [
       "[('Counter-Strike: Global Offensive', 0.9088596701622009),\n",
       " ('Borderlands 2', 0.9077755808830261),\n",
       " (\"Garry's Mod\", 0.9073900580406189),\n",
       " ('PAYDAY™ The Heist', 0.9028856158256531),\n",
       " ('Counter-Strike: Source', 0.876714825630188),\n",
       " ('Chivalry: Medieval Warfare', 0.8743568658828735),\n",
       " ('ORION: Prelude', 0.865768551826477),\n",
       " ('Saints Row: The Third', 0.8642390966415405),\n",
       " ('Terraria', 0.8628590703010559),\n",
       " ('Portal 2', 0.8580748438835144)]"
      ]
     },
     "execution_count": 133,
     "metadata": {},
     "output_type": "execute_result"
    }
   ],
   "source": [
    "# Get games closest to Left 4 Dead 2\n",
    "kv.most_similar('Left 4 Dead 2')"
   ]
  },
  {
   "cell_type": "code",
   "execution_count": null,
   "metadata": {
    "pycharm": {
     "name": "#%%\n"
    },
    "scrolled": true
   },
   "outputs": [
    {
     "data": {
      "text/plain": [
       "[('Assassin’s Creed® Brotherhood', 0.6019642949104309),\n",
       " (\"Assassin's Creed 2 Deluxe Edition\", 0.5840346813201904),\n",
       " ('Mass Effect', 0.572651743888855),\n",
       " ('Hacknet', 0.5606846213340759),\n",
       " ('Pony Island', 0.559233546257019),\n",
       " ('Quantum Conundrum', 0.5592122673988342),\n",
       " ('Tales from the Borderlands', 0.549874484539032),\n",
       " ('The Tiny Bang Story', 0.545116662979126),\n",
       " ('SolForge', 0.5330281257629395),\n",
       " ('Monster Loves You!', 0.5302126407623291)]"
      ]
     },
     "execution_count": 134,
     "metadata": {},
     "output_type": "execute_result"
    }
   ],
   "source": [
    "# Get games closest to The Room\n",
    "kv.most_similar('The Room')"
   ]
  },
  {
   "cell_type": "code",
   "execution_count": null,
   "metadata": {
    "pycharm": {
     "name": "#%%\n"
    },
    "scrolled": true
   },
   "outputs": [
    {
     "data": {
      "text/plain": [
       "[('RollerCoaster Tycoon® 2: Triple Thrill Pack', 0.7439472079277039),\n",
       " ('RollerCoaster Tycoon® 3: Platinum', 0.6559162735939026),\n",
       " ('Domestic Dog', 0.6412861943244934),\n",
       " ('The Sims™ 3', 0.6319240927696228),\n",
       " ('CodeSpells', 0.5927072763442993),\n",
       " ('Train of Afterlife', 0.5765098333358765),\n",
       " ('Turbo Dismount™', 0.5603317022323608),\n",
       " ('MotoGP™13', 0.5421076416969299),\n",
       " ('The Game of Life', 0.5293283462524414),\n",
       " ('Gang Beasts', 0.5282047390937805)]"
      ]
     },
     "execution_count": 135,
     "metadata": {},
     "output_type": "execute_result"
    }
   ],
   "source": [
    "# Get games closest to RollerCoaster Tycoon\n",
    "kv.most_similar('RollerCoaster Tycoon®: Deluxe')"
   ]
  },
  {
   "cell_type": "code",
   "execution_count": null,
   "metadata": {
    "pycharm": {
     "name": "#%%\n"
    },
    "scrolled": true
   },
   "outputs": [
    {
     "data": {
      "text/plain": [
       "[('BioShock Infinite', 0.8899728655815125),\n",
       " ('Middle-earth™: Shadow of Mordor™', 0.8324594497680664),\n",
       " ('BioShock™ Remastered', 0.8258674144744873),\n",
       " ('BioShock® 2', 0.825272262096405),\n",
       " ('BioShock™ 2 Remastered', 0.8230530619621277),\n",
       " ('Borderlands 2', 0.8183562159538269),\n",
       " ('Tomb Raider', 0.8175808787345886),\n",
       " ('BioShock™', 0.8106929659843445),\n",
       " ('Fallout 3: Game of the Year Edition', 0.8053058385848999),\n",
       " ('The Wolf Among Us', 0.7985948324203491)]"
      ]
     },
     "execution_count": 136,
     "metadata": {},
     "output_type": "execute_result"
    }
   ],
   "source": [
    "# Get games closest to Dishonored\n",
    "kv.most_similar('Dishonored')"
   ]
  },
  {
   "cell_type": "code",
   "execution_count": null,
   "metadata": {
    "pycharm": {
     "name": "#%%\n"
    }
   },
   "outputs": [
    {
     "data": {
      "text/plain": [
       "[('Headlander', 0.7320500016212463),\n",
       " ('Zero Punctuation: Hatfall - Hatters Gonna Hat Edition', 0.7090469598770142),\n",
       " ('The Turing Test', 0.7019161581993103),\n",
       " ('Anarcute', 0.6893991231918335),\n",
       " ('Project Highrise', 0.6447640061378479),\n",
       " ('FORCED SHOWDOWN', 0.6418155431747437),\n",
       " ('Quadrilateral Cowboy', 0.6182601451873779),\n",
       " ('Replica', 0.6047425866127014),\n",
       " ('Chiptune Champion', 0.5975139737129211),\n",
       " ('Democracy 3', 0.5938209891319275)]"
      ]
     },
     "execution_count": 137,
     "metadata": {},
     "output_type": "execute_result"
    }
   ],
   "source": [
    "# Get games closest to The Jackbox Party Pack\n",
    "kv.most_similar('The Jackbox Party Pack')"
   ]
  },
  {
   "cell_type": "code",
   "execution_count": null,
   "metadata": {
    "pycharm": {
     "name": "#%%\n"
    },
    "scrolled": true
   },
   "outputs": [
    {
     "data": {
      "text/plain": [
       "[('Farming Simulator 15', 0.8671962022781372),\n",
       " ('Automation - The Car Company Tycoon Game', 0.7993424534797668),\n",
       " ('3D-Coat V4.8', 0.7750760316848755),\n",
       " ('X-Plane 10 Global - 64 Bit', 0.7473171949386597),\n",
       " ('BeamNG.drive', 0.7468715310096741),\n",
       " ('Farming Simulator 17', 0.7418512105941772),\n",
       " ('Youtubers Life', 0.7270777821540833),\n",
       " ('Bus Simulator 16', 0.7259912490844727),\n",
       " ('Jalopy', 0.7243912220001221),\n",
       " ('Cut the Rope', 0.700273871421814)]"
      ]
     },
     "execution_count": 138,
     "metadata": {},
     "output_type": "execute_result"
    }
   ],
   "source": [
    "# Get games closest to American Truck Simulator\n",
    "kv.most_similar('American Truck Simulator')"
   ]
  },
  {
   "cell_type": "markdown",
   "metadata": {},
   "source": [
    "## LightFM evaluation"
   ]
  },
  {
   "cell_type": "code",
   "execution_count": null,
   "metadata": {
    "pycharm": {
     "name": "#%%\n"
    }
   },
   "outputs": [],
   "source": [
    "# Import libraries\n",
    "\n",
    "import pandas as pd\n",
    "import numpy as np\n",
    "import matplotlib.pyplot as plt\n",
    "%matplotlib inline\n",
    "\n",
    "from scipy import sparse\n",
    "\n",
    "from lightfm import LightFM\n",
    "from sklearn.metrics.pairwise import cosine_similarity\n",
    "from lightfm.evaluation import precision_at_k\n",
    "from lightfm.evaluation import auc_score\n",
    "\n",
    "from scipy.spatial import distance\n",
    "\n",
    "from sklearn.manifold import TSNE\n",
    "\n",
    "import gensim.models.keyedvectors as gmk\n",
    "import textwrap\n",
    "from resources import *\n",
    "\n",
    "#Import Warnings\n",
    "import warnings\n",
    "\n",
    "warnings.filterwarnings(\"ignore\")\n"
   ]
  },
  {
   "cell_type": "code",
   "execution_count": null,
   "metadata": {
    "pycharm": {
     "name": "#%%\n"
    }
   },
   "outputs": [],
   "source": [
    "def plot_similar(item, ax, topn=5):\n",
    "    \"\"\"\n",
    "    Plots a bar chart of similar items\n",
    "    Arguments:\n",
    "        - item, string\n",
    "        - ax, axes on which to plot\n",
    "        - topn (default = 5) number of similar items to plot\n",
    "    \"\"\"\n",
    "    sim = kv.most_similar(item, topn=topn)[::-1]\n",
    "    y = np.arange(len(sim))\n",
    "    w = [t[1] for t in sim]\n",
    "    ax.barh(y, w)\n",
    "    left = min(0.6, min(w))\n",
    "    ax.set_xlim(right=1.0, left=left)\n",
    "    # Split long titles over multiple lines\n",
    "    labels = [textwrap.fill(t[0], width=24) for t in sim]\n",
    "    ax.set_yticks(y)\n",
    "    ax.set_yticklabels(labels)\n",
    "    ax.set_title(item)\n"
   ]
  },
  {
   "cell_type": "code",
   "execution_count": null,
   "metadata": {
    "pycharm": {
     "name": "#%%\n"
    }
   },
   "outputs": [
    {
     "data": {
      "image/png": "[encoded data removed]",
      "text/plain": [
       "<Figure size 1080x648 with 6 Axes>"
      ]
     },
     "metadata": {
      "needs_background": "light"
     },
     "output_type": "display_data"
    }
   ],
   "source": [
    "import textwrap\n",
    "\n",
    "# Define list of games to visualise similar items for\n",
    "games = ['Counter-Strike', 'The Room', 'RollerCoaster Tycoon®: Deluxe', 'Dishonored',\n",
    "         'The Jackbox Party Pack', 'American Truck Simulator']\n",
    "\n",
    "# Set figure/axes to have 3 rows with 2 columns\n",
    "fig, axes = plt.subplots(3, 2, figsize=(15, 9))\n",
    "\n",
    "# Loop through games and use plot_similar function \n",
    "for game, ax in zip(games, axes.flatten()):\n",
    "    plot_similar(game, ax)\n",
    "\n",
    "fig.tight_layout()"
   ]
  },
  {
   "cell_type": "markdown",
   "metadata": {
    "pycharm": {
     "name": "#%% md\n"
    }
   },
   "source": [
    "## Visualizing embeddings with t-SNE"
   ]
  },
  {
   "cell_type": "markdown",
   "metadata": {
    "pycharm": {
     "name": "#%% md\n"
    }
   },
   "source": [
    "We will use the t-SNE algorithm to visualise embeddings, going from a 30-dimensional space (number of components) to a 2-dimensional space."
   ]
  },
  {
   "cell_type": "code",
   "execution_count": null,
   "metadata": {
    "pycharm": {
     "name": "#%%\n"
    }
   },
   "outputs": [],
   "source": [
    "from sklearn.manifold import TSNE\n",
    "\n",
    "# Instantialte tsne, specify cosine metric\n",
    "tsne = TSNE(random_state=0, n_iter=1000, metric=\"euclidean\", init='pca')\n",
    "\n",
    "# Fit and transform\n",
    "embeddingsTSNE = tsne.fit_transform(embeddings)\n"
   ]
  },
  {
   "cell_type": "markdown",
   "metadata": {
    "pycharm": {
     "name": "#%% md\n"
    }
   },
   "source": [
    "Let's create a DataFrame with the game name and 2d embeddings."
   ]
  },
  {
   "cell_type": "code",
   "execution_count": null,
   "metadata": {
    "pycharm": {
     "name": "#%%\n"
    },
    "scrolled": true
   },
   "outputs": [
    {
     "data": {
      "text/html": [
       "<div>\n",
       "<style scoped>\n",
       "    .dataframe tbody tr th:only-of-type {\n",
       "        vertical-align: middle;\n",
       "    }\n",
       "\n",
       "    .dataframe tbody tr th {\n",
       "        vertical-align: top;\n",
       "    }\n",
       "\n",
       "    .dataframe thead th {\n",
       "        text-align: right;\n",
       "    }\n",
       "</style>\n",
       "<table border=\"1\" class=\"dataframe\">\n",
       "  <thead>\n",
       "    <tr style=\"text-align: right;\">\n",
       "      <th></th>\n",
       "      <th>game</th>\n",
       "      <th>x</th>\n",
       "      <th>y</th>\n",
       "    </tr>\n",
       "  </thead>\n",
       "  <tbody>\n",
       "    <tr>\n",
       "      <th>0</th>\n",
       "      <td>Counter-Strike</td>\n",
       "      <td>71.358551</td>\n",
       "      <td>-26.495371</td>\n",
       "    </tr>\n",
       "    <tr>\n",
       "      <th>1</th>\n",
       "      <td>Team Fortress Classic</td>\n",
       "      <td>72.203712</td>\n",
       "      <td>-24.484629</td>\n",
       "    </tr>\n",
       "    <tr>\n",
       "      <th>2</th>\n",
       "      <td>Day of Defeat</td>\n",
       "      <td>72.543488</td>\n",
       "      <td>-25.794304</td>\n",
       "    </tr>\n",
       "    <tr>\n",
       "      <th>3</th>\n",
       "      <td>Deathmatch Classic</td>\n",
       "      <td>72.553673</td>\n",
       "      <td>-25.798912</td>\n",
       "    </tr>\n",
       "    <tr>\n",
       "      <th>4</th>\n",
       "      <td>Half-Life: Opposing Force</td>\n",
       "      <td>72.251320</td>\n",
       "      <td>-24.516834</td>\n",
       "    </tr>\n",
       "  </tbody>\n",
       "</table>\n",
       "</div>"
      ],
      "text/plain": [
       "                        game          x          y\n",
       "0             Counter-Strike  71.358551 -26.495371\n",
       "1      Team Fortress Classic  72.203712 -24.484629\n",
       "2              Day of Defeat  72.543488 -25.794304\n",
       "3         Deathmatch Classic  72.553673 -25.798912\n",
       "4  Half-Life: Opposing Force  72.251320 -24.516834"
      ]
     },
     "execution_count": 143,
     "metadata": {},
     "output_type": "execute_result"
    }
   ],
   "source": [
    "# Create DF\n",
    "embeddingsdf = pd.DataFrame()\n",
    "\n",
    "# Add game names\n",
    "embeddingsdf['game'] = gameslist\n",
    "\n",
    "# Add x coordinate\n",
    "embeddingsdf['x'] = embeddingsTSNE[:, 0]\n",
    "\n",
    "# Add y coordinate\n",
    "embeddingsdf['y'] = embeddingsTSNE[:, 1]\n",
    "\n",
    "# Check\n",
    "embeddingsdf.head()"
   ]
  },
  {
   "cell_type": "markdown",
   "metadata": {
    "pycharm": {
     "name": "#%% md\n"
    }
   },
   "source": [
    "Let's draw a scatterplot of our games, using the 2D mapping we created."
   ]
  },
  {
   "cell_type": "code",
   "execution_count": null,
   "metadata": {
    "pycharm": {
     "name": "#%%\n"
    }
   },
   "outputs": [],
   "source": [
    "# # Set figsize\n",
    "# fig, ax = plt.subplots(figsize=(10, 8))\n",
    "\n",
    "# # Scatter points, set alpha low to make points translucent\n",
    "# ax.scatter(embeddingsdf.x, embeddingsdf.y, alpha=.2)\n",
    "\n",
    "# plt.title('Представление игр с использованием t-SNE')\n",
    "\n",
    "# plt.show()"
   ]
  },
  {
   "cell_type": "markdown",
   "metadata": {
    "pycharm": {
     "name": "#%% md\n"
    }
   },
   "source": [
    "It is hard to judge anything by the shape of the plot alone. However as a check, let us ensure that games we expect to be close are indeed close in this 2-dimensional space."
   ]
  },
  {
   "cell_type": "markdown",
   "metadata": {
    "pycharm": {
     "name": "#%% md\n"
    }
   },
   "source": [
    "Let's look for the `Roller Coaster Tycoon` games."
   ]
  },
  {
   "cell_type": "code",
   "execution_count": null,
   "metadata": {
    "pycharm": {
     "name": "#%%\n"
    },
    "scrolled": false
   },
   "outputs": [
    {
     "data": {
      "text/html": [
       "<div>\n",
       "<style scoped>\n",
       "    .dataframe tbody tr th:only-of-type {\n",
       "        vertical-align: middle;\n",
       "    }\n",
       "\n",
       "    .dataframe tbody tr th {\n",
       "        vertical-align: top;\n",
       "    }\n",
       "\n",
       "    .dataframe thead th {\n",
       "        text-align: right;\n",
       "    }\n",
       "</style>\n",
       "<table border=\"1\" class=\"dataframe\">\n",
       "  <thead>\n",
       "    <tr style=\"text-align: right;\">\n",
       "      <th></th>\n",
       "      <th>game</th>\n",
       "      <th>x</th>\n",
       "      <th>y</th>\n",
       "    </tr>\n",
       "  </thead>\n",
       "  <tbody>\n",
       "    <tr>\n",
       "      <th>70</th>\n",
       "      <td>RollerCoaster Tycoon® 3: Platinum</td>\n",
       "      <td>36.068436</td>\n",
       "      <td>-41.624081</td>\n",
       "    </tr>\n",
       "    <tr>\n",
       "      <th>2811</th>\n",
       "      <td>RollerCoaster Tycoon World™</td>\n",
       "      <td>1.585368</td>\n",
       "      <td>-73.736473</td>\n",
       "    </tr>\n",
       "    <tr>\n",
       "      <th>2889</th>\n",
       "      <td>RollerCoaster Tycoon®: Deluxe</td>\n",
       "      <td>30.362061</td>\n",
       "      <td>-48.649437</td>\n",
       "    </tr>\n",
       "    <tr>\n",
       "      <th>2890</th>\n",
       "      <td>RollerCoaster Tycoon® 2: Triple Thrill Pack</td>\n",
       "      <td>30.348146</td>\n",
       "      <td>-48.682911</td>\n",
       "    </tr>\n",
       "  </tbody>\n",
       "</table>\n",
       "</div>"
      ],
      "text/plain": [
       "                                             game          x          y\n",
       "70              RollerCoaster Tycoon® 3: Platinum  36.068436 -41.624081\n",
       "2811                  RollerCoaster Tycoon World™   1.585368 -73.736473\n",
       "2889                RollerCoaster Tycoon®: Deluxe  30.362061 -48.649437\n",
       "2890  RollerCoaster Tycoon® 2: Triple Thrill Pack  30.348146 -48.682911"
      ]
     },
     "execution_count": 145,
     "metadata": {},
     "output_type": "execute_result"
    }
   ],
   "source": [
    "embeddingsRC = embeddingsdf[embeddingsdf.game.str.contains('RollerCoaster')]\n",
    "embeddingsRC"
   ]
  },
  {
   "cell_type": "markdown",
   "metadata": {
    "pycharm": {
     "name": "#%% md\n"
    }
   },
   "source": [
    "### Show similar games with T-SNE"
   ]
  },
  {
   "cell_type": "code",
   "execution_count": null,
   "metadata": {},
   "outputs": [],
   "source": [
    "def showWithTSNE (embeddings_df, embeddings_to_show):\n",
    "    fig, ax = plt.subplots(figsize=(10, 8))\n",
    "\n",
    "    Xlabeled = embeddings_df[embeddings_to_show.index, 0]\n",
    "    Ylabeled = embeddings_df[embeddings_to_show.index, 1]\n",
    "    labels = embeddings_to_show['game'].values\n",
    "\n",
    "    # Highlight specific points\n",
    "    for x, y, label in zip(Xlabeled, Ylabeled, labels):\n",
    "        ax.scatter(x, y, marker='1', label=label, s=90, color='red')\n",
    "    # Draw other points\n",
    "    ax.scatter(embeddingsdf.x, embeddingsdf.y, alpha=.1)\n",
    "\n",
    "    # Draw grid\n",
    "    major_ticks = np.arange(-80, 80, 15)\n",
    "    minor_ticks = np.arange(-80, 80, 5)\n",
    "    ax.set_xticks(major_ticks)\n",
    "    ax.set_xticks(minor_ticks, minor=True)\n",
    "    ax.set_yticks(major_ticks)\n",
    "    ax.set_yticks(minor_ticks, minor=True)\n",
    "    ax.grid(which='minor', alpha=0.2)\n",
    "    ax.grid(which='major', alpha=0.5)\n",
    "\n",
    "    plt.title('Представление игр с использованием t-SNE')\n",
    "    plt.legend()\n",
    "    plt.show()\n"
   ]
  },
  {
   "cell_type": "code",
   "execution_count": null,
   "metadata": {
    "pycharm": {
     "name": "#%%\n"
    }
   },
   "outputs": [],
   "source": [
    "# # Set figsize\n",
    "# fig, ax = plt.subplots(figsize=(10, 8))\n",
    "\n",
    "# Xlabeled = embeddingsTSNE[embeddingsRC.index, 0]\n",
    "# Ylabeled = embeddingsTSNE[embeddingsRC.index, 1]\n",
    "# labels = embeddingsRC['game'].values\n",
    "\n",
    "# # Scatter specific points\n",
    "# for x, y, label in zip(Xlabeled, Ylabeled, labels):\n",
    "#     ax.scatter(x, y, marker='1', label=label, s=90, color='red')\n",
    "\n",
    "# # Scatter points, set alpha low to make points translucent\n",
    "# ax.scatter(embeddingsdf.x, embeddingsdf.y, alpha=.1)\n",
    "\n",
    "# plt.title('Представление игр с использованием t-SNE')\n",
    "# plt.legend()\n",
    "\n",
    "\n",
    "# major_ticks = np.arange(-80, 80, 15)\n",
    "# minor_ticks = np.arange(-80, 80, 5)\n",
    "\n",
    "# ax.set_xticks(major_ticks)\n",
    "# ax.set_xticks(minor_ticks, minor=True)\n",
    "# ax.set_yticks(major_ticks)\n",
    "# ax.set_yticks(minor_ticks, minor=True)\n",
    "\n",
    "# # And a corresponding grid\n",
    "# ax.grid(which='both')\n",
    "\n",
    "# # Or if you want different settings for the grids:\n",
    "# ax.grid(which='minor', alpha=0.2)\n",
    "# ax.grid(which='major', alpha=0.5)\n",
    "\n",
    "# plt.show()\n"
   ]
  },
  {
   "cell_type": "code",
   "execution_count": null,
   "metadata": {},
   "outputs": [
    {
     "data": {
      "image/png": "[encoded data removed]",
      "text/plain": [
       "<Figure size 720x576 with 1 Axes>"
      ]
     },
     "metadata": {
      "needs_background": "light"
     },
     "output_type": "display_data"
    }
   ],
   "source": [
    "showWithTSNE(embeddingsTSNE, embeddingsRC)"
   ]
  },
  {
   "cell_type": "markdown",
   "metadata": {
    "pycharm": {
     "name": "#%% md\n"
    }
   },
   "source": [
    "## User Recommendations"
   ]
  },
  {
   "cell_type": "markdown",
   "metadata": {
    "pycharm": {
     "name": "#%% md\n"
    }
   },
   "source": [
    "### Recommendations for existing user"
   ]
  },
  {
   "cell_type": "code",
   "execution_count": null,
   "metadata": {
    "pycharm": {
     "name": "#%%\n"
    }
   },
   "outputs": [
    {
     "name": "stdout",
     "output_type": "stream",
     "text": [
      "Known Likes:\n",
      "1- Idling to Rule the Gods\n",
      "2- Blueprint Tycoon\n",
      "3- Factorio\n",
      "4- Endless Sky\n",
      "5- Gridworld\n",
      "6- Undertale\n",
      "7- Oxenfree\n",
      "8- Empyrion - Galactic Survival\n",
      "9- Fallout 4\n",
      "10- Astro Lords: Oort Cloud\n",
      "11- TIS-100\n",
      "12- Hacknet\n",
      "13- Transmissions: Element 120\n",
      "14- Total War: WARHAMMER\n",
      "15- Quiplash\n",
      "16- Besiege\n",
      "17- Big Pharma\n",
      "18- Armed with Wings: Rearmed\n",
      "19- Deus Ex: Mankind Divided\n",
      "20- Rise to Ruins\n",
      "21- VoidExpanse\n",
      "22- Don't Starve Together\n",
      "23- Life is Strange - Episode 1\n",
      "24- Fractured Space\n",
      "25- The Desolate Hope\n",
      "26- Starship Corporation\n",
      "27- RollerCoaster Tycoon®: Deluxe\n",
      "28- SOMA\n",
      "29- Creeper World 3: Arc Eternal\n",
      "30- No Man's Sky\n",
      "31- Space Run\n",
      "32- XCOM® 2\n",
      "33- Ether One\n",
      "34- 3089 -- Futuristic Action RPG\n",
      "35- EDEN STAR\n",
      "36- The Talos Principle\n",
      "37- FortressCraft Evolved!\n",
      "38- Lovers in a Dangerous Spacetime\n",
      "39- Risk of Rain\n",
      "40- Craft The World\n",
      "41- Crypt of the NecroDancer\n",
      "42- Democracy 3\n",
      "43- Rogue Legacy\n",
      "44- Spelunky\n",
      "45- Magicka 2\n",
      "46- Edge of Space\n",
      "47- Transistor\n",
      "48- Mad Max\n",
      "49- Surgeon Simulator\n",
      "50- Prison Architect\n",
      "51- Warframe\n",
      "52- Galactic Civilizations III\n",
      "53- Desktop Dungeons\n",
      "54- Gnomoria\n",
      "55- The Stanley Parable\n",
      "56- PlanetSide 2\n",
      "57- Space Rangers HD: A War Apart\n",
      "58- FTL: Faster Than Light\n",
      "59- Star Conflict\n",
      "60- Starbound\n",
      "61- Saints Row IV\n",
      "62- X3: Albion Prelude\n",
      "63- Space Pirates and Zombies\n",
      "64- The Polynomial - Space of the music\n",
      "65- Monday Night Combat\n",
      "66- Tropico 4\n",
      "67- Saints Row: The Third\n",
      "68- Borderlands 2\n",
      "69- Magicka\n",
      "70- Fallout 2: A Post Nuclear Role Playing Game\n",
      "71- Defence Alliance 2\n",
      "72- The Secret of Monkey Island: Special Edition\n",
      "73- Poker Night at the Inventory\n",
      "74- Hunted: The Demon’s Forge™\n",
      "75- Fallout: New Vegas\n",
      "76- Fallout 3: Game of the Year Edition\n",
      "77- BRINK\n",
      "78- Call of Cthulhu®: Dark Corners of the Earth\n",
      "79- The Elder Scrolls IV: Oblivion® Game of the Year Edition\n",
      "80- The Elder Scrolls III: Morrowind® Game of the Year Edition\n",
      "81- Rogue Warrior\n",
      "82- Unreal Gold\n",
      "83- Empire: Total War™\n",
      "84- Saints Row 2\n",
      "85- Commander Keen\n",
      "86- Master Levels for Doom II\n",
      "87- DOOM 3 Resurrection of Evil\n",
      "88- HeXen II\n",
      "89- DOOM 3\n",
      "90- QUAKE Mission Pack 1: Scourge of Armagon\n",
      "91- QUAKE Mission Pack 2: Dissolution of Eternity\n",
      "92- Return to Castle Wolfenstein\n",
      "93- Spear of Destiny\n",
      "94- Borderlands\n",
      "95- Evil Genius\n",
      "96- Peggle Extreme\n",
      "97- X Rebirth\n",
      "98- X3: Terran Conflict\n",
      "99- Heretic: Shadow of the Serpent Riders\n",
      "100- HeXen: Deathkings of the Dark Citadel\n",
      "101- HeXen: Beyond Heretic\n",
      "102- QUAKE III: Team Arena\n",
      "103- QUAKE II Mission Pack: Ground Zero\n",
      "104- QUAKE II Mission Pack: The Reckoning\n",
      "105- QUAKE II\n",
      "106- QUAKE\n",
      "107- DOOM II\n",
      "108- Final DOOM\n",
      "109- Ultimate Doom\n",
      "110- Wolfenstein 3D\n",
      "111- Quake IV\n",
      "112- Quake III Arena\n",
      "113- DEFCON\n",
      "114- Darkest Hour: Europe '44-'45\n",
      "115- Killing Floor\n",
      "116- Mare Nostrum\n",
      "117- Red Orchestra: Ostfront 41-45\n",
      "118- Counter-Strike: Global Offensive\n",
      "119- Portal 2\n",
      "120- Left 4 Dead 2\n",
      "121- Half-Life 2: Episode Two\n",
      "122- Portal\n",
      "123- Half-Life 2: Episode One\n",
      "124- Half-Life Deathmatch: Source\n",
      "125- Half-Life 2: Lost Coast\n",
      "126- Half-Life 2: Deathmatch\n",
      "127- Half-Life 2\n",
      "\n",
      " Recommended Items:\n",
      "1- Stellaris\n",
      "2- Unreal Tournament 2004: Editor's Choice Edition\n",
      "3- Terraria\n",
      "4- XCOM: Enemy Unknown\n",
      "5- Endless Space® - Collection\n"
     ]
    }
   ],
   "source": [
    "rec_list_u12 = get_recs(\n",
    "    model=mf_model,\n",
    "    interactions=interactions,\n",
    "    user_id=2,\n",
    "    user_dict=user_dict,\n",
    "    item_dict=games_dict,\n",
    "    threshold=0,\n",
    "    num_items=5,\n",
    "    show_known=True,\n",
    "    show_recs=True,\n",
    ")\n",
    "# rec_list_u12\n"
   ]
  },
  {
   "cell_type": "markdown",
   "metadata": {
    "pycharm": {
     "name": "#%% md\n"
    }
   },
   "source": [
    "These look reasonable, for instance we note the choice of sequels e.g. Portal 2 when user owns Portal."
   ]
  },
  {
   "cell_type": "code",
   "execution_count": null,
   "metadata": {},
   "outputs": [
    {
     "data": {
      "text/html": [
       "<div>\n",
       "<style scoped>\n",
       "    .dataframe tbody tr th:only-of-type {\n",
       "        vertical-align: middle;\n",
       "    }\n",
       "\n",
       "    .dataframe tbody tr th {\n",
       "        vertical-align: top;\n",
       "    }\n",
       "\n",
       "    .dataframe thead th {\n",
       "        text-align: right;\n",
       "    }\n",
       "</style>\n",
       "<table border=\"1\" class=\"dataframe\">\n",
       "  <thead>\n",
       "    <tr style=\"text-align: right;\">\n",
       "      <th></th>\n",
       "      <th>item</th>\n",
       "      <th>score</th>\n",
       "    </tr>\n",
       "  </thead>\n",
       "  <tbody>\n",
       "    <tr>\n",
       "      <th>0</th>\n",
       "      <td>Stellaris</td>\n",
       "      <td>1</td>\n",
       "    </tr>\n",
       "    <tr>\n",
       "      <th>1</th>\n",
       "      <td>Unreal Tournament 2004: Editor's Choice Edition</td>\n",
       "      <td>2</td>\n",
       "    </tr>\n",
       "    <tr>\n",
       "      <th>2</th>\n",
       "      <td>Terraria</td>\n",
       "      <td>3</td>\n",
       "    </tr>\n",
       "    <tr>\n",
       "      <th>3</th>\n",
       "      <td>XCOM: Enemy Unknown</td>\n",
       "      <td>4</td>\n",
       "    </tr>\n",
       "    <tr>\n",
       "      <th>4</th>\n",
       "      <td>Endless Space® - Collection</td>\n",
       "      <td>5</td>\n",
       "    </tr>\n",
       "  </tbody>\n",
       "</table>\n",
       "</div>"
      ],
      "text/plain": [
       "                                              item score\n",
       "0                                        Stellaris     1\n",
       "1  Unreal Tournament 2004: Editor's Choice Edition     2\n",
       "2                                         Terraria     3\n",
       "3                              XCOM: Enemy Unknown     4\n",
       "4                      Endless Space® - Collection     5"
      ]
     },
     "execution_count": 150,
     "metadata": {},
     "output_type": "execute_result"
    }
   ],
   "source": [
    "rec_list_u12"
   ]
  },
  {
   "cell_type": "markdown",
   "metadata": {
    "pycharm": {
     "name": "#%% md\n"
    }
   },
   "source": [
    "## Item Recommendations"
   ]
  },
  {
   "cell_type": "markdown",
   "metadata": {
    "pycharm": {
     "name": "#%% md\n"
    }
   },
   "source": [
    "### Create item embedding matrix"
   ]
  },
  {
   "cell_type": "code",
   "execution_count": null,
   "metadata": {
    "pycharm": {
     "name": "#%%\n"
    }
   },
   "outputs": [],
   "source": [
    "item_dist = create_item_emdedding_matrix(model=mf_model, interactions=interactions)"
   ]
  },
  {
   "cell_type": "code",
   "execution_count": null,
   "metadata": {
    "pycharm": {
     "name": "#%%\n"
    }
   },
   "outputs": [
    {
     "data": {
      "text/plain": [
       "(7782, 7782)"
      ]
     },
     "execution_count": 152,
     "metadata": {},
     "output_type": "execute_result"
    }
   ],
   "source": [
    "item_dist.shape"
   ]
  },
  {
   "cell_type": "code",
   "execution_count": null,
   "metadata": {
    "pycharm": {
     "name": "#%%\n"
    }
   },
   "outputs": [
    {
     "data": {
      "text/html": [
       "<div>\n",
       "<style scoped>\n",
       "    .dataframe tbody tr th:only-of-type {\n",
       "        vertical-align: middle;\n",
       "    }\n",
       "\n",
       "    .dataframe tbody tr th {\n",
       "        vertical-align: top;\n",
       "    }\n",
       "\n",
       "    .dataframe thead th {\n",
       "        text-align: right;\n",
       "    }\n",
       "</style>\n",
       "<table border=\"1\" class=\"dataframe\">\n",
       "  <thead>\n",
       "    <tr style=\"text-align: right;\">\n",
       "      <th>id</th>\n",
       "      <th>10</th>\n",
       "      <th>20</th>\n",
       "      <th>30</th>\n",
       "      <th>40</th>\n",
       "      <th>50</th>\n",
       "      <th>60</th>\n",
       "      <th>70</th>\n",
       "      <th>80</th>\n",
       "      <th>130</th>\n",
       "      <th>220</th>\n",
       "      <th>...</th>\n",
       "      <th>523790</th>\n",
       "      <th>524340</th>\n",
       "      <th>525190</th>\n",
       "      <th>526460</th>\n",
       "      <th>526790</th>\n",
       "      <th>527340</th>\n",
       "      <th>527440</th>\n",
       "      <th>527510</th>\n",
       "      <th>527520</th>\n",
       "      <th>527810</th>\n",
       "    </tr>\n",
       "    <tr>\n",
       "      <th>id</th>\n",
       "      <th></th>\n",
       "      <th></th>\n",
       "      <th></th>\n",
       "      <th></th>\n",
       "      <th></th>\n",
       "      <th></th>\n",
       "      <th></th>\n",
       "      <th></th>\n",
       "      <th></th>\n",
       "      <th></th>\n",
       "      <th></th>\n",
       "      <th></th>\n",
       "      <th></th>\n",
       "      <th></th>\n",
       "      <th></th>\n",
       "      <th></th>\n",
       "      <th></th>\n",
       "      <th></th>\n",
       "      <th></th>\n",
       "      <th></th>\n",
       "      <th></th>\n",
       "    </tr>\n",
       "  </thead>\n",
       "  <tbody>\n",
       "    <tr>\n",
       "      <th>10</th>\n",
       "      <td>1.000000</td>\n",
       "      <td>0.739979</td>\n",
       "      <td>0.805724</td>\n",
       "      <td>0.791821</td>\n",
       "      <td>0.716373</td>\n",
       "      <td>0.815553</td>\n",
       "      <td>0.733135</td>\n",
       "      <td>0.988971</td>\n",
       "      <td>0.723288</td>\n",
       "      <td>0.709689</td>\n",
       "      <td>...</td>\n",
       "      <td>-0.188345</td>\n",
       "      <td>-0.465309</td>\n",
       "      <td>-0.419089</td>\n",
       "      <td>-0.383079</td>\n",
       "      <td>-0.428982</td>\n",
       "      <td>0.071828</td>\n",
       "      <td>-0.073779</td>\n",
       "      <td>-0.489948</td>\n",
       "      <td>-0.414208</td>\n",
       "      <td>-0.232167</td>\n",
       "    </tr>\n",
       "    <tr>\n",
       "      <th>20</th>\n",
       "      <td>0.739979</td>\n",
       "      <td>1.000000</td>\n",
       "      <td>0.833504</td>\n",
       "      <td>0.826541</td>\n",
       "      <td>0.991696</td>\n",
       "      <td>0.839056</td>\n",
       "      <td>0.975824</td>\n",
       "      <td>0.711277</td>\n",
       "      <td>0.989183</td>\n",
       "      <td>0.861618</td>\n",
       "      <td>...</td>\n",
       "      <td>-0.192357</td>\n",
       "      <td>-0.356458</td>\n",
       "      <td>-0.389635</td>\n",
       "      <td>-0.397502</td>\n",
       "      <td>-0.433447</td>\n",
       "      <td>0.065402</td>\n",
       "      <td>0.004309</td>\n",
       "      <td>-0.444729</td>\n",
       "      <td>-0.384197</td>\n",
       "      <td>-0.095486</td>\n",
       "    </tr>\n",
       "    <tr>\n",
       "      <th>30</th>\n",
       "      <td>0.805724</td>\n",
       "      <td>0.833504</td>\n",
       "      <td>1.000000</td>\n",
       "      <td>0.982672</td>\n",
       "      <td>0.829265</td>\n",
       "      <td>0.978350</td>\n",
       "      <td>0.780797</td>\n",
       "      <td>0.764906</td>\n",
       "      <td>0.844888</td>\n",
       "      <td>0.611277</td>\n",
       "      <td>...</td>\n",
       "      <td>-0.008829</td>\n",
       "      <td>-0.111552</td>\n",
       "      <td>-0.131811</td>\n",
       "      <td>-0.060905</td>\n",
       "      <td>-0.107293</td>\n",
       "      <td>-0.012136</td>\n",
       "      <td>0.099367</td>\n",
       "      <td>-0.183555</td>\n",
       "      <td>-0.104174</td>\n",
       "      <td>0.037272</td>\n",
       "    </tr>\n",
       "    <tr>\n",
       "      <th>40</th>\n",
       "      <td>0.791821</td>\n",
       "      <td>0.826541</td>\n",
       "      <td>0.982672</td>\n",
       "      <td>1.000000</td>\n",
       "      <td>0.829154</td>\n",
       "      <td>0.990551</td>\n",
       "      <td>0.783105</td>\n",
       "      <td>0.745246</td>\n",
       "      <td>0.845431</td>\n",
       "      <td>0.592328</td>\n",
       "      <td>...</td>\n",
       "      <td>-0.010048</td>\n",
       "      <td>-0.082844</td>\n",
       "      <td>-0.077395</td>\n",
       "      <td>-0.025197</td>\n",
       "      <td>-0.062734</td>\n",
       "      <td>-0.016958</td>\n",
       "      <td>0.114709</td>\n",
       "      <td>-0.158350</td>\n",
       "      <td>-0.074324</td>\n",
       "      <td>0.066103</td>\n",
       "    </tr>\n",
       "    <tr>\n",
       "      <th>50</th>\n",
       "      <td>0.716373</td>\n",
       "      <td>0.991696</td>\n",
       "      <td>0.829265</td>\n",
       "      <td>0.829154</td>\n",
       "      <td>1.000000</td>\n",
       "      <td>0.840205</td>\n",
       "      <td>0.981292</td>\n",
       "      <td>0.683644</td>\n",
       "      <td>0.995232</td>\n",
       "      <td>0.839993</td>\n",
       "      <td>...</td>\n",
       "      <td>-0.170264</td>\n",
       "      <td>-0.308361</td>\n",
       "      <td>-0.352515</td>\n",
       "      <td>-0.352208</td>\n",
       "      <td>-0.396507</td>\n",
       "      <td>0.056928</td>\n",
       "      <td>-0.001309</td>\n",
       "      <td>-0.401910</td>\n",
       "      <td>-0.353363</td>\n",
       "      <td>-0.089664</td>\n",
       "    </tr>\n",
       "  </tbody>\n",
       "</table>\n",
       "<p>5 rows × 7782 columns</p>\n",
       "</div>"
      ],
      "text/plain": [
       "id    10        20        30        40        50        60        70      \\\n",
       "id                                                                         \n",
       "10  1.000000  0.739979  0.805724  0.791821  0.716373  0.815553  0.733135   \n",
       "20  0.739979  1.000000  0.833504  0.826541  0.991696  0.839056  0.975824   \n",
       "30  0.805724  0.833504  1.000000  0.982672  0.829265  0.978350  0.780797   \n",
       "40  0.791821  0.826541  0.982672  1.000000  0.829154  0.990551  0.783105   \n",
       "50  0.716373  0.991696  0.829265  0.829154  1.000000  0.840205  0.981292   \n",
       "\n",
       "id    80        130       220     ...    523790    524340    525190    526460  \\\n",
       "id                                ...                                           \n",
       "10  0.988971  0.723288  0.709689  ... -0.188345 -0.465309 -0.419089 -0.383079   \n",
       "20  0.711277  0.989183  0.861618  ... -0.192357 -0.356458 -0.389635 -0.397502   \n",
       "30  0.764906  0.844888  0.611277  ... -0.008829 -0.111552 -0.131811 -0.060905   \n",
       "40  0.745246  0.845431  0.592328  ... -0.010048 -0.082844 -0.077395 -0.025197   \n",
       "50  0.683644  0.995232  0.839993  ... -0.170264 -0.308361 -0.352515 -0.352208   \n",
       "\n",
       "id    526790    527340    527440    527510    527520    527810  \n",
       "id                                                              \n",
       "10 -0.428982  0.071828 -0.073779 -0.489948 -0.414208 -0.232167  \n",
       "20 -0.433447  0.065402  0.004309 -0.444729 -0.384197 -0.095486  \n",
       "30 -0.107293 -0.012136  0.099367 -0.183555 -0.104174  0.037272  \n",
       "40 -0.062734 -0.016958  0.114709 -0.158350 -0.074324  0.066103  \n",
       "50 -0.396507  0.056928 -0.001309 -0.401910 -0.353363 -0.089664  \n",
       "\n",
       "[5 rows x 7782 columns]"
      ]
     },
     "execution_count": 153,
     "metadata": {},
     "output_type": "execute_result"
    }
   ],
   "source": [
    "item_dist.head()"
   ]
  },
  {
   "cell_type": "markdown",
   "metadata": {
    "pycharm": {
     "name": "#%% md\n"
    }
   },
   "source": [
    "### Generate item recommendations"
   ]
  },
  {
   "cell_type": "code",
   "execution_count": null,
   "metadata": {
    "pycharm": {
     "name": "#%%\n"
    }
   },
   "outputs": [
    {
     "name": "stdout",
     "output_type": "stream",
     "text": [
      "Интересующая игра: Counter-Strike\n",
      "Схожие игры:\n",
      "1 - Counter-Strike: Condition Zero\n",
      "2 - Ricochet\n",
      "3 - Day of Defeat\n",
      "4 - Deathmatch Classic\n",
      "5 - Day of Defeat: Source\n"
     ]
    }
   ],
   "source": [
    "# Similar items to item_id 10 - Counter Strike\n",
    "item_rec_list_10 = get_item_recs(item_emdedding_matrix=item_dist,\n",
    "                                 item_id=10,\n",
    "                                 item_dict=games_dict,\n",
    "                                 n_items=5,\n",
    "                                 show=True)"
   ]
  },
  {
   "cell_type": "code",
   "execution_count": null,
   "metadata": {
    "pycharm": {
     "name": "#%%\n"
    }
   },
   "outputs": [
    {
     "data": {
      "text/html": [
       "<div>\n",
       "<style scoped>\n",
       "    .dataframe tbody tr th:only-of-type {\n",
       "        vertical-align: middle;\n",
       "    }\n",
       "\n",
       "    .dataframe tbody tr th {\n",
       "        vertical-align: top;\n",
       "    }\n",
       "\n",
       "    .dataframe thead th {\n",
       "        text-align: right;\n",
       "    }\n",
       "</style>\n",
       "<table border=\"1\" class=\"dataframe\">\n",
       "  <thead>\n",
       "    <tr style=\"text-align: right;\">\n",
       "      <th></th>\n",
       "      <th>5211</th>\n",
       "    </tr>\n",
       "  </thead>\n",
       "  <tbody>\n",
       "    <tr>\n",
       "      <th>publisher</th>\n",
       "      <td>Thekla, Inc.</td>\n",
       "    </tr>\n",
       "    <tr>\n",
       "      <th>genres</th>\n",
       "      <td>['Adventure', 'Indie']</td>\n",
       "    </tr>\n",
       "    <tr>\n",
       "      <th>app_name</th>\n",
       "      <td>The Witness</td>\n",
       "    </tr>\n",
       "    <tr>\n",
       "      <th>title</th>\n",
       "      <td>The Witness</td>\n",
       "    </tr>\n",
       "    <tr>\n",
       "      <th>url</th>\n",
       "      <td>http://store.steampowered.com/app/210970/The_W...</td>\n",
       "    </tr>\n",
       "    <tr>\n",
       "      <th>release_date</th>\n",
       "      <td>2016-01-26</td>\n",
       "    </tr>\n",
       "    <tr>\n",
       "      <th>tags</th>\n",
       "      <td>['Puzzle', 'Exploration', 'First-Person', 'Sin...</td>\n",
       "    </tr>\n",
       "    <tr>\n",
       "      <th>discount_price</th>\n",
       "      <td>NaN</td>\n",
       "    </tr>\n",
       "    <tr>\n",
       "      <th>reviews_url</th>\n",
       "      <td>http://steamcommunity.com/app/210970/reviews/?...</td>\n",
       "    </tr>\n",
       "    <tr>\n",
       "      <th>specs</th>\n",
       "      <td>['Single-player', 'Steam Achievements', 'Capti...</td>\n",
       "    </tr>\n",
       "    <tr>\n",
       "      <th>price</th>\n",
       "      <td>39.99</td>\n",
       "    </tr>\n",
       "    <tr>\n",
       "      <th>early_access</th>\n",
       "      <td>False</td>\n",
       "    </tr>\n",
       "    <tr>\n",
       "      <th>id</th>\n",
       "      <td>210970.0</td>\n",
       "    </tr>\n",
       "    <tr>\n",
       "      <th>developer</th>\n",
       "      <td>Thekla, Inc.</td>\n",
       "    </tr>\n",
       "    <tr>\n",
       "      <th>sentiment</th>\n",
       "      <td>Very Positive</td>\n",
       "    </tr>\n",
       "    <tr>\n",
       "      <th>metascore</th>\n",
       "      <td>87.0</td>\n",
       "    </tr>\n",
       "  </tbody>\n",
       "</table>\n",
       "</div>"
      ],
      "text/plain": [
       "                                                             5211\n",
       "publisher                                            Thekla, Inc.\n",
       "genres                                     ['Adventure', 'Indie']\n",
       "app_name                                              The Witness\n",
       "title                                                 The Witness\n",
       "url             http://store.steampowered.com/app/210970/The_W...\n",
       "release_date                                           2016-01-26\n",
       "tags            ['Puzzle', 'Exploration', 'First-Person', 'Sin...\n",
       "discount_price                                                NaN\n",
       "reviews_url     http://steamcommunity.com/app/210970/reviews/?...\n",
       "specs           ['Single-player', 'Steam Achievements', 'Capti...\n",
       "price                                                       39.99\n",
       "early_access                                                False\n",
       "id                                                       210970.0\n",
       "developer                                            Thekla, Inc.\n",
       "sentiment                                           Very Positive\n",
       "metascore                                                    87.0"
      ]
     },
     "execution_count": 155,
     "metadata": {},
     "output_type": "execute_result"
    }
   ],
   "source": [
    "gamesdata[gamesdata['title'] == 'The Witness'].T"
   ]
  },
  {
   "cell_type": "code",
   "execution_count": null,
   "metadata": {
    "pycharm": {
     "name": "#%%\n"
    }
   },
   "outputs": [
    {
     "name": "stdout",
     "output_type": "stream",
     "text": [
      "Интересующая игра: The Witness\n",
      "Схожие игры:\n",
      "1 - Danganronpa: Trigger Happy Havoc\n",
      "2 - ABZU\n",
      "3 - Danganronpa 2: Goodbye Despair\n",
      "4 - Gremlins, Inc.\n",
      "5 - Oxenfree\n"
     ]
    }
   ],
   "source": [
    "# Similar items to item_id 210970 The Witness\n",
    "item_rec_list_210970 = get_item_recs(item_emdedding_matrix=item_dist,\n",
    "                                     item_id=210970,\n",
    "                                     item_dict=games_dict,\n",
    "                                     n_items=5,\n",
    "                                     show=True)\n",
    "\n"
   ]
  },
  {
   "cell_type": "code",
   "execution_count": null,
   "metadata": {
    "pycharm": {
     "name": "#%%\n"
    }
   },
   "outputs": [
    {
     "data": {
      "text/html": [
       "<div>\n",
       "<style scoped>\n",
       "    .dataframe tbody tr th:only-of-type {\n",
       "        vertical-align: middle;\n",
       "    }\n",
       "\n",
       "    .dataframe tbody tr th {\n",
       "        vertical-align: top;\n",
       "    }\n",
       "\n",
       "    .dataframe thead th {\n",
       "        text-align: right;\n",
       "    }\n",
       "</style>\n",
       "<table border=\"1\" class=\"dataframe\">\n",
       "  <thead>\n",
       "    <tr style=\"text-align: right;\">\n",
       "      <th></th>\n",
       "      <th>24195</th>\n",
       "    </tr>\n",
       "  </thead>\n",
       "  <tbody>\n",
       "    <tr>\n",
       "      <th>publisher</th>\n",
       "      <td>SCS Software</td>\n",
       "    </tr>\n",
       "    <tr>\n",
       "      <th>genres</th>\n",
       "      <td>['Indie', 'Simulation']</td>\n",
       "    </tr>\n",
       "    <tr>\n",
       "      <th>app_name</th>\n",
       "      <td>American Truck Simulator</td>\n",
       "    </tr>\n",
       "    <tr>\n",
       "      <th>title</th>\n",
       "      <td>American Truck Simulator</td>\n",
       "    </tr>\n",
       "    <tr>\n",
       "      <th>url</th>\n",
       "      <td>http://store.steampowered.com/app/270880/Ameri...</td>\n",
       "    </tr>\n",
       "    <tr>\n",
       "      <th>release_date</th>\n",
       "      <td>2016-02-02</td>\n",
       "    </tr>\n",
       "    <tr>\n",
       "      <th>tags</th>\n",
       "      <td>['Simulation', 'Driving', 'Open World', 'Ameri...</td>\n",
       "    </tr>\n",
       "    <tr>\n",
       "      <th>discount_price</th>\n",
       "      <td>NaN</td>\n",
       "    </tr>\n",
       "    <tr>\n",
       "      <th>reviews_url</th>\n",
       "      <td>http://steamcommunity.com/app/270880/reviews/?...</td>\n",
       "    </tr>\n",
       "    <tr>\n",
       "      <th>specs</th>\n",
       "      <td>['Single-player', 'Steam Achievements', 'Steam...</td>\n",
       "    </tr>\n",
       "    <tr>\n",
       "      <th>price</th>\n",
       "      <td>19.99</td>\n",
       "    </tr>\n",
       "    <tr>\n",
       "      <th>early_access</th>\n",
       "      <td>False</td>\n",
       "    </tr>\n",
       "    <tr>\n",
       "      <th>id</th>\n",
       "      <td>270880.0</td>\n",
       "    </tr>\n",
       "    <tr>\n",
       "      <th>developer</th>\n",
       "      <td>SCS Software</td>\n",
       "    </tr>\n",
       "    <tr>\n",
       "      <th>sentiment</th>\n",
       "      <td>Very Positive</td>\n",
       "    </tr>\n",
       "    <tr>\n",
       "      <th>metascore</th>\n",
       "      <td>76.0</td>\n",
       "    </tr>\n",
       "  </tbody>\n",
       "</table>\n",
       "</div>"
      ],
      "text/plain": [
       "                                                            24195\n",
       "publisher                                            SCS Software\n",
       "genres                                    ['Indie', 'Simulation']\n",
       "app_name                                 American Truck Simulator\n",
       "title                                    American Truck Simulator\n",
       "url             http://store.steampowered.com/app/270880/Ameri...\n",
       "release_date                                           2016-02-02\n",
       "tags            ['Simulation', 'Driving', 'Open World', 'Ameri...\n",
       "discount_price                                                NaN\n",
       "reviews_url     http://steamcommunity.com/app/270880/reviews/?...\n",
       "specs           ['Single-player', 'Steam Achievements', 'Steam...\n",
       "price                                                       19.99\n",
       "early_access                                                False\n",
       "id                                                       270880.0\n",
       "developer                                            SCS Software\n",
       "sentiment                                           Very Positive\n",
       "metascore                                                    76.0"
      ]
     },
     "execution_count": 157,
     "metadata": {},
     "output_type": "execute_result"
    }
   ],
   "source": [
    "gamesdata[gamesdata['title'] == 'American Truck Simulator'].T"
   ]
  },
  {
   "cell_type": "code",
   "execution_count": null,
   "metadata": {
    "pycharm": {
     "name": "#%%\n"
    }
   },
   "outputs": [
    {
     "name": "stdout",
     "output_type": "stream",
     "text": [
      "Интересующая игра: American Truck Simulator\n",
      "Схожие игры:\n",
      "1 - Farming Simulator 15\n",
      "2 - Automation - The Car Company Tycoon Game\n",
      "3 - 3D-Coat V4.8\n",
      "4 - X-Plane 10 Global - 64 Bit\n",
      "5 - BeamNG.drive\n"
     ]
    }
   ],
   "source": [
    "# Similar items to item_id 270880 American Truck Simulator\n",
    "item_rec_list_270880 = get_item_recs(item_emdedding_matrix=item_dist,\n",
    "                                     item_id=270880,\n",
    "                                     item_dict=games_dict,\n",
    "                                     n_items=5,\n",
    "                                     show=True)"
   ]
  },
  {
   "cell_type": "markdown",
   "metadata": {
    "pycharm": {
     "name": "#%% md\n"
    }
   },
   "source": [
    "These look reasonable."
   ]
  },
  {
   "cell_type": "markdown",
   "metadata": {
    "pycharm": {
     "name": "#%% md\n"
    }
   },
   "source": [
    "## Recommendations for new user - Demo"
   ]
  },
  {
   "cell_type": "markdown",
   "metadata": {
    "pycharm": {
     "name": "#%% md\n"
    }
   },
   "source": [
    "Example games owned:\n",
    "* 210970 The Witness\n",
    "* 288160 The Room\n",
    "* 550 Left 4 Dead 2"
   ]
  },
  {
   "cell_type": "code",
   "execution_count": null,
   "metadata": {
    "pycharm": {
     "name": "#%%\n"
    },
    "scrolled": true
   },
   "outputs": [
    {
     "name": "stdout",
     "output_type": "stream",
     "text": [
      "You own the following games: ['']\n"
     ]
    }
   ],
   "source": [
    "# Get list of owned games from user\n",
    "\n",
    "# Create empty list to store game ids\n",
    "ownedgames = []\n",
    "\n",
    "# Create loop to prompt for game id and ask if want to continue\n",
    "moretoadd = 'y'\n",
    "while moretoadd == 'y':\n",
    "    game = input('Please enter the game id: ')\n",
    "    ownedgames.append(game)\n",
    "    moretoadd = input('Do you have more games to add? y/n ')\n",
    "\n",
    "# Print list of owned games\n",
    "print(f\"You own the following games: {ownedgames}\")"
   ]
  },
  {
   "attachments": {},
   "cell_type": "markdown",
   "metadata": {},
   "source": [
    "## Tensorflow nn"
   ]
  },
  {
   "cell_type": "code",
   "execution_count": 6,
   "metadata": {},
   "outputs": [
    {
     "data": {
      "text/html": [
       "<div>\n",
       "<style scoped>\n",
       "    .dataframe tbody tr th:only-of-type {\n",
       "        vertical-align: middle;\n",
       "    }\n",
       "\n",
       "    .dataframe tbody tr th {\n",
       "        vertical-align: top;\n",
       "    }\n",
       "\n",
       "    .dataframe thead th {\n",
       "        text-align: right;\n",
       "    }\n",
       "</style>\n",
       "<table border=\"1\" class=\"dataframe\">\n",
       "  <thead>\n",
       "    <tr style=\"text-align: right;\">\n",
       "      <th>id</th>\n",
       "      <th>10</th>\n",
       "      <th>20</th>\n",
       "      <th>30</th>\n",
       "      <th>40</th>\n",
       "      <th>50</th>\n",
       "      <th>60</th>\n",
       "      <th>70</th>\n",
       "      <th>80</th>\n",
       "      <th>130</th>\n",
       "      <th>220</th>\n",
       "      <th>...</th>\n",
       "      <th>526790</th>\n",
       "      <th>527340</th>\n",
       "      <th>527440</th>\n",
       "      <th>527510</th>\n",
       "      <th>527520</th>\n",
       "      <th>527810</th>\n",
       "      <th>527890</th>\n",
       "      <th>527900</th>\n",
       "      <th>528660</th>\n",
       "      <th>530720</th>\n",
       "    </tr>\n",
       "    <tr>\n",
       "      <th>uid</th>\n",
       "      <th></th>\n",
       "      <th></th>\n",
       "      <th></th>\n",
       "      <th></th>\n",
       "      <th></th>\n",
       "      <th></th>\n",
       "      <th></th>\n",
       "      <th></th>\n",
       "      <th></th>\n",
       "      <th></th>\n",
       "      <th></th>\n",
       "      <th></th>\n",
       "      <th></th>\n",
       "      <th></th>\n",
       "      <th></th>\n",
       "      <th></th>\n",
       "      <th></th>\n",
       "      <th></th>\n",
       "      <th></th>\n",
       "      <th></th>\n",
       "      <th></th>\n",
       "    </tr>\n",
       "  </thead>\n",
       "  <tbody>\n",
       "    <tr>\n",
       "      <th>15883</th>\n",
       "      <td>0.0</td>\n",
       "      <td>0.0</td>\n",
       "      <td>0.0</td>\n",
       "      <td>0.0</td>\n",
       "      <td>0.0</td>\n",
       "      <td>0.0</td>\n",
       "      <td>0.0</td>\n",
       "      <td>0.0</td>\n",
       "      <td>0.0</td>\n",
       "      <td>1.0</td>\n",
       "      <td>...</td>\n",
       "      <td>0.0</td>\n",
       "      <td>0.0</td>\n",
       "      <td>0.0</td>\n",
       "      <td>0.0</td>\n",
       "      <td>0.0</td>\n",
       "      <td>0.0</td>\n",
       "      <td>0.0</td>\n",
       "      <td>0.0</td>\n",
       "      <td>0.0</td>\n",
       "      <td>0.0</td>\n",
       "    </tr>\n",
       "    <tr>\n",
       "      <th>5484</th>\n",
       "      <td>0.0</td>\n",
       "      <td>0.0</td>\n",
       "      <td>0.0</td>\n",
       "      <td>0.0</td>\n",
       "      <td>0.0</td>\n",
       "      <td>0.0</td>\n",
       "      <td>0.0</td>\n",
       "      <td>0.0</td>\n",
       "      <td>0.0</td>\n",
       "      <td>0.0</td>\n",
       "      <td>...</td>\n",
       "      <td>0.0</td>\n",
       "      <td>0.0</td>\n",
       "      <td>0.0</td>\n",
       "      <td>0.0</td>\n",
       "      <td>0.0</td>\n",
       "      <td>0.0</td>\n",
       "      <td>0.0</td>\n",
       "      <td>0.0</td>\n",
       "      <td>0.0</td>\n",
       "      <td>0.0</td>\n",
       "    </tr>\n",
       "    <tr>\n",
       "      <th>18765</th>\n",
       "      <td>0.0</td>\n",
       "      <td>0.0</td>\n",
       "      <td>0.0</td>\n",
       "      <td>0.0</td>\n",
       "      <td>0.0</td>\n",
       "      <td>0.0</td>\n",
       "      <td>0.0</td>\n",
       "      <td>0.0</td>\n",
       "      <td>0.0</td>\n",
       "      <td>0.0</td>\n",
       "      <td>...</td>\n",
       "      <td>0.0</td>\n",
       "      <td>0.0</td>\n",
       "      <td>0.0</td>\n",
       "      <td>0.0</td>\n",
       "      <td>0.0</td>\n",
       "      <td>0.0</td>\n",
       "      <td>0.0</td>\n",
       "      <td>0.0</td>\n",
       "      <td>0.0</td>\n",
       "      <td>0.0</td>\n",
       "    </tr>\n",
       "    <tr>\n",
       "      <th>25395</th>\n",
       "      <td>0.0</td>\n",
       "      <td>0.0</td>\n",
       "      <td>0.0</td>\n",
       "      <td>0.0</td>\n",
       "      <td>0.0</td>\n",
       "      <td>0.0</td>\n",
       "      <td>0.0</td>\n",
       "      <td>0.0</td>\n",
       "      <td>0.0</td>\n",
       "      <td>1.0</td>\n",
       "      <td>...</td>\n",
       "      <td>0.0</td>\n",
       "      <td>0.0</td>\n",
       "      <td>0.0</td>\n",
       "      <td>0.0</td>\n",
       "      <td>0.0</td>\n",
       "      <td>0.0</td>\n",
       "      <td>0.0</td>\n",
       "      <td>0.0</td>\n",
       "      <td>0.0</td>\n",
       "      <td>0.0</td>\n",
       "    </tr>\n",
       "    <tr>\n",
       "      <th>465</th>\n",
       "      <td>0.0</td>\n",
       "      <td>0.0</td>\n",
       "      <td>0.0</td>\n",
       "      <td>0.0</td>\n",
       "      <td>0.0</td>\n",
       "      <td>0.0</td>\n",
       "      <td>0.0</td>\n",
       "      <td>0.0</td>\n",
       "      <td>0.0</td>\n",
       "      <td>0.0</td>\n",
       "      <td>...</td>\n",
       "      <td>0.0</td>\n",
       "      <td>0.0</td>\n",
       "      <td>0.0</td>\n",
       "      <td>0.0</td>\n",
       "      <td>0.0</td>\n",
       "      <td>0.0</td>\n",
       "      <td>0.0</td>\n",
       "      <td>0.0</td>\n",
       "      <td>0.0</td>\n",
       "      <td>0.0</td>\n",
       "    </tr>\n",
       "    <tr>\n",
       "      <th>998</th>\n",
       "      <td>0.0</td>\n",
       "      <td>0.0</td>\n",
       "      <td>0.0</td>\n",
       "      <td>0.0</td>\n",
       "      <td>0.0</td>\n",
       "      <td>0.0</td>\n",
       "      <td>0.0</td>\n",
       "      <td>0.0</td>\n",
       "      <td>0.0</td>\n",
       "      <td>0.0</td>\n",
       "      <td>...</td>\n",
       "      <td>0.0</td>\n",
       "      <td>0.0</td>\n",
       "      <td>0.0</td>\n",
       "      <td>0.0</td>\n",
       "      <td>0.0</td>\n",
       "      <td>0.0</td>\n",
       "      <td>0.0</td>\n",
       "      <td>0.0</td>\n",
       "      <td>0.0</td>\n",
       "      <td>0.0</td>\n",
       "    </tr>\n",
       "    <tr>\n",
       "      <th>26896</th>\n",
       "      <td>0.0</td>\n",
       "      <td>0.0</td>\n",
       "      <td>0.0</td>\n",
       "      <td>0.0</td>\n",
       "      <td>0.0</td>\n",
       "      <td>0.0</td>\n",
       "      <td>0.0</td>\n",
       "      <td>0.0</td>\n",
       "      <td>0.0</td>\n",
       "      <td>0.0</td>\n",
       "      <td>...</td>\n",
       "      <td>0.0</td>\n",
       "      <td>0.0</td>\n",
       "      <td>0.0</td>\n",
       "      <td>0.0</td>\n",
       "      <td>0.0</td>\n",
       "      <td>0.0</td>\n",
       "      <td>0.0</td>\n",
       "      <td>0.0</td>\n",
       "      <td>0.0</td>\n",
       "      <td>0.0</td>\n",
       "    </tr>\n",
       "    <tr>\n",
       "      <th>22903</th>\n",
       "      <td>0.0</td>\n",
       "      <td>0.0</td>\n",
       "      <td>0.0</td>\n",
       "      <td>0.0</td>\n",
       "      <td>0.0</td>\n",
       "      <td>0.0</td>\n",
       "      <td>0.0</td>\n",
       "      <td>0.0</td>\n",
       "      <td>0.0</td>\n",
       "      <td>1.0</td>\n",
       "      <td>...</td>\n",
       "      <td>0.0</td>\n",
       "      <td>0.0</td>\n",
       "      <td>0.0</td>\n",
       "      <td>0.0</td>\n",
       "      <td>0.0</td>\n",
       "      <td>0.0</td>\n",
       "      <td>0.0</td>\n",
       "      <td>0.0</td>\n",
       "      <td>0.0</td>\n",
       "      <td>0.0</td>\n",
       "    </tr>\n",
       "    <tr>\n",
       "      <th>27121</th>\n",
       "      <td>1.0</td>\n",
       "      <td>0.0</td>\n",
       "      <td>0.0</td>\n",
       "      <td>0.0</td>\n",
       "      <td>0.0</td>\n",
       "      <td>0.0</td>\n",
       "      <td>0.0</td>\n",
       "      <td>1.0</td>\n",
       "      <td>0.0</td>\n",
       "      <td>0.0</td>\n",
       "      <td>...</td>\n",
       "      <td>0.0</td>\n",
       "      <td>0.0</td>\n",
       "      <td>0.0</td>\n",
       "      <td>0.0</td>\n",
       "      <td>0.0</td>\n",
       "      <td>0.0</td>\n",
       "      <td>0.0</td>\n",
       "      <td>0.0</td>\n",
       "      <td>0.0</td>\n",
       "      <td>0.0</td>\n",
       "    </tr>\n",
       "    <tr>\n",
       "      <th>3435</th>\n",
       "      <td>0.0</td>\n",
       "      <td>0.0</td>\n",
       "      <td>0.0</td>\n",
       "      <td>0.0</td>\n",
       "      <td>0.0</td>\n",
       "      <td>0.0</td>\n",
       "      <td>0.0</td>\n",
       "      <td>0.0</td>\n",
       "      <td>0.0</td>\n",
       "      <td>1.0</td>\n",
       "      <td>...</td>\n",
       "      <td>0.0</td>\n",
       "      <td>0.0</td>\n",
       "      <td>0.0</td>\n",
       "      <td>0.0</td>\n",
       "      <td>0.0</td>\n",
       "      <td>0.0</td>\n",
       "      <td>0.0</td>\n",
       "      <td>0.0</td>\n",
       "      <td>0.0</td>\n",
       "      <td>0.0</td>\n",
       "    </tr>\n",
       "  </tbody>\n",
       "</table>\n",
       "<p>10 rows × 8657 columns</p>\n",
       "</div>"
      ],
      "text/plain": [
       "id     10      20      30      40      50      60      70      80      130     \\\n",
       "uid                                                                             \n",
       "15883     0.0     0.0     0.0     0.0     0.0     0.0     0.0     0.0     0.0   \n",
       "5484      0.0     0.0     0.0     0.0     0.0     0.0     0.0     0.0     0.0   \n",
       "18765     0.0     0.0     0.0     0.0     0.0     0.0     0.0     0.0     0.0   \n",
       "25395     0.0     0.0     0.0     0.0     0.0     0.0     0.0     0.0     0.0   \n",
       "465       0.0     0.0     0.0     0.0     0.0     0.0     0.0     0.0     0.0   \n",
       "998       0.0     0.0     0.0     0.0     0.0     0.0     0.0     0.0     0.0   \n",
       "26896     0.0     0.0     0.0     0.0     0.0     0.0     0.0     0.0     0.0   \n",
       "22903     0.0     0.0     0.0     0.0     0.0     0.0     0.0     0.0     0.0   \n",
       "27121     1.0     0.0     0.0     0.0     0.0     0.0     0.0     1.0     0.0   \n",
       "3435      0.0     0.0     0.0     0.0     0.0     0.0     0.0     0.0     0.0   \n",
       "\n",
       "id     220     ...  526790  527340  527440  527510  527520  527810  527890  \\\n",
       "uid            ...                                                           \n",
       "15883     1.0  ...     0.0     0.0     0.0     0.0     0.0     0.0     0.0   \n",
       "5484      0.0  ...     0.0     0.0     0.0     0.0     0.0     0.0     0.0   \n",
       "18765     0.0  ...     0.0     0.0     0.0     0.0     0.0     0.0     0.0   \n",
       "25395     1.0  ...     0.0     0.0     0.0     0.0     0.0     0.0     0.0   \n",
       "465       0.0  ...     0.0     0.0     0.0     0.0     0.0     0.0     0.0   \n",
       "998       0.0  ...     0.0     0.0     0.0     0.0     0.0     0.0     0.0   \n",
       "26896     0.0  ...     0.0     0.0     0.0     0.0     0.0     0.0     0.0   \n",
       "22903     1.0  ...     0.0     0.0     0.0     0.0     0.0     0.0     0.0   \n",
       "27121     0.0  ...     0.0     0.0     0.0     0.0     0.0     0.0     0.0   \n",
       "3435      1.0  ...     0.0     0.0     0.0     0.0     0.0     0.0     0.0   \n",
       "\n",
       "id     527900  528660  530720  \n",
       "uid                            \n",
       "15883     0.0     0.0     0.0  \n",
       "5484      0.0     0.0     0.0  \n",
       "18765     0.0     0.0     0.0  \n",
       "25395     0.0     0.0     0.0  \n",
       "465       0.0     0.0     0.0  \n",
       "998       0.0     0.0     0.0  \n",
       "26896     0.0     0.0     0.0  \n",
       "22903     0.0     0.0     0.0  \n",
       "27121     0.0     0.0     0.0  \n",
       "3435      0.0     0.0     0.0  \n",
       "\n",
       "[10 rows x 8657 columns]"
      ]
     },
     "execution_count": 6,
     "metadata": {},
     "output_type": "execute_result"
    }
   ],
   "source": [
    "interactions.sample(10)"
   ]
  },
  {
   "cell_type": "code",
   "execution_count": 6,
   "metadata": {},
   "outputs": [
    {
     "name": "stderr",
     "output_type": "stream",
     "text": [
      "2023-02-28 15:51:23.832617: I tensorflow/core/platform/cpu_feature_guard.cc:193] This TensorFlow binary is optimized with oneAPI Deep Neural Network Library (oneDNN) to use the following CPU instructions in performance-critical operations:  AVX2 FMA\n",
      "To enable them in other operations, rebuild TensorFlow with the appropriate compiler flags.\n",
      "2023-02-28 15:51:24.159212: W tensorflow/compiler/xla/stream_executor/platform/default/dso_loader.cc:64] Could not load dynamic library 'libcudart.so.11.0'; dlerror: libcudart.so.11.0: cannot open shared object file: No such file or directory\n",
      "2023-02-28 15:51:24.159250: I tensorflow/compiler/xla/stream_executor/cuda/cudart_stub.cc:29] Ignore above cudart dlerror if you do not have a GPU set up on your machine.\n",
      "2023-02-28 15:51:25.885034: W tensorflow/compiler/xla/stream_executor/platform/default/dso_loader.cc:64] Could not load dynamic library 'libnvinfer.so.7'; dlerror: libnvinfer.so.7: cannot open shared object file: No such file or directory\n",
      "2023-02-28 15:51:25.885149: W tensorflow/compiler/xla/stream_executor/platform/default/dso_loader.cc:64] Could not load dynamic library 'libnvinfer_plugin.so.7'; dlerror: libnvinfer_plugin.so.7: cannot open shared object file: No such file or directory\n",
      "2023-02-28 15:51:25.885157: W tensorflow/compiler/tf2tensorrt/utils/py_utils.cc:38] TF-TRT Warning: Cannot dlopen some TensorRT libraries. If you would like to use Nvidia GPU with TensorRT, please make sure the missing libraries mentioned above are installed properly.\n",
      "2023-02-28 15:51:26.983615: W tensorflow/compiler/xla/stream_executor/platform/default/dso_loader.cc:64] Could not load dynamic library 'libcuda.so.1'; dlerror: libcuda.so.1: cannot open shared object file: No such file or directory\n",
      "2023-02-28 15:51:26.983853: W tensorflow/compiler/xla/stream_executor/cuda/cuda_driver.cc:265] failed call to cuInit: UNKNOWN ERROR (303)\n",
      "2023-02-28 15:51:26.983888: I tensorflow/compiler/xla/stream_executor/cuda/cuda_diagnostics.cc:156] kernel driver does not appear to be running on this host (besmaks-NBLK-WAX9X): /proc/driver/nvidia/version does not exist\n",
      "2023-02-28 15:51:26.984610: I tensorflow/core/platform/cpu_feature_guard.cc:193] This TensorFlow binary is optimized with oneAPI Deep Neural Network Library (oneDNN) to use the following CPU instructions in performance-critical operations:  AVX2 FMA\n",
      "To enable them in other operations, rebuild TensorFlow with the appropriate compiler flags.\n",
      "2023-02-28 15:51:31.059409: W tensorflow/tsl/framework/cpu_allocator_impl.cc:82] Allocation of 726099904 exceeds 10% of free system memory.\n"
     ]
    },
    {
     "name": "stdout",
     "output_type": "stream",
     "text": [
      "Epoch 1/50\n",
      "656/656 [==============================] - 5s 5ms/step - loss: 0.0200 - accuracy: 0.9997\n",
      "Epoch 2/50\n",
      "656/656 [==============================] - 3s 5ms/step - loss: 2.4131e-04 - accuracy: 1.0000\n",
      "Epoch 3/50\n",
      "656/656 [==============================] - 3s 5ms/step - loss: 6.4422e-05 - accuracy: 1.0000\n",
      "Epoch 4/50\n",
      "656/656 [==============================] - 4s 6ms/step - loss: 2.5941e-05 - accuracy: 1.0000\n",
      "Epoch 5/50\n",
      "656/656 [==============================] - 3s 5ms/step - loss: 1.2752e-05 - accuracy: 1.0000\n",
      "Epoch 6/50\n",
      "656/656 [==============================] - 3s 5ms/step - loss: 6.9456e-06 - accuracy: 1.0000\n",
      "Epoch 7/50\n",
      "656/656 [==============================] - 4s 5ms/step - loss: 4.0241e-06 - accuracy: 1.0000\n",
      "Epoch 8/50\n",
      "656/656 [==============================] - 4s 5ms/step - loss: 2.4393e-06 - accuracy: 1.0000\n",
      "Epoch 9/50\n",
      "656/656 [==============================] - 3s 5ms/step - loss: 1.5233e-06 - accuracy: 1.0000\n",
      "Epoch 10/50\n",
      "656/656 [==============================] - 3s 5ms/step - loss: 9.7171e-07 - accuracy: 1.0000\n",
      "Epoch 11/50\n",
      "656/656 [==============================] - 3s 5ms/step - loss: 6.2993e-07 - accuracy: 1.0000\n",
      "Epoch 12/50\n",
      "656/656 [==============================] - 3s 5ms/step - loss: 4.1483e-07 - accuracy: 1.0000\n",
      "Epoch 13/50\n",
      "656/656 [==============================] - 3s 5ms/step - loss: 2.7638e-07 - accuracy: 1.0000\n",
      "Epoch 14/50\n",
      "656/656 [==============================] - 3s 4ms/step - loss: 1.8568e-07 - accuracy: 1.0000\n",
      "Epoch 15/50\n",
      "656/656 [==============================] - 3s 5ms/step - loss: 1.2587e-07 - accuracy: 1.0000\n",
      "Epoch 16/50\n",
      "656/656 [==============================] - 3s 4ms/step - loss: 8.5681e-08 - accuracy: 1.0000\n",
      "Epoch 17/50\n",
      "656/656 [==============================] - 3s 4ms/step - loss: 5.8783e-08 - accuracy: 1.0000\n",
      "Epoch 18/50\n",
      "656/656 [==============================] - 3s 4ms/step - loss: 4.0499e-08 - accuracy: 1.0000\n",
      "Epoch 19/50\n",
      "656/656 [==============================] - 3s 4ms/step - loss: 2.8171e-08 - accuracy: 1.0000\n",
      "Epoch 20/50\n",
      "656/656 [==============================] - 3s 4ms/step - loss: 1.9716e-08 - accuracy: 1.0000\n",
      "Epoch 21/50\n",
      "656/656 [==============================] - 3s 5ms/step - loss: 1.3871e-08 - accuracy: 1.0000\n",
      "Epoch 22/50\n",
      "656/656 [==============================] - 3s 5ms/step - loss: 9.8581e-09 - accuracy: 1.0000\n",
      "Epoch 23/50\n",
      "656/656 [==============================] - 3s 5ms/step - loss: 7.0737e-09 - accuracy: 1.0000\n",
      "Epoch 24/50\n",
      "656/656 [==============================] - 3s 5ms/step - loss: 5.1173e-09 - accuracy: 1.0000\n",
      "Epoch 25/50\n",
      "656/656 [==============================] - 3s 5ms/step - loss: 3.7339e-09 - accuracy: 1.0000\n",
      "Epoch 26/50\n",
      "656/656 [==============================] - 3s 5ms/step - loss: 2.7614e-09 - accuracy: 1.0000\n",
      "Epoch 27/50\n",
      "656/656 [==============================] - 3s 5ms/step - loss: 2.0660e-09 - accuracy: 1.0000\n",
      "Epoch 28/50\n",
      "656/656 [==============================] - 3s 5ms/step - loss: 1.5641e-09 - accuracy: 1.0000\n",
      "Epoch 29/50\n",
      "656/656 [==============================] - 3s 5ms/step - loss: 1.2007e-09 - accuracy: 1.0000\n",
      "Epoch 30/50\n",
      "656/656 [==============================] - 3s 5ms/step - loss: 9.3012e-10 - accuracy: 1.0000\n",
      "Epoch 31/50\n",
      "656/656 [==============================] - 3s 5ms/step - loss: 7.2779e-10 - accuracy: 1.0000\n",
      "Epoch 32/50\n",
      "656/656 [==============================] - 3s 4ms/step - loss: 5.7571e-10 - accuracy: 1.0000\n",
      "Epoch 33/50\n",
      "656/656 [==============================] - 3s 5ms/step - loss: 4.5997e-10 - accuracy: 1.0000\n",
      "Epoch 34/50\n",
      "656/656 [==============================] - 3s 4ms/step - loss: 3.7096e-10 - accuracy: 1.0000\n",
      "Epoch 35/50\n",
      "656/656 [==============================] - 3s 5ms/step - loss: 3.0209e-10 - accuracy: 1.0000\n",
      "Epoch 36/50\n",
      "656/656 [==============================] - 3s 5ms/step - loss: 2.4892e-10 - accuracy: 1.0000\n",
      "Epoch 37/50\n",
      "656/656 [==============================] - 4s 5ms/step - loss: 2.0714e-10 - accuracy: 1.0000\n",
      "Epoch 38/50\n",
      "656/656 [==============================] - 4s 6ms/step - loss: 1.7427e-10 - accuracy: 1.0000\n",
      "Epoch 39/50\n",
      "656/656 [==============================] - 3s 5ms/step - loss: 1.4817e-10 - accuracy: 1.0000\n",
      "Epoch 40/50\n",
      "656/656 [==============================] - 3s 5ms/step - loss: 1.2735e-10 - accuracy: 1.0000\n",
      "Epoch 41/50\n",
      "656/656 [==============================] - 3s 5ms/step - loss: 1.1064e-10 - accuracy: 1.0000\n",
      "Epoch 42/50\n",
      "656/656 [==============================] - 3s 5ms/step - loss: 9.7107e-11 - accuracy: 1.0000\n",
      "Epoch 43/50\n",
      "656/656 [==============================] - 3s 5ms/step - loss: 8.6088e-11 - accuracy: 1.0000\n",
      "Epoch 44/50\n",
      "656/656 [==============================] - 3s 5ms/step - loss: 7.7016e-11 - accuracy: 1.0000\n",
      "Epoch 45/50\n",
      "656/656 [==============================] - 3s 5ms/step - loss: 6.9468e-11 - accuracy: 1.0000\n",
      "Epoch 46/50\n",
      "656/656 [==============================] - 3s 5ms/step - loss: 6.3148e-11 - accuracy: 1.0000\n",
      "Epoch 47/50\n",
      "656/656 [==============================] - 3s 5ms/step - loss: 5.7794e-11 - accuracy: 1.0000\n",
      "Epoch 48/50\n",
      "656/656 [==============================] - 3s 5ms/step - loss: 5.3217e-11 - accuracy: 1.0000\n",
      "Epoch 49/50\n",
      "656/656 [==============================] - 3s 5ms/step - loss: 4.9275e-11 - accuracy: 1.0000\n",
      "Epoch 50/50\n",
      "656/656 [==============================] - 4s 5ms/step - loss: 4.5764e-11 - accuracy: 1.0000\n"
     ]
    },
    {
     "name": "stderr",
     "output_type": "stream",
     "text": [
      "2023-02-28 15:54:15.642327: W tensorflow/tsl/framework/cpu_allocator_impl.cc:82] Allocation of 181533632 exceeds 10% of free system memory.\n"
     ]
    },
    {
     "name": "stdout",
     "output_type": "stream",
     "text": [
      "164/164 - 1s - loss: 0.3493 - accuracy: 0.9996 - 680ms/epoch - 4ms/step\n",
      "\n",
      "Test accuracy: 0.9996185302734375\n"
     ]
    }
   ],
   "source": [
    "import tensorflow as tf\n",
    "import pandas as pd\n",
    "import numpy as np\n",
    "\n",
    "# Load the data\n",
    "data = interactions\n",
    "\n",
    "# Create the neural network\n",
    "model = tf.keras.Sequential([\n",
    "    tf.keras.layers.Dense(32, activation='relu', input_shape=(len(data.columns)-1,)),\n",
    "    tf.keras.layers.Dense(16, activation='relu'),\n",
    "    tf.keras.layers.Dense(1, activation='sigmoid')\n",
    "])\n",
    "\n",
    "# Compile the model\n",
    "model.compile(optimizer='adam', loss='binary_crossentropy', metrics=['accuracy'])\n",
    "\n",
    "# Split the data into training and testing sets\n",
    "train_data = data.sample(frac=0.8, random_state=0)\n",
    "test_data = data.drop(train_data.index)\n",
    "\n",
    "# Define the input and output columns\n",
    "X_train = train_data.iloc[:, :-1].values\n",
    "y_train = train_data.iloc[:, -1].values\n",
    "X_test = test_data.iloc[:, :-1].values\n",
    "y_test = test_data.iloc[:, -1].values\n",
    "\n",
    "# Train the model\n",
    "model.fit(X_train, y_train, epochs=30, batch_size=32, verbose=1)\n",
    "\n",
    "# Evaluate the model\n",
    "test_loss, test_acc = model.evaluate(X_test, y_test, verbose=2)\n",
    "\n",
    "print('\\nTest accuracy:', test_acc)\n"
   ]
  },
  {
   "attachments": {},
   "cell_type": "markdown",
   "metadata": {},
   "source": [
    "### PyTorch model"
   ]
  },
  {
   "cell_type": "code",
   "execution_count": 7,
   "metadata": {},
   "outputs": [],
   "source": [
    "import torch\n",
    "import torch.nn as nn\n",
    "import pandas as pd\n",
    "import numpy as np\n",
    "\n",
    "# Load the data\n",
    "data = interactions\n",
    "\n",
    "# Create the neural network\n",
    "class Net(nn.Module):\n",
    "    def __init__(self, input_size, hidden_size):\n",
    "        super(Net, self).__init__()\n",
    "        self.fc1 = nn.Linear(input_size, hidden_size)\n",
    "        self.fc2 = nn.Linear(hidden_size, 1)\n",
    "        self.relu = nn.ReLU()\n",
    "        self.sigmoid = nn.Sigmoid()\n",
    "\n",
    "    def forward(self, x):\n",
    "        x = self.relu(self.fc1(x))\n",
    "        x = self.sigmoid(self.fc2(x))\n",
    "        return x\n",
    "\n",
    "\n",
    "# Define the input and output sizes\n",
    "input_size = len(data.columns) - 1\n",
    "output_size = 1\n",
    "\n",
    "# Split the data into training and testing sets\n",
    "train_data = data.sample(frac=0.8, random_state=0)\n",
    "test_data = data.drop(train_data.index)\n",
    "\n",
    "# Define the input and output columns\n",
    "X_train = train_data.iloc[:, 2:-1].values\n",
    "y_train = train_data.iloc[:, -1].values\n",
    "X_test = test_data.iloc[:, 2:-1].values\n",
    "y_test = test_data.iloc[:, -1].values\n",
    "\n",
    "# Define the hyperparameters\n",
    "learning_rate = 0.001\n",
    "hidden_size = 32\n",
    "num_epochs = 30\n",
    "batch_size = 32\n",
    "\n",
    "# Convert the data to PyTorch tensors\n",
    "X_train_tensor = torch.tensor(X_train, dtype=torch.float32)\n",
    "y_train_tensor = torch.tensor(y_train, dtype=torch.float32).reshape(-1, 1)\n",
    "X_test_tensor = torch.tensor(X_test, dtype=torch.float32)\n",
    "y_test_tensor = torch.tensor(y_test, dtype=torch.float32).reshape(-1, 1)\n",
    "\n",
    "# Create the model\n",
    "model = Net(input_size - 2, hidden_size)\n",
    "\n",
    "# Define the loss function and optimizer\n",
    "criterion = nn.BCELoss()\n",
    "optimizer = torch.optim.Adam(model.parameters(), lr=learning_rate)\n"
   ]
  },
  {
   "cell_type": "code",
   "execution_count": 12,
   "metadata": {},
   "outputs": [
    {
     "name": "stdout",
     "output_type": "stream",
     "text": [
      "Epoch [5 / 30], Loss: 0.000000\n",
      "Epoch [10 / 30], Loss: 0.000000\n",
      "Epoch [15 / 30], Loss: 0.000000\n",
      "Epoch [20 / 30], Loss: 0.000000\n",
      "Epoch [25 / 30], Loss: 0.000000\n",
      "Epoch [30 / 30], Loss: 0.000000\n"
     ]
    }
   ],
   "source": [
    "# Train the model\n",
    "for epoch in range(num_epochs):\n",
    "    for i in range(0, X_train_tensor.size(0), batch_size):\n",
    "        # Forward pass\n",
    "        outputs = model(X_train_tensor[i : i + batch_size])\n",
    "        loss = criterion(outputs, y_train_tensor[i : i + batch_size])\n",
    "\n",
    "        # Backward and optimize\n",
    "        optimizer.zero_grad()\n",
    "        loss.backward()\n",
    "        optimizer.step()\n",
    "\n",
    "    # Print progress\n",
    "    if (epoch + 1) % 5 == 0:\n",
    "        print(f\"Epoch [{epoch+1} / {num_epochs}], Loss: {loss.item():.6f}\")\n",
    "\n",
    "# Evaluate the model\n",
    "with torch.no_grad():\n",
    "    outputs = model(X_test_tensor)\n",
    "    test_loss = criterion(outputs, y_test_tensor)\n",
    "    _, test_preds = torch.max(outputs, 1)\n"
   ]
  },
  {
   "cell_type": "code",
   "execution_count": 15,
   "metadata": {},
   "outputs": [
    {
     "name": "stdout",
     "output_type": "stream",
     "text": [
      "\n",
      "Test accuracy: 5241.0\n"
     ]
    }
   ],
   "source": [
    "\n",
    "test_acc = (test_preds == y_test_tensor).sum().item() / y_test_tensor.size(0)\n",
    "print(\"\\nTest accuracy:\", test_acc)\n"
   ]
  },
  {
   "cell_type": "code",
   "execution_count": 37,
   "metadata": {},
   "outputs": [
    {
     "data": {
      "text/html": [
       "<div>\n",
       "<style scoped>\n",
       "    .dataframe tbody tr th:only-of-type {\n",
       "        vertical-align: middle;\n",
       "    }\n",
       "\n",
       "    .dataframe tbody tr th {\n",
       "        vertical-align: top;\n",
       "    }\n",
       "\n",
       "    .dataframe thead th {\n",
       "        text-align: right;\n",
       "    }\n",
       "</style>\n",
       "<table border=\"1\" class=\"dataframe\">\n",
       "  <thead>\n",
       "    <tr style=\"text-align: right;\">\n",
       "      <th>id</th>\n",
       "      <th>10</th>\n",
       "      <th>20</th>\n",
       "      <th>30</th>\n",
       "      <th>40</th>\n",
       "      <th>50</th>\n",
       "      <th>60</th>\n",
       "      <th>70</th>\n",
       "      <th>80</th>\n",
       "      <th>130</th>\n",
       "      <th>220</th>\n",
       "      <th>...</th>\n",
       "      <th>526790</th>\n",
       "      <th>527340</th>\n",
       "      <th>527440</th>\n",
       "      <th>527510</th>\n",
       "      <th>527520</th>\n",
       "      <th>527810</th>\n",
       "      <th>527890</th>\n",
       "      <th>527900</th>\n",
       "      <th>528660</th>\n",
       "      <th>530720</th>\n",
       "    </tr>\n",
       "    <tr>\n",
       "      <th>uid</th>\n",
       "      <th></th>\n",
       "      <th></th>\n",
       "      <th></th>\n",
       "      <th></th>\n",
       "      <th></th>\n",
       "      <th></th>\n",
       "      <th></th>\n",
       "      <th></th>\n",
       "      <th></th>\n",
       "      <th></th>\n",
       "      <th></th>\n",
       "      <th></th>\n",
       "      <th></th>\n",
       "      <th></th>\n",
       "      <th></th>\n",
       "      <th></th>\n",
       "      <th></th>\n",
       "      <th></th>\n",
       "      <th></th>\n",
       "      <th></th>\n",
       "      <th></th>\n",
       "    </tr>\n",
       "  </thead>\n",
       "  <tbody>\n",
       "    <tr>\n",
       "      <th>0</th>\n",
       "      <td>1.0</td>\n",
       "      <td>1.0</td>\n",
       "      <td>1.0</td>\n",
       "      <td>1.0</td>\n",
       "      <td>1.0</td>\n",
       "      <td>1.0</td>\n",
       "      <td>1.0</td>\n",
       "      <td>0.0</td>\n",
       "      <td>1.0</td>\n",
       "      <td>1.0</td>\n",
       "      <td>...</td>\n",
       "      <td>0.0</td>\n",
       "      <td>0.0</td>\n",
       "      <td>0.0</td>\n",
       "      <td>0.0</td>\n",
       "      <td>0.0</td>\n",
       "      <td>0.0</td>\n",
       "      <td>0.0</td>\n",
       "      <td>0.0</td>\n",
       "      <td>0.0</td>\n",
       "      <td>0.0</td>\n",
       "    </tr>\n",
       "    <tr>\n",
       "      <th>1</th>\n",
       "      <td>1.0</td>\n",
       "      <td>1.0</td>\n",
       "      <td>1.0</td>\n",
       "      <td>1.0</td>\n",
       "      <td>1.0</td>\n",
       "      <td>1.0</td>\n",
       "      <td>1.0</td>\n",
       "      <td>1.0</td>\n",
       "      <td>1.0</td>\n",
       "      <td>1.0</td>\n",
       "      <td>...</td>\n",
       "      <td>0.0</td>\n",
       "      <td>0.0</td>\n",
       "      <td>0.0</td>\n",
       "      <td>0.0</td>\n",
       "      <td>0.0</td>\n",
       "      <td>0.0</td>\n",
       "      <td>0.0</td>\n",
       "      <td>0.0</td>\n",
       "      <td>0.0</td>\n",
       "      <td>0.0</td>\n",
       "    </tr>\n",
       "    <tr>\n",
       "      <th>2</th>\n",
       "      <td>0.0</td>\n",
       "      <td>0.0</td>\n",
       "      <td>0.0</td>\n",
       "      <td>0.0</td>\n",
       "      <td>0.0</td>\n",
       "      <td>0.0</td>\n",
       "      <td>0.0</td>\n",
       "      <td>0.0</td>\n",
       "      <td>0.0</td>\n",
       "      <td>1.0</td>\n",
       "      <td>...</td>\n",
       "      <td>0.0</td>\n",
       "      <td>0.0</td>\n",
       "      <td>0.0</td>\n",
       "      <td>0.0</td>\n",
       "      <td>0.0</td>\n",
       "      <td>0.0</td>\n",
       "      <td>0.0</td>\n",
       "      <td>0.0</td>\n",
       "      <td>0.0</td>\n",
       "      <td>0.0</td>\n",
       "    </tr>\n",
       "    <tr>\n",
       "      <th>3</th>\n",
       "      <td>1.0</td>\n",
       "      <td>1.0</td>\n",
       "      <td>1.0</td>\n",
       "      <td>1.0</td>\n",
       "      <td>1.0</td>\n",
       "      <td>1.0</td>\n",
       "      <td>1.0</td>\n",
       "      <td>1.0</td>\n",
       "      <td>1.0</td>\n",
       "      <td>1.0</td>\n",
       "      <td>...</td>\n",
       "      <td>0.0</td>\n",
       "      <td>0.0</td>\n",
       "      <td>0.0</td>\n",
       "      <td>0.0</td>\n",
       "      <td>0.0</td>\n",
       "      <td>0.0</td>\n",
       "      <td>0.0</td>\n",
       "      <td>0.0</td>\n",
       "      <td>0.0</td>\n",
       "      <td>0.0</td>\n",
       "    </tr>\n",
       "    <tr>\n",
       "      <th>4</th>\n",
       "      <td>1.0</td>\n",
       "      <td>1.0</td>\n",
       "      <td>1.0</td>\n",
       "      <td>1.0</td>\n",
       "      <td>1.0</td>\n",
       "      <td>1.0</td>\n",
       "      <td>1.0</td>\n",
       "      <td>1.0</td>\n",
       "      <td>1.0</td>\n",
       "      <td>1.0</td>\n",
       "      <td>...</td>\n",
       "      <td>0.0</td>\n",
       "      <td>0.0</td>\n",
       "      <td>0.0</td>\n",
       "      <td>0.0</td>\n",
       "      <td>0.0</td>\n",
       "      <td>0.0</td>\n",
       "      <td>0.0</td>\n",
       "      <td>0.0</td>\n",
       "      <td>0.0</td>\n",
       "      <td>0.0</td>\n",
       "    </tr>\n",
       "  </tbody>\n",
       "</table>\n",
       "<p>5 rows × 8657 columns</p>\n",
       "</div>"
      ],
      "text/plain": [
       "id   10      20      30      40      50      60      70      80      130     \\\n",
       "uid                                                                           \n",
       "0       1.0     1.0     1.0     1.0     1.0     1.0     1.0     0.0     1.0   \n",
       "1       1.0     1.0     1.0     1.0     1.0     1.0     1.0     1.0     1.0   \n",
       "2       0.0     0.0     0.0     0.0     0.0     0.0     0.0     0.0     0.0   \n",
       "3       1.0     1.0     1.0     1.0     1.0     1.0     1.0     1.0     1.0   \n",
       "4       1.0     1.0     1.0     1.0     1.0     1.0     1.0     1.0     1.0   \n",
       "\n",
       "id   220     ...  526790  527340  527440  527510  527520  527810  527890  \\\n",
       "uid          ...                                                           \n",
       "0       1.0  ...     0.0     0.0     0.0     0.0     0.0     0.0     0.0   \n",
       "1       1.0  ...     0.0     0.0     0.0     0.0     0.0     0.0     0.0   \n",
       "2       1.0  ...     0.0     0.0     0.0     0.0     0.0     0.0     0.0   \n",
       "3       1.0  ...     0.0     0.0     0.0     0.0     0.0     0.0     0.0   \n",
       "4       1.0  ...     0.0     0.0     0.0     0.0     0.0     0.0     0.0   \n",
       "\n",
       "id   527900  528660  530720  \n",
       "uid                          \n",
       "0       0.0     0.0     0.0  \n",
       "1       0.0     0.0     0.0  \n",
       "2       0.0     0.0     0.0  \n",
       "3       0.0     0.0     0.0  \n",
       "4       0.0     0.0     0.0  \n",
       "\n",
       "[5 rows x 8657 columns]"
      ]
     },
     "execution_count": 37,
     "metadata": {},
     "output_type": "execute_result"
    }
   ],
   "source": [
    "data.head()"
   ]
  },
  {
   "attachments": {},
   "cell_type": "markdown",
   "metadata": {},
   "source": [
    "### Test recommendations for specific user"
   ]
  },
  {
   "cell_type": "code",
   "execution_count": 38,
   "metadata": {},
   "outputs": [],
   "source": [
    "# Modified recs to match dataframe\n",
    "def get_recommendations(model, data, user_id, n=5):\n",
    "    # Get the predicted ratings for the available games\n",
    "    user_data = data[user_id].transpose().copy()\n",
    "    user_data = user_data.reset_index()\n",
    "    user_data.rename(columns={'index': 'user_id'}, inplace=True)\n",
    "    user_data['user_id'] = user_id\n",
    "    user_data = user_data.melt(id_vars='user_id', var_name='game_id', value_name='owned')\n",
    "    user_data['owned'] = user_data['owned'].fillna(0)\n",
    "    user_data = user_data[user_data['owned'] == 0]\n",
    "    \n",
    "    X = user_data.iloc[:, 2:-1].values\n",
    "    X_tensor = torch.tensor(X, dtype=torch.float32)\n",
    "    with torch.no_grad():\n",
    "        outputs = model(X_tensor)\n",
    "        user_data['predicted_rating'] = outputs.numpy().flatten()\n",
    "    \n",
    "    # Sort the games by predicted rating and return the top n recommendations\n",
    "    recommended_games = user_data.sort_values('predicted_rating', ascending=False).head(n)['game_id'].tolist()\n",
    "\n",
    "    return recommended_games\n"
   ]
  },
  {
   "cell_type": "code",
   "execution_count": null,
   "metadata": {},
   "outputs": [],
   "source": [
    "# Without owned games\n",
    "def get_recommendations(model, data, user_id, n=5):\n",
    "    # Filter the data to include only interactions for the specified user\n",
    "    user_data = data.loc[user_id, :]\n",
    "    \n",
    "    # Remove any interactions that the user has already had\n",
    "    available_games = data.columns[data.loc[user_id] == 0]\n",
    "    \n",
    "    # Create an input tensor for the available games\n",
    "    X = np.zeros((len(available_games), len(data.columns)))\n",
    "    X[:, data.columns.get_indexer(available_games)] = 1\n",
    "    X_tensor = torch.tensor(X, dtype=torch.float32)\n",
    "    \n",
    "    # Get the predicted ratings for the available games\n",
    "    with torch.no_grad():\n",
    "        outputs = model(X_tensor)\n",
    "        predicted_ratings = outputs.numpy().flatten()\n",
    "    \n",
    "    # Sort the games by predicted rating and return the top n recommendations\n",
    "    recommended_games = [available_games[i] for i in np.argsort(predicted_ratings)[::-1][:n]]\n",
    "    return recommended_games\n"
   ]
  },
  {
   "cell_type": "code",
   "execution_count": 39,
   "metadata": {},
   "outputs": [
    {
     "ename": "",
     "evalue": "",
     "output_type": "error",
     "traceback": [
      "\u001b[1;31mThe Kernel crashed while executing code in the the current cell or a previous cell. Please review the code in the cell(s) to identify a possible cause of the failure. Click <a href='https://aka.ms/vscodeJupyterKernelCrash'>here</a> for more info. View Jupyter <a href='command:jupyter.viewOutput'>log</a> for further details."
     ]
    },
    {
     "ename": "",
     "evalue": "",
     "output_type": "error",
     "traceback": [
      "\u001b[1;31mCanceled future for execute_request message before replies were done"
     ]
    }
   ],
   "source": [
    "# Test the model\n",
    "user_id = 1\n",
    "recommended_games = get_recommendations(model, data, user_id, n=5)\n",
    "print(f\"Top 5 recommended games for user №{user_id}:\")\n",
    "print(recommended_games)\n"
   ]
  }
 ],
 "metadata": {
  "kernelspec": {
   "display_name": "Python 3.8.10 ('VirtualEnvs')",
   "language": "python",
   "name": "python3"
  },
  "language_info": {
   "codemirror_mode": {
    "name": "ipython",
    "version": 3
   },
   "file_extension": ".py",
   "mimetype": "text/x-python",
   "name": "python",
   "nbconvert_exporter": "python",
   "pygments_lexer": "ipython3",
   "version": "3.8.10"
  },
  "toc": {
   "base_numbering": 1,
   "nav_menu": {},
   "number_sections": true,
   "sideBar": true,
   "skip_h1_title": true,
   "title_cell": "Table of Contents",
   "title_sidebar": "Contents",
   "toc_cell": false,
   "toc_position": {},
   "toc_section_display": true,
   "toc_window_display": true
  },
  "vscode": {
   "interpreter": {
    "hash": "8a0a94bfbe55f11c125d8e15d2a1a4a8cd82414916ac864829bd6055eab5bfd6"
   }
  }
 },
 "nbformat": 4,
 "nbformat_minor": 2
}

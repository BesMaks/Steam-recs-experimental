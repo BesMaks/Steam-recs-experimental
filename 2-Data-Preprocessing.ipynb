{
 "cells": [
  {
   "cell_type": "markdown",
   "metadata": {},
   "source": [
    "# Data Preprocessing"
   ]
  },
  {
   "cell_type": "markdown",
   "metadata": {},
   "source": [
    "In this Notebook, we will conduct initial preprocessing of the two JSON files we obtained in the previous Notebook. We will aim to create relevant Pandas DataFrames and save files as `csv` for subsequent exploration and modelling. In particular, we will extract user ids and game ids to create a user-item interactions DataFrame, with each row being a particular user-item relationship (namely owned item)."
   ]
  },
  {
   "cell_type": "code",
   "execution_count": 1,
   "metadata": {},
   "outputs": [],
   "source": [
    "# Import libraries\n",
    "import pandas as pd\n",
    "import numpy as np\n",
    "\n",
    "# Import Warnings\n",
    "import warnings\n",
    "\n",
    "warnings.filterwarnings(\"ignore\")\n"
   ]
  },
  {
   "cell_type": "markdown",
   "metadata": {},
   "source": [
    "## Games data"
   ]
  },
  {
   "cell_type": "markdown",
   "metadata": {},
   "source": [
    "We will first load the `gamesdata` file, which has a row for each game and various descriptive features as columns."
   ]
  },
  {
   "cell_type": "code",
   "execution_count": 2,
   "metadata": {
    "scrolled": false
   },
   "outputs": [
    {
     "data": {
      "text/html": [
       "<div>\n",
       "<style scoped>\n",
       "    .dataframe tbody tr th:only-of-type {\n",
       "        vertical-align: middle;\n",
       "    }\n",
       "\n",
       "    .dataframe tbody tr th {\n",
       "        vertical-align: top;\n",
       "    }\n",
       "\n",
       "    .dataframe thead th {\n",
       "        text-align: right;\n",
       "    }\n",
       "</style>\n",
       "<table border=\"1\" class=\"dataframe\">\n",
       "  <thead>\n",
       "    <tr style=\"text-align: right;\">\n",
       "      <th></th>\n",
       "      <th>publisher</th>\n",
       "      <th>genres</th>\n",
       "      <th>app_name</th>\n",
       "      <th>title</th>\n",
       "      <th>url</th>\n",
       "      <th>release_date</th>\n",
       "      <th>tags</th>\n",
       "      <th>discount_price</th>\n",
       "      <th>reviews_url</th>\n",
       "      <th>specs</th>\n",
       "      <th>price</th>\n",
       "      <th>early_access</th>\n",
       "      <th>id</th>\n",
       "      <th>developer</th>\n",
       "      <th>sentiment</th>\n",
       "      <th>metascore</th>\n",
       "    </tr>\n",
       "  </thead>\n",
       "  <tbody>\n",
       "    <tr>\n",
       "      <th>1761</th>\n",
       "      <td>NaN</td>\n",
       "      <td>[Action]</td>\n",
       "      <td>The Bureau: XCOM Declassified - Hangar 6 R&amp;D</td>\n",
       "      <td>The Bureau: XCOM Declassified - Hangar 6 R&amp;amp;D</td>\n",
       "      <td>http://store.steampowered.com/app/66002/The_Bu...</td>\n",
       "      <td>2013-11-19</td>\n",
       "      <td>[Action]</td>\n",
       "      <td>NaN</td>\n",
       "      <td>http://steamcommunity.com/app/66002/reviews/?b...</td>\n",
       "      <td>[Single-player, Downloadable Content, Steam Ac...</td>\n",
       "      <td>4.99</td>\n",
       "      <td>False</td>\n",
       "      <td>66002.0</td>\n",
       "      <td>2K Marin</td>\n",
       "      <td>Mixed</td>\n",
       "      <td>NaN</td>\n",
       "    </tr>\n",
       "    <tr>\n",
       "      <th>18292</th>\n",
       "      <td>Paradox Interactive</td>\n",
       "      <td>[Simulation, Strategy]</td>\n",
       "      <td>Collection - Europa Universalis IV: Early Upgr...</td>\n",
       "      <td>Collection - Europa Universalis IV: Early Upgr...</td>\n",
       "      <td>http://store.steampowered.com/app/617962/Colle...</td>\n",
       "      <td>2017-04-05</td>\n",
       "      <td>[Strategy, Simulation]</td>\n",
       "      <td>NaN</td>\n",
       "      <td>http://steamcommunity.com/app/617962/reviews/?...</td>\n",
       "      <td>[Single-player, Multi-player, Cross-Platform M...</td>\n",
       "      <td>19.99</td>\n",
       "      <td>False</td>\n",
       "      <td>617962.0</td>\n",
       "      <td>Paradox Development Studio</td>\n",
       "      <td>Mostly Negative</td>\n",
       "      <td>NaN</td>\n",
       "    </tr>\n",
       "    <tr>\n",
       "      <th>11957</th>\n",
       "      <td>NaN</td>\n",
       "      <td>[Indie, RPG, Strategy]</td>\n",
       "      <td>Fantasy Grounds - Conquering Heroes (5E)</td>\n",
       "      <td>Fantasy Grounds - Conquering Heroes (5E)</td>\n",
       "      <td>http://store.steampowered.com/app/731140/Fanta...</td>\n",
       "      <td>2017-10-18</td>\n",
       "      <td>[Strategy, RPG, Indie, Turn-Based, Fantasy, So...</td>\n",
       "      <td>NaN</td>\n",
       "      <td>http://steamcommunity.com/app/731140/reviews/?...</td>\n",
       "      <td>[Multi-player, Co-op, Cross-Platform Multiplay...</td>\n",
       "      <td>5.99</td>\n",
       "      <td>False</td>\n",
       "      <td>731140.0</td>\n",
       "      <td>SmiteWorks USA, LLC</td>\n",
       "      <td>NaN</td>\n",
       "      <td>NaN</td>\n",
       "    </tr>\n",
       "    <tr>\n",
       "      <th>23068</th>\n",
       "      <td>Running With Scissors</td>\n",
       "      <td>[Action, Indie]</td>\n",
       "      <td>POSTAL Redux</td>\n",
       "      <td>POSTAL Redux</td>\n",
       "      <td>http://store.steampowered.com/app/401680/POSTA...</td>\n",
       "      <td>2016-05-20</td>\n",
       "      <td>[Action, Gore, Indie, Violent, Isometric, Rema...</td>\n",
       "      <td>NaN</td>\n",
       "      <td>http://steamcommunity.com/app/401680/reviews/?...</td>\n",
       "      <td>[Single-player, Online Multi-Player, Online Co...</td>\n",
       "      <td>8.99</td>\n",
       "      <td>False</td>\n",
       "      <td>401680.0</td>\n",
       "      <td>Running With Scissors</td>\n",
       "      <td>Very Positive</td>\n",
       "      <td>54</td>\n",
       "    </tr>\n",
       "    <tr>\n",
       "      <th>29590</th>\n",
       "      <td>NaN</td>\n",
       "      <td>[Casual, Simulation]</td>\n",
       "      <td>Rocksmith® 2014 – Oasis - “Champagne Supernova”</td>\n",
       "      <td>Rocksmith® 2014 – Oasis - “Champagne Supernova”</td>\n",
       "      <td>http://store.steampowered.com/app/258415/Rocks...</td>\n",
       "      <td>2014-01-14</td>\n",
       "      <td>[Casual, Simulation]</td>\n",
       "      <td>NaN</td>\n",
       "      <td>http://steamcommunity.com/app/258415/reviews/?...</td>\n",
       "      <td>[Single-player, Shared/Split Screen, Downloada...</td>\n",
       "      <td>2.99</td>\n",
       "      <td>False</td>\n",
       "      <td>258415.0</td>\n",
       "      <td>Ubisoft - San Francisco</td>\n",
       "      <td>2 user reviews</td>\n",
       "      <td>NaN</td>\n",
       "    </tr>\n",
       "  </tbody>\n",
       "</table>\n",
       "</div>"
      ],
      "text/plain": [
       "                   publisher                  genres  \\\n",
       "1761                     NaN                [Action]   \n",
       "18292    Paradox Interactive  [Simulation, Strategy]   \n",
       "11957                    NaN  [Indie, RPG, Strategy]   \n",
       "23068  Running With Scissors         [Action, Indie]   \n",
       "29590                    NaN    [Casual, Simulation]   \n",
       "\n",
       "                                                app_name  \\\n",
       "1761        The Bureau: XCOM Declassified - Hangar 6 R&D   \n",
       "18292  Collection - Europa Universalis IV: Early Upgr...   \n",
       "11957           Fantasy Grounds - Conquering Heroes (5E)   \n",
       "23068                                       POSTAL Redux   \n",
       "29590    Rocksmith® 2014 – Oasis - “Champagne Supernova”   \n",
       "\n",
       "                                                   title  \\\n",
       "1761    The Bureau: XCOM Declassified - Hangar 6 R&amp;D   \n",
       "18292  Collection - Europa Universalis IV: Early Upgr...   \n",
       "11957           Fantasy Grounds - Conquering Heroes (5E)   \n",
       "23068                                       POSTAL Redux   \n",
       "29590    Rocksmith® 2014 – Oasis - “Champagne Supernova”   \n",
       "\n",
       "                                                     url release_date  \\\n",
       "1761   http://store.steampowered.com/app/66002/The_Bu...   2013-11-19   \n",
       "18292  http://store.steampowered.com/app/617962/Colle...   2017-04-05   \n",
       "11957  http://store.steampowered.com/app/731140/Fanta...   2017-10-18   \n",
       "23068  http://store.steampowered.com/app/401680/POSTA...   2016-05-20   \n",
       "29590  http://store.steampowered.com/app/258415/Rocks...   2014-01-14   \n",
       "\n",
       "                                                    tags  discount_price  \\\n",
       "1761                                            [Action]             NaN   \n",
       "18292                             [Strategy, Simulation]             NaN   \n",
       "11957  [Strategy, RPG, Indie, Turn-Based, Fantasy, So...             NaN   \n",
       "23068  [Action, Gore, Indie, Violent, Isometric, Rema...             NaN   \n",
       "29590                               [Casual, Simulation]             NaN   \n",
       "\n",
       "                                             reviews_url  \\\n",
       "1761   http://steamcommunity.com/app/66002/reviews/?b...   \n",
       "18292  http://steamcommunity.com/app/617962/reviews/?...   \n",
       "11957  http://steamcommunity.com/app/731140/reviews/?...   \n",
       "23068  http://steamcommunity.com/app/401680/reviews/?...   \n",
       "29590  http://steamcommunity.com/app/258415/reviews/?...   \n",
       "\n",
       "                                                   specs  price  early_access  \\\n",
       "1761   [Single-player, Downloadable Content, Steam Ac...   4.99         False   \n",
       "18292  [Single-player, Multi-player, Cross-Platform M...  19.99         False   \n",
       "11957  [Multi-player, Co-op, Cross-Platform Multiplay...   5.99         False   \n",
       "23068  [Single-player, Online Multi-Player, Online Co...   8.99         False   \n",
       "29590  [Single-player, Shared/Split Screen, Downloada...   2.99         False   \n",
       "\n",
       "             id                   developer        sentiment metascore  \n",
       "1761    66002.0                    2K Marin            Mixed       NaN  \n",
       "18292  617962.0  Paradox Development Studio  Mostly Negative       NaN  \n",
       "11957  731140.0         SmiteWorks USA, LLC              NaN       NaN  \n",
       "23068  401680.0       Running With Scissors    Very Positive        54  \n",
       "29590  258415.0     Ubisoft - San Francisco   2 user reviews       NaN  "
      ]
     },
     "execution_count": 2,
     "metadata": {},
     "output_type": "execute_result"
    }
   ],
   "source": [
    "# Load games data\n",
    "df = pd.read_json(\"gamesdata.json\")\n",
    "df.sample(5)\n"
   ]
  },
  {
   "cell_type": "markdown",
   "metadata": {},
   "source": [
    "We note that there are certain features which are lists, namely genres, tags and specs. These will be investigated further in the Data Exploration phase."
   ]
  },
  {
   "cell_type": "code",
   "execution_count": 3,
   "metadata": {},
   "outputs": [],
   "source": [
    "# Save as csv\n",
    "df.to_csv(\"gamesdata.csv\")\n"
   ]
  },
  {
   "cell_type": "markdown",
   "metadata": {},
   "source": [
    "## User items Data"
   ]
  },
  {
   "cell_type": "markdown",
   "metadata": {},
   "source": [
    "We now load the user items data, which has users as rows and details regarding items owned as columns."
   ]
  },
  {
   "cell_type": "code",
   "execution_count": 4,
   "metadata": {
    "scrolled": true
   },
   "outputs": [
    {
     "data": {
      "text/html": [
       "<div>\n",
       "<style scoped>\n",
       "    .dataframe tbody tr th:only-of-type {\n",
       "        vertical-align: middle;\n",
       "    }\n",
       "\n",
       "    .dataframe tbody tr th {\n",
       "        vertical-align: top;\n",
       "    }\n",
       "\n",
       "    .dataframe thead th {\n",
       "        text-align: right;\n",
       "    }\n",
       "</style>\n",
       "<table border=\"1\" class=\"dataframe\">\n",
       "  <thead>\n",
       "    <tr style=\"text-align: right;\">\n",
       "      <th></th>\n",
       "      <th>user_id</th>\n",
       "      <th>items_count</th>\n",
       "      <th>steam_id</th>\n",
       "      <th>user_url</th>\n",
       "      <th>items</th>\n",
       "    </tr>\n",
       "  </thead>\n",
       "  <tbody>\n",
       "    <tr>\n",
       "      <th>0</th>\n",
       "      <td>76561197970982479</td>\n",
       "      <td>277</td>\n",
       "      <td>76561197970982480</td>\n",
       "      <td>http://steamcommunity.com/profiles/76561197970...</td>\n",
       "      <td>[{'item_id': '10', 'item_name': 'Counter-Strik...</td>\n",
       "    </tr>\n",
       "    <tr>\n",
       "      <th>1</th>\n",
       "      <td>js41637</td>\n",
       "      <td>888</td>\n",
       "      <td>76561198035864384</td>\n",
       "      <td>http://steamcommunity.com/id/js41637</td>\n",
       "      <td>[{'item_id': '10', 'item_name': 'Counter-Strik...</td>\n",
       "    </tr>\n",
       "    <tr>\n",
       "      <th>2</th>\n",
       "      <td>evcentric</td>\n",
       "      <td>137</td>\n",
       "      <td>76561198007712560</td>\n",
       "      <td>http://steamcommunity.com/id/evcentric</td>\n",
       "      <td>[{'item_id': '1200', 'item_name': 'Red Orchest...</td>\n",
       "    </tr>\n",
       "    <tr>\n",
       "      <th>3</th>\n",
       "      <td>Riot-Punch</td>\n",
       "      <td>328</td>\n",
       "      <td>76561197963445856</td>\n",
       "      <td>http://steamcommunity.com/id/Riot-Punch</td>\n",
       "      <td>[{'item_id': '10', 'item_name': 'Counter-Strik...</td>\n",
       "    </tr>\n",
       "    <tr>\n",
       "      <th>4</th>\n",
       "      <td>doctr</td>\n",
       "      <td>541</td>\n",
       "      <td>76561198002099488</td>\n",
       "      <td>http://steamcommunity.com/id/doctr</td>\n",
       "      <td>[{'item_id': '300', 'item_name': 'Day of Defea...</td>\n",
       "    </tr>\n",
       "  </tbody>\n",
       "</table>\n",
       "</div>"
      ],
      "text/plain": [
       "             user_id  items_count           steam_id  \\\n",
       "0  76561197970982479          277  76561197970982480   \n",
       "1            js41637          888  76561198035864384   \n",
       "2          evcentric          137  76561198007712560   \n",
       "3         Riot-Punch          328  76561197963445856   \n",
       "4              doctr          541  76561198002099488   \n",
       "\n",
       "                                            user_url  \\\n",
       "0  http://steamcommunity.com/profiles/76561197970...   \n",
       "1               http://steamcommunity.com/id/js41637   \n",
       "2             http://steamcommunity.com/id/evcentric   \n",
       "3            http://steamcommunity.com/id/Riot-Punch   \n",
       "4                 http://steamcommunity.com/id/doctr   \n",
       "\n",
       "                                               items  \n",
       "0  [{'item_id': '10', 'item_name': 'Counter-Strik...  \n",
       "1  [{'item_id': '10', 'item_name': 'Counter-Strik...  \n",
       "2  [{'item_id': '1200', 'item_name': 'Red Orchest...  \n",
       "3  [{'item_id': '10', 'item_name': 'Counter-Strik...  \n",
       "4  [{'item_id': '300', 'item_name': 'Day of Defea...  "
      ]
     },
     "execution_count": 4,
     "metadata": {},
     "output_type": "execute_result"
    }
   ],
   "source": [
    "# Load users/items data\n",
    "useritems = pd.read_json(\"data.json\")\n",
    "useritems.head()\n"
   ]
  },
  {
   "cell_type": "markdown",
   "metadata": {},
   "source": [
    "Whilst the `items_count` feature will not be relevant for the user-item interactions/ recommendation engine, it will be relevant to our stakeholders for the purpose of understanding their user base. As such let us extract it and save it for the data exploration phase."
   ]
  },
  {
   "cell_type": "code",
   "execution_count": 5,
   "metadata": {
    "scrolled": true
   },
   "outputs": [
    {
     "data": {
      "text/html": [
       "<div>\n",
       "<style scoped>\n",
       "    .dataframe tbody tr th:only-of-type {\n",
       "        vertical-align: middle;\n",
       "    }\n",
       "\n",
       "    .dataframe tbody tr th {\n",
       "        vertical-align: top;\n",
       "    }\n",
       "\n",
       "    .dataframe thead th {\n",
       "        text-align: right;\n",
       "    }\n",
       "</style>\n",
       "<table border=\"1\" class=\"dataframe\">\n",
       "  <thead>\n",
       "    <tr style=\"text-align: right;\">\n",
       "      <th></th>\n",
       "      <th>user_id</th>\n",
       "      <th>items_count</th>\n",
       "    </tr>\n",
       "  </thead>\n",
       "  <tbody>\n",
       "    <tr>\n",
       "      <th>0</th>\n",
       "      <td>76561197970982479</td>\n",
       "      <td>277</td>\n",
       "    </tr>\n",
       "    <tr>\n",
       "      <th>1</th>\n",
       "      <td>js41637</td>\n",
       "      <td>888</td>\n",
       "    </tr>\n",
       "    <tr>\n",
       "      <th>2</th>\n",
       "      <td>evcentric</td>\n",
       "      <td>137</td>\n",
       "    </tr>\n",
       "    <tr>\n",
       "      <th>3</th>\n",
       "      <td>Riot-Punch</td>\n",
       "      <td>328</td>\n",
       "    </tr>\n",
       "    <tr>\n",
       "      <th>4</th>\n",
       "      <td>doctr</td>\n",
       "      <td>541</td>\n",
       "    </tr>\n",
       "  </tbody>\n",
       "</table>\n",
       "</div>"
      ],
      "text/plain": [
       "             user_id  items_count\n",
       "0  76561197970982479          277\n",
       "1            js41637          888\n",
       "2          evcentric          137\n",
       "3         Riot-Punch          328\n",
       "4              doctr          541"
      ]
     },
     "execution_count": 5,
     "metadata": {},
     "output_type": "execute_result"
    }
   ],
   "source": [
    "# Extract items_count feat\n",
    "numgames = useritems[[\"user_id\", \"items_count\"]]\n",
    "numgames.head()\n"
   ]
  },
  {
   "cell_type": "code",
   "execution_count": 6,
   "metadata": {},
   "outputs": [],
   "source": [
    "# Save as csv\n",
    "numgames.to_csv(\"numgames.csv\")\n"
   ]
  },
  {
   "cell_type": "markdown",
   "metadata": {},
   "source": [
    "We note that the `items` column appears to be a list of dictionaries. Let us look at it in further detail."
   ]
  },
  {
   "cell_type": "code",
   "execution_count": 7,
   "metadata": {
    "scrolled": true
   },
   "outputs": [],
   "source": [
    "# # Preview items column values for first user\n",
    "# # Restrict to first 2 items in dictionary\n",
    "\n",
    "# useritems[\"items\"][0][0:2]\n"
   ]
  },
  {
   "cell_type": "markdown",
   "metadata": {},
   "source": [
    "Each game is represented by a dictionary with keys the game's `item_id`, `item_name`, `playtime_forever` and `playtime_2weeks`. The dictionaries are then storred in a list."
   ]
  },
  {
   "cell_type": "markdown",
   "metadata": {},
   "source": [
    "We will look to extract the `item_id`'s into a seperate column. For now we will leave the playtime data but look to incorporate it later."
   ]
  },
  {
   "cell_type": "code",
   "execution_count": 8,
   "metadata": {
    "scrolled": true
   },
   "outputs": [
    {
     "data": {
      "text/plain": [
       "['10', '20', '30', '40', '50', '60', '70', '130', '300', '240']"
      ]
     },
     "execution_count": 8,
     "metadata": {},
     "output_type": "execute_result"
    }
   ],
   "source": [
    "# Get all item_id's for first user\n",
    "gameids = [\n",
    "    useritems[\"items\"][0][index][\"item_id\"]\n",
    "    for index, _ in enumerate(useritems[\"items\"][0])\n",
    "]\n",
    "# Show first 10 item ids\n",
    "gameids[:10]\n"
   ]
  },
  {
   "cell_type": "markdown",
   "metadata": {},
   "source": [
    "Extract `item_id` from the dictionaries for each user."
   ]
  },
  {
   "cell_type": "code",
   "execution_count": 9,
   "metadata": {},
   "outputs": [
    {
     "data": {
      "text/html": [
       "<div>\n",
       "<style scoped>\n",
       "    .dataframe tbody tr th:only-of-type {\n",
       "        vertical-align: middle;\n",
       "    }\n",
       "\n",
       "    .dataframe tbody tr th {\n",
       "        vertical-align: top;\n",
       "    }\n",
       "\n",
       "    .dataframe thead th {\n",
       "        text-align: right;\n",
       "    }\n",
       "</style>\n",
       "<table border=\"1\" class=\"dataframe\">\n",
       "  <thead>\n",
       "    <tr style=\"text-align: right;\">\n",
       "      <th></th>\n",
       "      <th>user_id</th>\n",
       "      <th>items_count</th>\n",
       "      <th>items</th>\n",
       "      <th>item_id</th>\n",
       "    </tr>\n",
       "  </thead>\n",
       "  <tbody>\n",
       "    <tr>\n",
       "      <th>0</th>\n",
       "      <td>76561197970982479</td>\n",
       "      <td>277</td>\n",
       "      <td>[{'item_id': '10', 'item_name': 'Counter-Strik...</td>\n",
       "      <td>[10, 20, 30, 40, 50, 60, 70, 130, 300, 240, 38...</td>\n",
       "    </tr>\n",
       "    <tr>\n",
       "      <th>1</th>\n",
       "      <td>js41637</td>\n",
       "      <td>888</td>\n",
       "      <td>[{'item_id': '10', 'item_name': 'Counter-Strik...</td>\n",
       "      <td>[10, 80, 100, 300, 30, 40, 60, 240, 280, 360, ...</td>\n",
       "    </tr>\n",
       "    <tr>\n",
       "      <th>2</th>\n",
       "      <td>evcentric</td>\n",
       "      <td>137</td>\n",
       "      <td>[{'item_id': '1200', 'item_name': 'Red Orchest...</td>\n",
       "      <td>[1200, 1230, 1280, 1520, 220, 320, 340, 360, 3...</td>\n",
       "    </tr>\n",
       "    <tr>\n",
       "      <th>3</th>\n",
       "      <td>Riot-Punch</td>\n",
       "      <td>328</td>\n",
       "      <td>[{'item_id': '10', 'item_name': 'Counter-Strik...</td>\n",
       "      <td>[10, 20, 30, 40, 50, 60, 70, 130, 80, 100, 300...</td>\n",
       "    </tr>\n",
       "    <tr>\n",
       "      <th>4</th>\n",
       "      <td>doctr</td>\n",
       "      <td>541</td>\n",
       "      <td>[{'item_id': '300', 'item_name': 'Day of Defea...</td>\n",
       "      <td>[300, 20, 50, 70, 130, 10, 30, 40, 60, 80, 100...</td>\n",
       "    </tr>\n",
       "    <tr>\n",
       "      <th>5</th>\n",
       "      <td>MinxIsBetterThanPotatoes</td>\n",
       "      <td>371</td>\n",
       "      <td>[{'item_id': '50', 'item_name': 'Half-Life: Op...</td>\n",
       "      <td>[50, 240, 320, 4000, 6570, 220, 340, 360, 380,...</td>\n",
       "    </tr>\n",
       "    <tr>\n",
       "      <th>6</th>\n",
       "      <td>NitemarePK</td>\n",
       "      <td>304</td>\n",
       "      <td>[{'item_id': '240', 'item_name': 'Counter-Stri...</td>\n",
       "      <td>[240, 3830, 4000, 320, 340, 9180, 12900, 20, 5...</td>\n",
       "    </tr>\n",
       "    <tr>\n",
       "      <th>7</th>\n",
       "      <td>themanwich</td>\n",
       "      <td>258</td>\n",
       "      <td>[{'item_id': '220', 'item_name': 'Half-Life 2'...</td>\n",
       "      <td>[220, 340, 320, 360, 380, 4000, 6860, 7670, 40...</td>\n",
       "    </tr>\n",
       "    <tr>\n",
       "      <th>8</th>\n",
       "      <td>maplemage</td>\n",
       "      <td>629</td>\n",
       "      <td>[{'item_id': '240', 'item_name': 'Counter-Stri...</td>\n",
       "      <td>[240, 300, 320, 340, 1200, 1230, 1280, 2100, 2...</td>\n",
       "    </tr>\n",
       "    <tr>\n",
       "      <th>9</th>\n",
       "      <td>Wackky</td>\n",
       "      <td>0</td>\n",
       "      <td>[]</td>\n",
       "      <td>[]</td>\n",
       "    </tr>\n",
       "  </tbody>\n",
       "</table>\n",
       "</div>"
      ],
      "text/plain": [
       "                    user_id  items_count  \\\n",
       "0         76561197970982479          277   \n",
       "1                   js41637          888   \n",
       "2                 evcentric          137   \n",
       "3                Riot-Punch          328   \n",
       "4                     doctr          541   \n",
       "5  MinxIsBetterThanPotatoes          371   \n",
       "6                NitemarePK          304   \n",
       "7                themanwich          258   \n",
       "8                 maplemage          629   \n",
       "9                    Wackky            0   \n",
       "\n",
       "                                               items  \\\n",
       "0  [{'item_id': '10', 'item_name': 'Counter-Strik...   \n",
       "1  [{'item_id': '10', 'item_name': 'Counter-Strik...   \n",
       "2  [{'item_id': '1200', 'item_name': 'Red Orchest...   \n",
       "3  [{'item_id': '10', 'item_name': 'Counter-Strik...   \n",
       "4  [{'item_id': '300', 'item_name': 'Day of Defea...   \n",
       "5  [{'item_id': '50', 'item_name': 'Half-Life: Op...   \n",
       "6  [{'item_id': '240', 'item_name': 'Counter-Stri...   \n",
       "7  [{'item_id': '220', 'item_name': 'Half-Life 2'...   \n",
       "8  [{'item_id': '240', 'item_name': 'Counter-Stri...   \n",
       "9                                                 []   \n",
       "\n",
       "                                             item_id  \n",
       "0  [10, 20, 30, 40, 50, 60, 70, 130, 300, 240, 38...  \n",
       "1  [10, 80, 100, 300, 30, 40, 60, 240, 280, 360, ...  \n",
       "2  [1200, 1230, 1280, 1520, 220, 320, 340, 360, 3...  \n",
       "3  [10, 20, 30, 40, 50, 60, 70, 130, 80, 100, 300...  \n",
       "4  [300, 20, 50, 70, 130, 10, 30, 40, 60, 80, 100...  \n",
       "5  [50, 240, 320, 4000, 6570, 220, 340, 360, 380,...  \n",
       "6  [240, 3830, 4000, 320, 340, 9180, 12900, 20, 5...  \n",
       "7  [220, 340, 320, 360, 380, 4000, 6860, 7670, 40...  \n",
       "8  [240, 300, 320, 340, 1200, 1230, 1280, 2100, 2...  \n",
       "9                                                 []  "
      ]
     },
     "execution_count": 9,
     "metadata": {},
     "output_type": "execute_result"
    }
   ],
   "source": [
    "# Create column with item ids\n",
    "useritems[\"item_id\"] = useritems[\"items\"].apply(\n",
    "    lambda x: [x[index][\"item_id\"] for index, _ in enumerate(x)]\n",
    ")\n",
    "useritems[[\"user_id\", \"items_count\", \"items\", \"item_id\"]].head(10)\n",
    "# useritems.head(10)\n"
   ]
  },
  {
   "cell_type": "markdown",
   "metadata": {},
   "source": [
    "As the unique user `steam_id` is a large integer, we will replace it with a new `uid` counter, which starts at 0 and increments by 1 (like the index).\n",
    "\n",
    "We will also only select the relevant columns for the purpose of building a user-item interactions matrix, namely the newly created user id `uid` and the `item_id`."
   ]
  },
  {
   "cell_type": "code",
   "execution_count": 10,
   "metadata": {},
   "outputs": [
    {
     "data": {
      "text/html": [
       "<div>\n",
       "<style scoped>\n",
       "    .dataframe tbody tr th:only-of-type {\n",
       "        vertical-align: middle;\n",
       "    }\n",
       "\n",
       "    .dataframe tbody tr th {\n",
       "        vertical-align: top;\n",
       "    }\n",
       "\n",
       "    .dataframe thead th {\n",
       "        text-align: right;\n",
       "    }\n",
       "</style>\n",
       "<table border=\"1\" class=\"dataframe\">\n",
       "  <thead>\n",
       "    <tr style=\"text-align: right;\">\n",
       "      <th></th>\n",
       "      <th>uid</th>\n",
       "      <th>item_id</th>\n",
       "    </tr>\n",
       "  </thead>\n",
       "  <tbody>\n",
       "    <tr>\n",
       "      <th>0</th>\n",
       "      <td>0</td>\n",
       "      <td>[10, 20, 30, 40, 50, 60, 70, 130, 300, 240, 38...</td>\n",
       "    </tr>\n",
       "    <tr>\n",
       "      <th>1</th>\n",
       "      <td>1</td>\n",
       "      <td>[10, 80, 100, 300, 30, 40, 60, 240, 280, 360, ...</td>\n",
       "    </tr>\n",
       "    <tr>\n",
       "      <th>2</th>\n",
       "      <td>2</td>\n",
       "      <td>[1200, 1230, 1280, 1520, 220, 320, 340, 360, 3...</td>\n",
       "    </tr>\n",
       "    <tr>\n",
       "      <th>3</th>\n",
       "      <td>3</td>\n",
       "      <td>[10, 20, 30, 40, 50, 60, 70, 130, 80, 100, 300...</td>\n",
       "    </tr>\n",
       "    <tr>\n",
       "      <th>4</th>\n",
       "      <td>4</td>\n",
       "      <td>[300, 20, 50, 70, 130, 10, 30, 40, 60, 80, 100...</td>\n",
       "    </tr>\n",
       "  </tbody>\n",
       "</table>\n",
       "</div>"
      ],
      "text/plain": [
       "   uid                                            item_id\n",
       "0    0  [10, 20, 30, 40, 50, 60, 70, 130, 300, 240, 38...\n",
       "1    1  [10, 80, 100, 300, 30, 40, 60, 240, 280, 360, ...\n",
       "2    2  [1200, 1230, 1280, 1520, 220, 320, 340, 360, 3...\n",
       "3    3  [10, 20, 30, 40, 50, 60, 70, 130, 80, 100, 300...\n",
       "4    4  [300, 20, 50, 70, 130, 10, 30, 40, 60, 80, 100..."
      ]
     },
     "execution_count": 10,
     "metadata": {},
     "output_type": "execute_result"
    }
   ],
   "source": [
    "# Add a column with substitute user_id, counter\n",
    "useritems[\"uid\"] = np.arange(len(useritems))\n",
    "\n",
    "# Take relevant columns\n",
    "useritems = useritems[[\"uid\", \"item_id\"]]\n",
    "\n",
    "# Check\n",
    "useritems.head()\n"
   ]
  },
  {
   "cell_type": "markdown",
   "metadata": {},
   "source": [
    "The next step is to explode the `item_id` into seperate rows, so each user-item interaction has it's own row."
   ]
  },
  {
   "cell_type": "code",
   "execution_count": 11,
   "metadata": {},
   "outputs": [
    {
     "data": {
      "text/html": [
       "<div>\n",
       "<style scoped>\n",
       "    .dataframe tbody tr th:only-of-type {\n",
       "        vertical-align: middle;\n",
       "    }\n",
       "\n",
       "    .dataframe tbody tr th {\n",
       "        vertical-align: top;\n",
       "    }\n",
       "\n",
       "    .dataframe thead th {\n",
       "        text-align: right;\n",
       "    }\n",
       "</style>\n",
       "<table border=\"1\" class=\"dataframe\">\n",
       "  <thead>\n",
       "    <tr style=\"text-align: right;\">\n",
       "      <th></th>\n",
       "      <th>uid</th>\n",
       "      <th>item_id</th>\n",
       "    </tr>\n",
       "  </thead>\n",
       "  <tbody>\n",
       "    <tr>\n",
       "      <th>0</th>\n",
       "      <td>0</td>\n",
       "      <td>10</td>\n",
       "    </tr>\n",
       "    <tr>\n",
       "      <th>1</th>\n",
       "      <td>0</td>\n",
       "      <td>20</td>\n",
       "    </tr>\n",
       "    <tr>\n",
       "      <th>2</th>\n",
       "      <td>0</td>\n",
       "      <td>30</td>\n",
       "    </tr>\n",
       "    <tr>\n",
       "      <th>3</th>\n",
       "      <td>0</td>\n",
       "      <td>40</td>\n",
       "    </tr>\n",
       "    <tr>\n",
       "      <th>4</th>\n",
       "      <td>0</td>\n",
       "      <td>50</td>\n",
       "    </tr>\n",
       "    <tr>\n",
       "      <th>...</th>\n",
       "      <td>...</td>\n",
       "      <td>...</td>\n",
       "    </tr>\n",
       "    <tr>\n",
       "      <th>2774489</th>\n",
       "      <td>29999</td>\n",
       "      <td>239140</td>\n",
       "    </tr>\n",
       "    <tr>\n",
       "      <th>2774490</th>\n",
       "      <td>29999</td>\n",
       "      <td>730</td>\n",
       "    </tr>\n",
       "    <tr>\n",
       "      <th>2774491</th>\n",
       "      <td>29999</td>\n",
       "      <td>355840</td>\n",
       "    </tr>\n",
       "    <tr>\n",
       "      <th>2774492</th>\n",
       "      <td>29999</td>\n",
       "      <td>366844</td>\n",
       "    </tr>\n",
       "    <tr>\n",
       "      <th>2774493</th>\n",
       "      <td>29999</td>\n",
       "      <td>311210</td>\n",
       "    </tr>\n",
       "  </tbody>\n",
       "</table>\n",
       "<p>2774494 rows × 2 columns</p>\n",
       "</div>"
      ],
      "text/plain": [
       "           uid item_id\n",
       "0            0      10\n",
       "1            0      20\n",
       "2            0      30\n",
       "3            0      40\n",
       "4            0      50\n",
       "...        ...     ...\n",
       "2774489  29999  239140\n",
       "2774490  29999     730\n",
       "2774491  29999  355840\n",
       "2774492  29999  366844\n",
       "2774493  29999  311210\n",
       "\n",
       "[2774494 rows x 2 columns]"
      ]
     },
     "execution_count": 11,
     "metadata": {},
     "output_type": "execute_result"
    }
   ],
   "source": [
    "# Explode item_ids into seperate rows\n",
    "lst_col = \"item_id\"\n",
    "useritems = pd.DataFrame(\n",
    "    {\n",
    "        col: np.repeat(useritems[col].values, useritems[lst_col].str.len())\n",
    "        for col in useritems.columns.difference([lst_col])\n",
    "    }\n",
    ").assign(**{lst_col: np.concatenate(useritems[lst_col].values)})[\n",
    "    useritems.columns.tolist()\n",
    "]\n",
    "useritems\n"
   ]
  },
  {
   "cell_type": "markdown",
   "metadata": {},
   "source": [
    "Add a binary column `owned` which will have 1s everywhere, as only items owned appear in the DataFrame."
   ]
  },
  {
   "cell_type": "code",
   "execution_count": 12,
   "metadata": {
    "scrolled": false
   },
   "outputs": [
    {
     "data": {
      "text/html": [
       "<div>\n",
       "<style scoped>\n",
       "    .dataframe tbody tr th:only-of-type {\n",
       "        vertical-align: middle;\n",
       "    }\n",
       "\n",
       "    .dataframe tbody tr th {\n",
       "        vertical-align: top;\n",
       "    }\n",
       "\n",
       "    .dataframe thead th {\n",
       "        text-align: right;\n",
       "    }\n",
       "</style>\n",
       "<table border=\"1\" class=\"dataframe\">\n",
       "  <thead>\n",
       "    <tr style=\"text-align: right;\">\n",
       "      <th></th>\n",
       "      <th>uid</th>\n",
       "      <th>item_id</th>\n",
       "      <th>owned</th>\n",
       "    </tr>\n",
       "  </thead>\n",
       "  <tbody>\n",
       "    <tr>\n",
       "      <th>0</th>\n",
       "      <td>0</td>\n",
       "      <td>10</td>\n",
       "      <td>1.0</td>\n",
       "    </tr>\n",
       "    <tr>\n",
       "      <th>1</th>\n",
       "      <td>0</td>\n",
       "      <td>20</td>\n",
       "      <td>1.0</td>\n",
       "    </tr>\n",
       "    <tr>\n",
       "      <th>2</th>\n",
       "      <td>0</td>\n",
       "      <td>30</td>\n",
       "      <td>1.0</td>\n",
       "    </tr>\n",
       "    <tr>\n",
       "      <th>3</th>\n",
       "      <td>0</td>\n",
       "      <td>40</td>\n",
       "      <td>1.0</td>\n",
       "    </tr>\n",
       "    <tr>\n",
       "      <th>4</th>\n",
       "      <td>0</td>\n",
       "      <td>50</td>\n",
       "      <td>1.0</td>\n",
       "    </tr>\n",
       "  </tbody>\n",
       "</table>\n",
       "</div>"
      ],
      "text/plain": [
       "   uid item_id  owned\n",
       "0    0      10    1.0\n",
       "1    0      20    1.0\n",
       "2    0      30    1.0\n",
       "3    0      40    1.0\n",
       "4    0      50    1.0"
      ]
     },
     "execution_count": 12,
     "metadata": {},
     "output_type": "execute_result"
    }
   ],
   "source": [
    "# Add binary owned column\n",
    "useritems[\"owned\"] = np.ones(shape=useritems.shape[0])\n",
    "\n",
    "# Check\n",
    "useritems.head()\n"
   ]
  },
  {
   "cell_type": "code",
   "execution_count": 13,
   "metadata": {
    "scrolled": true
   },
   "outputs": [
    {
     "data": {
      "text/plain": [
       "2774494"
      ]
     },
     "execution_count": 13,
     "metadata": {},
     "output_type": "execute_result"
    }
   ],
   "source": [
    "len(useritems)\n"
   ]
  },
  {
   "cell_type": "markdown",
   "metadata": {},
   "source": [
    "We note that we have individual user-item relationships represented in our DataFrame."
   ]
  },
  {
   "cell_type": "markdown",
   "metadata": {},
   "source": [
    "We want to restrict ourselves to user-item relationships where the item is in the first `gamesdata` DataFrame to be able to extract relevant information such as genre. \n",
    "\n",
    "We will ensure that the DataFrames can be merged on the game `id` feature by changing the type and column name."
   ]
  },
  {
   "cell_type": "code",
   "execution_count": 14,
   "metadata": {},
   "outputs": [],
   "source": [
    "# Change item_id to int\n",
    "useritems[\"item_id\"] = useritems[\"item_id\"].astype(int)\n",
    "\n",
    "# Rename column to match\n",
    "useritems = useritems.rename(columns={\"item_id\": \"id\"})\n"
   ]
  },
  {
   "cell_type": "markdown",
   "metadata": {},
   "source": [
    "We can now merge the DataFrames."
   ]
  },
  {
   "cell_type": "code",
   "execution_count": 15,
   "metadata": {
    "scrolled": true
   },
   "outputs": [
    {
     "data": {
      "text/html": [
       "<div>\n",
       "<style scoped>\n",
       "    .dataframe tbody tr th:only-of-type {\n",
       "        vertical-align: middle;\n",
       "    }\n",
       "\n",
       "    .dataframe tbody tr th {\n",
       "        vertical-align: top;\n",
       "    }\n",
       "\n",
       "    .dataframe thead th {\n",
       "        text-align: right;\n",
       "    }\n",
       "</style>\n",
       "<table border=\"1\" class=\"dataframe\">\n",
       "  <thead>\n",
       "    <tr style=\"text-align: right;\">\n",
       "      <th></th>\n",
       "      <th>uid</th>\n",
       "      <th>title</th>\n",
       "      <th>genres</th>\n",
       "      <th>release_date</th>\n",
       "      <th>tags</th>\n",
       "      <th>price</th>\n",
       "      <th>metascore</th>\n",
       "    </tr>\n",
       "  </thead>\n",
       "  <tbody>\n",
       "    <tr>\n",
       "      <th>0</th>\n",
       "      <td>0</td>\n",
       "      <td>Counter-Strike</td>\n",
       "      <td>[Action]</td>\n",
       "      <td>2000-11-01</td>\n",
       "      <td>[Action, FPS, Multiplayer, Shooter, Classic, T...</td>\n",
       "      <td>9.99</td>\n",
       "      <td>88</td>\n",
       "    </tr>\n",
       "    <tr>\n",
       "      <th>1</th>\n",
       "      <td>1</td>\n",
       "      <td>Counter-Strike</td>\n",
       "      <td>[Action]</td>\n",
       "      <td>2000-11-01</td>\n",
       "      <td>[Action, FPS, Multiplayer, Shooter, Classic, T...</td>\n",
       "      <td>9.99</td>\n",
       "      <td>88</td>\n",
       "    </tr>\n",
       "    <tr>\n",
       "      <th>2</th>\n",
       "      <td>3</td>\n",
       "      <td>Counter-Strike</td>\n",
       "      <td>[Action]</td>\n",
       "      <td>2000-11-01</td>\n",
       "      <td>[Action, FPS, Multiplayer, Shooter, Classic, T...</td>\n",
       "      <td>9.99</td>\n",
       "      <td>88</td>\n",
       "    </tr>\n",
       "    <tr>\n",
       "      <th>3</th>\n",
       "      <td>4</td>\n",
       "      <td>Counter-Strike</td>\n",
       "      <td>[Action]</td>\n",
       "      <td>2000-11-01</td>\n",
       "      <td>[Action, FPS, Multiplayer, Shooter, Classic, T...</td>\n",
       "      <td>9.99</td>\n",
       "      <td>88</td>\n",
       "    </tr>\n",
       "    <tr>\n",
       "      <th>4</th>\n",
       "      <td>10</td>\n",
       "      <td>Counter-Strike</td>\n",
       "      <td>[Action]</td>\n",
       "      <td>2000-11-01</td>\n",
       "      <td>[Action, FPS, Multiplayer, Shooter, Classic, T...</td>\n",
       "      <td>9.99</td>\n",
       "      <td>88</td>\n",
       "    </tr>\n",
       "  </tbody>\n",
       "</table>\n",
       "</div>"
      ],
      "text/plain": [
       "   uid           title    genres release_date  \\\n",
       "0    0  Counter-Strike  [Action]   2000-11-01   \n",
       "1    1  Counter-Strike  [Action]   2000-11-01   \n",
       "2    3  Counter-Strike  [Action]   2000-11-01   \n",
       "3    4  Counter-Strike  [Action]   2000-11-01   \n",
       "4   10  Counter-Strike  [Action]   2000-11-01   \n",
       "\n",
       "                                                tags price metascore  \n",
       "0  [Action, FPS, Multiplayer, Shooter, Classic, T...  9.99        88  \n",
       "1  [Action, FPS, Multiplayer, Shooter, Classic, T...  9.99        88  \n",
       "2  [Action, FPS, Multiplayer, Shooter, Classic, T...  9.99        88  \n",
       "3  [Action, FPS, Multiplayer, Shooter, Classic, T...  9.99        88  \n",
       "4  [Action, FPS, Multiplayer, Shooter, Classic, T...  9.99        88  "
      ]
     },
     "execution_count": 15,
     "metadata": {},
     "output_type": "execute_result"
    }
   ],
   "source": [
    "# Merge useritems and games data dataframes\n",
    "alldata = pd.merge(useritems, df, on=\"id\")\n",
    "alldata.head()\n",
    "    \n",
    "alldata[[\"uid\", \"title\", \"genres\", \"release_date\", \"tags\", \"price\", \"metascore\"]].head()"
   ]
  },
  {
   "cell_type": "code",
   "execution_count": 16,
   "metadata": {
    "scrolled": false
   },
   "outputs": [
    {
     "data": {
      "text/plain": [
       "2327166"
      ]
     },
     "execution_count": 16,
     "metadata": {},
     "output_type": "execute_result"
    }
   ],
   "source": [
    "len(alldata)\n"
   ]
  },
  {
   "cell_type": "code",
   "execution_count": 17,
   "metadata": {
    "scrolled": false
   },
   "outputs": [
    {
     "data": {
      "text/html": [
       "<div>\n",
       "<style scoped>\n",
       "    .dataframe tbody tr th:only-of-type {\n",
       "        vertical-align: middle;\n",
       "    }\n",
       "\n",
       "    .dataframe tbody tr th {\n",
       "        vertical-align: top;\n",
       "    }\n",
       "\n",
       "    .dataframe thead th {\n",
       "        text-align: right;\n",
       "    }\n",
       "</style>\n",
       "<table border=\"1\" class=\"dataframe\">\n",
       "  <thead>\n",
       "    <tr style=\"text-align: right;\">\n",
       "      <th></th>\n",
       "      <th>uid</th>\n",
       "      <th>genres</th>\n",
       "      <th>title</th>\n",
       "      <th>release_date</th>\n",
       "      <th>tags</th>\n",
       "      <th>specs</th>\n",
       "      <th>price</th>\n",
       "      <th>sentiment</th>\n",
       "      <th>metascore</th>\n",
       "    </tr>\n",
       "  </thead>\n",
       "  <tbody>\n",
       "    <tr>\n",
       "      <th>2266547</th>\n",
       "      <td>6022</td>\n",
       "      <td>[Action, Indie]</td>\n",
       "      <td>Pineapple Smash Crew</td>\n",
       "      <td>2012-02-02</td>\n",
       "      <td>[Indie, Action, Rogue-like, Twin Stick Shooter]</td>\n",
       "      <td>[Single-player]</td>\n",
       "      <td>9.99</td>\n",
       "      <td>Very Positive</td>\n",
       "      <td>62</td>\n",
       "    </tr>\n",
       "    <tr>\n",
       "      <th>1306846</th>\n",
       "      <td>7893</td>\n",
       "      <td>[Action, Free to Play, Indie]</td>\n",
       "      <td>Loadout</td>\n",
       "      <td>2014-01-31</td>\n",
       "      <td>[Free to Play, Third-Person Shooter, Action, G...</td>\n",
       "      <td>[Multi-player, Co-op, Steam Achievements, Stea...</td>\n",
       "      <td>Free to Play</td>\n",
       "      <td>Very Positive</td>\n",
       "      <td>72</td>\n",
       "    </tr>\n",
       "    <tr>\n",
       "      <th>634342</th>\n",
       "      <td>10305</td>\n",
       "      <td>[Action]</td>\n",
       "      <td>DOOM</td>\n",
       "      <td>2016-05-12</td>\n",
       "      <td>[FPS, Action, Gore, Demons, Shooter, First-Per...</td>\n",
       "      <td>[Single-player, Multi-player, Co-op, Steam Ach...</td>\n",
       "      <td>29.99</td>\n",
       "      <td>Very Positive</td>\n",
       "      <td>85</td>\n",
       "    </tr>\n",
       "    <tr>\n",
       "      <th>1518389</th>\n",
       "      <td>16956</td>\n",
       "      <td>[Action, Free to Play, Indie, Massively Multip...</td>\n",
       "      <td>Robocraft</td>\n",
       "      <td>2017-08-24</td>\n",
       "      <td>[Free to Play, Robots, Building, Multiplayer, ...</td>\n",
       "      <td>[Multi-player, Online Multi-Player, MMO, Onlin...</td>\n",
       "      <td>Free to Play</td>\n",
       "      <td>Mostly Positive</td>\n",
       "      <td>NaN</td>\n",
       "    </tr>\n",
       "    <tr>\n",
       "      <th>1634197</th>\n",
       "      <td>25282</td>\n",
       "      <td>[Action]</td>\n",
       "      <td>Grand Theft Auto: Vice City</td>\n",
       "      <td>2003-05-13</td>\n",
       "      <td>[Open World, Action, 1980s, Classic, Great Sou...</td>\n",
       "      <td>[Single-player, Partial Controller Support]</td>\n",
       "      <td>9.99</td>\n",
       "      <td>Very Positive</td>\n",
       "      <td>94</td>\n",
       "    </tr>\n",
       "  </tbody>\n",
       "</table>\n",
       "</div>"
      ],
      "text/plain": [
       "           uid                                             genres  \\\n",
       "2266547   6022                                    [Action, Indie]   \n",
       "1306846   7893                      [Action, Free to Play, Indie]   \n",
       "634342   10305                                           [Action]   \n",
       "1518389  16956  [Action, Free to Play, Indie, Massively Multip...   \n",
       "1634197  25282                                           [Action]   \n",
       "\n",
       "                               title release_date  \\\n",
       "2266547         Pineapple Smash Crew   2012-02-02   \n",
       "1306846                      Loadout   2014-01-31   \n",
       "634342                          DOOM   2016-05-12   \n",
       "1518389                    Robocraft   2017-08-24   \n",
       "1634197  Grand Theft Auto: Vice City   2003-05-13   \n",
       "\n",
       "                                                      tags  \\\n",
       "2266547    [Indie, Action, Rogue-like, Twin Stick Shooter]   \n",
       "1306846  [Free to Play, Third-Person Shooter, Action, G...   \n",
       "634342   [FPS, Action, Gore, Demons, Shooter, First-Per...   \n",
       "1518389  [Free to Play, Robots, Building, Multiplayer, ...   \n",
       "1634197  [Open World, Action, 1980s, Classic, Great Sou...   \n",
       "\n",
       "                                                     specs         price  \\\n",
       "2266547                                    [Single-player]          9.99   \n",
       "1306846  [Multi-player, Co-op, Steam Achievements, Stea...  Free to Play   \n",
       "634342   [Single-player, Multi-player, Co-op, Steam Ach...         29.99   \n",
       "1518389  [Multi-player, Online Multi-Player, MMO, Onlin...  Free to Play   \n",
       "1634197        [Single-player, Partial Controller Support]          9.99   \n",
       "\n",
       "               sentiment metascore  \n",
       "2266547    Very Positive        62  \n",
       "1306846    Very Positive        72  \n",
       "634342     Very Positive        85  \n",
       "1518389  Mostly Positive       NaN  \n",
       "1634197    Very Positive        94  "
      ]
     },
     "execution_count": 17,
     "metadata": {},
     "output_type": "execute_result"
    }
   ],
   "source": [
    "# Drop entries with no title\n",
    "datawithnames = alldata.dropna(axis=0, subset=[\"title\"])\n",
    "datawithnames[\n",
    "    [\"uid\", \"genres\", \"title\", \"release_date\", \"tags\", \"specs\", \"price\", \"sentiment\", \"metascore\"]\n",
    "].sample(5)\n",
    "\n",
    "# datawithnames.columns\n"
   ]
  },
  {
   "cell_type": "code",
   "execution_count": 18,
   "metadata": {
    "scrolled": false
   },
   "outputs": [
    {
     "data": {
      "text/plain": [
       "2287374"
      ]
     },
     "execution_count": 18,
     "metadata": {},
     "output_type": "execute_result"
    }
   ],
   "source": [
    "len(datawithnames)\n"
   ]
  },
  {
   "cell_type": "markdown",
   "metadata": {},
   "source": [
    "We will save this DataFrame as a `csv` file to conduct data exploration and gain statistics."
   ]
  },
  {
   "cell_type": "code",
   "execution_count": 19,
   "metadata": {},
   "outputs": [],
   "source": [
    "# Save to csv\n",
    "datawithnames.to_csv(\"mergeddata.csv\")\n"
   ]
  },
  {
   "cell_type": "markdown",
   "metadata": {},
   "source": [
    "Finally, let us extract the relevant columns for our user-item interactions matrix."
   ]
  },
  {
   "cell_type": "code",
   "execution_count": 20,
   "metadata": {
    "scrolled": true
   },
   "outputs": [
    {
     "data": {
      "text/html": [
       "<div>\n",
       "<style scoped>\n",
       "    .dataframe tbody tr th:only-of-type {\n",
       "        vertical-align: middle;\n",
       "    }\n",
       "\n",
       "    .dataframe tbody tr th {\n",
       "        vertical-align: top;\n",
       "    }\n",
       "\n",
       "    .dataframe thead th {\n",
       "        text-align: right;\n",
       "    }\n",
       "</style>\n",
       "<table border=\"1\" class=\"dataframe\">\n",
       "  <thead>\n",
       "    <tr style=\"text-align: right;\">\n",
       "      <th></th>\n",
       "      <th>uid</th>\n",
       "      <th>id</th>\n",
       "      <th>owned</th>\n",
       "    </tr>\n",
       "  </thead>\n",
       "  <tbody>\n",
       "    <tr>\n",
       "      <th>0</th>\n",
       "      <td>0</td>\n",
       "      <td>10</td>\n",
       "      <td>1.0</td>\n",
       "    </tr>\n",
       "    <tr>\n",
       "      <th>1</th>\n",
       "      <td>1</td>\n",
       "      <td>10</td>\n",
       "      <td>1.0</td>\n",
       "    </tr>\n",
       "    <tr>\n",
       "      <th>2</th>\n",
       "      <td>3</td>\n",
       "      <td>10</td>\n",
       "      <td>1.0</td>\n",
       "    </tr>\n",
       "    <tr>\n",
       "      <th>3</th>\n",
       "      <td>4</td>\n",
       "      <td>10</td>\n",
       "      <td>1.0</td>\n",
       "    </tr>\n",
       "    <tr>\n",
       "      <th>4</th>\n",
       "      <td>10</td>\n",
       "      <td>10</td>\n",
       "      <td>1.0</td>\n",
       "    </tr>\n",
       "  </tbody>\n",
       "</table>\n",
       "</div>"
      ],
      "text/plain": [
       "   uid  id  owned\n",
       "0    0  10    1.0\n",
       "1    1  10    1.0\n",
       "2    3  10    1.0\n",
       "3    4  10    1.0\n",
       "4   10  10    1.0"
      ]
     },
     "execution_count": 20,
     "metadata": {},
     "output_type": "execute_result"
    }
   ],
   "source": [
    "# Get relevant columns for recommendation engine\n",
    "recdata = datawithnames[[\"uid\", \"id\", \"owned\"]]\n",
    "recdata.head()\n"
   ]
  },
  {
   "cell_type": "code",
   "execution_count": 21,
   "metadata": {},
   "outputs": [],
   "source": [
    "# Save to csv\n",
    "recdata.to_csv(\"recdata.csv\")\n"
   ]
  }
 ],
 "metadata": {
  "kernelspec": {
   "display_name": "Python 3",
   "language": "python",
   "name": "python3"
  },
  "language_info": {
   "codemirror_mode": {
    "name": "ipython",
    "version": 3
   },
   "file_extension": ".py",
   "mimetype": "text/x-python",
   "name": "python",
   "nbconvert_exporter": "python",
   "pygments_lexer": "ipython3",
   "version": "3.8.10"
  },
  "toc": {
   "base_numbering": 1,
   "nav_menu": {},
   "number_sections": true,
   "sideBar": true,
   "skip_h1_title": true,
   "title_cell": "Table of Contents",
   "title_sidebar": "Contents",
   "toc_cell": false,
   "toc_position": {},
   "toc_section_display": true,
   "toc_window_display": true
  },
  "vscode": {
   "interpreter": {
    "hash": "916dbcbb3f70747c44a77c7bcd40155683ae19c65e1c03b4aa3499c5328201f1"
   }
  }
 },
 "nbformat": 4,
 "nbformat_minor": 2
}
